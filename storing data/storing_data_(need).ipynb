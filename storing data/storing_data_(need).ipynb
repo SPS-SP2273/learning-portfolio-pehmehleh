{
 "cells": [
  {
   "attachments": {},
   "cell_type": "markdown",
   "id": "123456",
   "metadata": {},
   "source": [
    "<div style=\"text-align:left;font-size:2em\"><span style=\"font-weight:bolder;font-size:1.25em\">SP2273 | Learning Portfolio</span><br><br><span style=\"font-weight:bold;color:darkred\">Storing Data (Need)</span></div>"
   ]
  },
  {
   "attachments": {},
   "cell_type": "markdown",
   "id": "b41608aa",
   "metadata": {},
   "source": [
    "# What to expect in this chapter"
   ]
  },
  {
   "cell_type": "markdown",
   "id": "ef50b660-2687-4d0f-8020-44443f300735",
   "metadata": {},
   "source": [
    "1. lists\n",
    "2. numpy arrays\n",
    "3. dicts\n",
    "4. tuples\n",
    "5. dataframes: in the Data Processing basket in Applications part\n",
    "6. classes: in the Nice chapter"
   ]
  },
  {
   "attachments": {},
   "cell_type": "markdown",
   "id": "b85518f8",
   "metadata": {},
   "source": [
    "# 1 Lists, Arrays & Dictionaries"
   ]
  },
  {
   "attachments": {},
   "cell_type": "markdown",
   "id": "9c48089d",
   "metadata": {},
   "source": [
    "## 1.1 Let’s compare"
   ]
  },
  {
   "cell_type": "code",
   "execution_count": 92,
   "id": "427dffe5-32cf-4837-a5d8-cd9b2c9694fa",
   "metadata": {},
   "outputs": [
    {
     "name": "stdout",
     "output_type": "stream",
     "text": [
      "['apple', 'orange', 'mango']\n",
      "apple\n"
     ]
    }
   ],
   "source": [
    "#python lists\n",
    "py_list = [\"apple\", \"orange\", \"mango\"]\n",
    "print(py_list)\n",
    "print(py_list[0])"
   ]
  },
  {
   "cell_type": "code",
   "execution_count": 93,
   "id": "6012ee51-5950-4a11-8b96-e425c53b3225",
   "metadata": {},
   "outputs": [
    {
     "name": "stdout",
     "output_type": "stream",
     "text": [
      "['apple' 'orange' 'mango']\n",
      "orange\n"
     ]
    }
   ],
   "source": [
    "import numpy\n",
    "\n",
    "#numpy arrays - must put a bracket outside the sq brackets\n",
    "np_list = numpy.array([\"apple\", \"orange\", \"mango\"])\n",
    "print(np_list)\n",
    "print(np_list[1])"
   ]
  },
  {
   "cell_type": "code",
   "execution_count": 94,
   "id": "c89b97a0-14b6-410a-a83d-2b135e23ec9f",
   "metadata": {},
   "outputs": [
    {
     "name": "stdout",
     "output_type": "stream",
     "text": [
      "{'red': 'apple', 'orange': 'orange', 'yellow': 'mango'}\n",
      "mango\n"
     ]
    }
   ],
   "source": [
    "#dictionaries: use {\n",
    "dict = {\n",
    "    \"red\": \"apple\",\n",
    "    \"orange\": \"orange\",\n",
    "    \"yellow\": \"mango\"\n",
    "}\n",
    "print(dict)\n",
    "print(dict[\"yellow\"])"
   ]
  },
  {
   "attachments": {},
   "cell_type": "markdown",
   "id": "f9ef2bbc",
   "metadata": {},
   "source": [
    "## 1.2 Accessing data from a list (or array)"
   ]
  },
  {
   "cell_type": "markdown",
   "id": "8366fc0b-9064-41b0-855a-f8b58ad946de",
   "metadata": {},
   "source": [
    "using [], starts from 0"
   ]
  },
  {
   "cell_type": "markdown",
   "id": "4fd1547a-c6f2-46c2-a4b5-f43574bec755",
   "metadata": {},
   "source": [
    "### Reverse indexing: -1"
   ]
  },
  {
   "cell_type": "code",
   "execution_count": 95,
   "id": "9a8c312c-0411-4f89-ab9b-2c11e3846bb0",
   "metadata": {},
   "outputs": [
    {
     "name": "stdout",
     "output_type": "stream",
     "text": [
      "['apple' 'orange' 'mango']\n",
      "mango\n"
     ]
    }
   ],
   "source": [
    "np_list = numpy.array([\"apple\", \"orange\", \"mango\"])\n",
    "print(np_list)\n",
    "print(np_list[-1])"
   ]
  },
  {
   "attachments": {},
   "cell_type": "markdown",
   "id": "6057613b",
   "metadata": {},
   "source": [
    "## 1.3 Accessing data from a dictionary: printing the key to get the value"
   ]
  },
  {
   "cell_type": "code",
   "execution_count": 96,
   "id": "cb50b634-9765-48b5-ba24-6a89c96b30a6",
   "metadata": {},
   "outputs": [
    {
     "name": "stdout",
     "output_type": "stream",
     "text": [
      "{'red': 'apple', 'orange': 'orange', 'yellow': 'mango'}\n",
      "mango\n"
     ]
    }
   ],
   "source": [
    "dict = {\n",
    "    \"red\": \"apple\",\n",
    "    \"orange\": \"orange\",\n",
    "    \"yellow\": \"mango\"\n",
    "}\n",
    "print(dict)\n",
    "print(dict[\"yellow\"])"
   ]
  },
  {
   "cell_type": "markdown",
   "id": "517b6890-7bc0-4a66-bf59-4d306dc51d98",
   "metadata": {},
   "source": [
    "### accessing all the keys and values using .keys() or .values()"
   ]
  },
  {
   "cell_type": "code",
   "execution_count": 97,
   "id": "17662914-bcff-45ab-80bd-98fcb7e9e9fa",
   "metadata": {},
   "outputs": [
    {
     "name": "stdout",
     "output_type": "stream",
     "text": [
      "dict_keys(['red', 'orange', 'yellow'])\n",
      "dict_values(['apple', 'orange', 'mango'])\n"
     ]
    }
   ],
   "source": [
    "dict = {\n",
    "    \"red\": \"apple\",\n",
    "    \"orange\": \"orange\",\n",
    "    \"yellow\": \"mango\"\n",
    "}\n",
    "\n",
    "print(dict.keys())\n",
    "print(dict.values())"
   ]
  },
  {
   "attachments": {},
   "cell_type": "markdown",
   "id": "6c469c00",
   "metadata": {},
   "source": [
    "## 1.4 Higher dimensional lists - 2D lists are known as arrays"
   ]
  },
  {
   "cell_type": "markdown",
   "id": "39eb58a1-e87a-476c-b707-f57693f81654",
   "metadata": {},
   "source": [
    "- dictionary can store things tgt like real and corresponding superhero names (or colour and fruits)\n",
    "- for lists, 2 are needed\n",
    "- a workaround is to use 2D lists with [] inside a bigger []"
   ]
  },
  {
   "cell_type": "code",
   "execution_count": 98,
   "id": "fce1ef05-4404-4034-9309-ce8da0b8964f",
   "metadata": {},
   "outputs": [
    {
     "name": "stdout",
     "output_type": "stream",
     "text": [
      "['orange', 'orange']\n"
     ]
    },
    {
     "data": {
      "text/plain": [
       "3"
      ]
     },
     "execution_count": 98,
     "metadata": {},
     "output_type": "execute_result"
    }
   ],
   "source": [
    "array = [[\"red\",\"apple\"], [\"orange\", \"orange\"], [\"yellow\", \"mango\"]]\n",
    "print(array[1])\n",
    "len(array)"
   ]
  },
  {
   "attachments": {},
   "cell_type": "markdown",
   "id": "656e51de",
   "metadata": {},
   "source": [
    "# 2 Lists vs. Arrays. NOTE: can use the python 2d list (named as array) to create a new numpy array by just creating nparray = numpy.array(listname)**"
   ]
  },
  {
   "cell_type": "markdown",
   "id": "0a9cdd28-19ff-4d96-bbd0-a658d9911b1d",
   "metadata": {},
   "source": [
    "some similarities but more differences"
   ]
  },
  {
   "attachments": {},
   "cell_type": "markdown",
   "id": "76349a2e",
   "metadata": {},
   "source": [
    "## 2.1 Size eg len() and SHAPE - 2d"
   ]
  },
  {
   "cell_type": "markdown",
   "id": "655af9bc-efb4-4044-8b11-3c6d567f2055",
   "metadata": {},
   "source": [
    "- both can use len()\n",
    "**can use the python 2d list (named as array) to create a new numpy array by just creating nparray = numpy.array(listname)**"
   ]
  },
  {
   "cell_type": "code",
   "execution_count": 99,
   "id": "4cac6083-8a3e-4e3b-ab95-4aba281ef046",
   "metadata": {},
   "outputs": [
    {
     "name": "stdout",
     "output_type": "stream",
     "text": [
      "3\n",
      "3\n",
      "(3, 2)\n"
     ]
    }
   ],
   "source": [
    "import numpy\n",
    "print(len(array))\n",
    "nparray = numpy.array(array)\n",
    "print(len(nparray))\n",
    "\n",
    "#shape is a property of numpy arrays\n",
    "print(nparray.shape)"
   ]
  },
  {
   "attachments": {},
   "cell_type": "markdown",
   "id": "52ff4505",
   "metadata": {},
   "source": [
    "## 2.2 Arrays are fussy about type - only 1 type per array (int or float or str). lists more relaxed. be mindful when having datasets w both numbers and text"
   ]
  },
  {
   "cell_type": "code",
   "execution_count": 100,
   "id": "536b7846-5e3c-4e3f-84df-f65c73e9e6f8",
   "metadata": {},
   "outputs": [
    {
     "name": "stdout",
     "output_type": "stream",
     "text": [
      "[2, 10, 'A']\n",
      "['2' '10' 'A']\n",
      "12\n",
      "210\n",
      "12\n"
     ]
    }
   ],
   "source": [
    "newlist = [2, 10, \"A\"]\n",
    "newarray = numpy.array(newlist)\n",
    "print(newlist)\n",
    "print(newarray)\n",
    "print(newlist[0] + newlist[1]) #testing whether the numerical values can be added tgt. ans: yes\n",
    "print(newarray[0] + newarray[1]) #they are added as strings, \"2\" + \"10\" = \"210\"\n",
    "print(int(newarray[0]) + int(newarray[1])) #switching back to int and adding. it works."
   ]
  },
  {
   "attachments": {},
   "cell_type": "markdown",
   "id": "52b3f751",
   "metadata": {},
   "source": [
    "## 2.3 Adding a number"
   ]
  },
  {
   "cell_type": "code",
   "execution_count": 101,
   "id": "5096dd97-5b88-4f6c-a9cf-316ae473b50a",
   "metadata": {},
   "outputs": [
    {
     "name": "stdout",
     "output_type": "stream",
     "text": [
      "12\n",
      "12\n"
     ]
    }
   ],
   "source": [
    "#using the above list and array\n",
    "print(newlist[0] + 10)\n",
    "print(int(newarray[0]) + 10)\n",
    "#printing the newarray[0] + 10 returns an error."
   ]
  },
  {
   "cell_type": "code",
   "execution_count": 102,
   "id": "47ea8d08-a43f-4c27-9f65-aaa712c56b2f",
   "metadata": {},
   "outputs": [
    {
     "ename": "TypeError",
     "evalue": "can only concatenate str (not \"int\") to str",
     "output_type": "error",
     "traceback": [
      "\u001b[1;31m---------------------------------------------------------------------------\u001b[0m",
      "\u001b[1;31mTypeError\u001b[0m                                 Traceback (most recent call last)",
      "Cell \u001b[1;32mIn[102], line 1\u001b[0m\n\u001b[1;32m----> 1\u001b[0m \u001b[38;5;28mprint\u001b[39m(\u001b[43mnewarray\u001b[49m\u001b[43m[\u001b[49m\u001b[38;5;241;43m0\u001b[39;49m\u001b[43m]\u001b[49m\u001b[43m \u001b[49m\u001b[38;5;241;43m+\u001b[39;49m\u001b[43m \u001b[49m\u001b[38;5;241;43m10\u001b[39;49m) \u001b[38;5;66;03m#will not workk\u001b[39;00m\n",
      "\u001b[1;31mTypeError\u001b[0m: can only concatenate str (not \"int\") to str"
     ]
    }
   ],
   "source": [
    "print(newarray[0] + 10) #will not workk"
   ]
  },
  {
   "attachments": {},
   "cell_type": "markdown",
   "id": "61448876",
   "metadata": {},
   "source": [
    "## 2.4 Adding another list. adding lists adds elements, adding arrays does operations"
   ]
  },
  {
   "cell_type": "code",
   "execution_count": 103,
   "id": "171ba7f8-4121-4586-b7cf-2b0d18230b80",
   "metadata": {},
   "outputs": [
    {
     "name": "stdout",
     "output_type": "stream",
     "text": [
      "[10, 20, 30, 40, 50, 1, 2, 3, 4, 5]\n",
      "[11 22 33 44 55]\n"
     ]
    }
   ],
   "source": [
    "mathlist1 = [10, 20, 30, 40, 50]\n",
    "mathlist2 = [1, 2, 3, 4, 5]\n",
    "matharray1 = numpy.array(mathlist1)\n",
    "matharray2 = numpy.array(mathlist2)\n",
    "\n",
    "print(mathlist1 + mathlist2)\n",
    "print(matharray1 + matharray2)"
   ]
  },
  {
   "attachments": {},
   "cell_type": "markdown",
   "id": "8b76fbfb",
   "metadata": {},
   "source": [
    "## 2.5 Multiplying by a Number - same thing. multiplying lists adds elements, multiplying arrays does operations."
   ]
  },
  {
   "cell_type": "code",
   "execution_count": 104,
   "id": "8d82b755-9215-4526-ba97-0afe8e7576b3",
   "metadata": {},
   "outputs": [
    {
     "name": "stdout",
     "output_type": "stream",
     "text": [
      "[10, 20, 30, 40, 50, 10, 20, 30, 40, 50]\n",
      "[ 20  40  60  80 100]\n"
     ]
    }
   ],
   "source": [
    "print(mathlist1*2)\n",
    "print(matharray1*2)"
   ]
  },
  {
   "cell_type": "code",
   "execution_count": 105,
   "id": "c5e016a6-cd09-4e4e-8a3b-20883fe639b3",
   "metadata": {},
   "outputs": [
    {
     "ename": "TypeError",
     "evalue": "can't multiply sequence by non-int of type 'list'",
     "output_type": "error",
     "traceback": [
      "\u001b[1;31m---------------------------------------------------------------------------\u001b[0m",
      "\u001b[1;31mTypeError\u001b[0m                                 Traceback (most recent call last)",
      "Cell \u001b[1;32mIn[105], line 2\u001b[0m\n\u001b[0;32m      1\u001b[0m \u001b[38;5;66;03m#multiplying lists by lists does not work\u001b[39;00m\n\u001b[1;32m----> 2\u001b[0m \u001b[38;5;28mprint\u001b[39m(\u001b[43mmathlist1\u001b[49m\u001b[43m \u001b[49m\u001b[38;5;241;43m*\u001b[39;49m\u001b[43m \u001b[49m\u001b[43mmathlist2\u001b[49m)\n",
      "\u001b[1;31mTypeError\u001b[0m: can't multiply sequence by non-int of type 'list'"
     ]
    }
   ],
   "source": [
    "#multiplying lists by lists does not work\n",
    "print(mathlist1 * mathlist2)"
   ]
  },
  {
   "cell_type": "code",
   "execution_count": 106,
   "id": "c086b96e-3ed2-4dca-a0e9-344ce7c04471",
   "metadata": {},
   "outputs": [
    {
     "name": "stdout",
     "output_type": "stream",
     "text": [
      "[ 10  40  90 160 250]\n"
     ]
    }
   ],
   "source": [
    "#but multiplying arrays by arrays works!!!!\n",
    "print(matharray1 * matharray2)"
   ]
  },
  {
   "attachments": {},
   "cell_type": "markdown",
   "id": "62e12b72",
   "metadata": {},
   "source": [
    "## 2.6 Squaring"
   ]
  },
  {
   "cell_type": "code",
   "execution_count": 107,
   "id": "98499a36-d5a3-49e8-9084-4457c4802180",
   "metadata": {},
   "outputs": [
    {
     "ename": "TypeError",
     "evalue": "unsupported operand type(s) for ** or pow(): 'list' and 'list'",
     "output_type": "error",
     "traceback": [
      "\u001b[1;31m---------------------------------------------------------------------------\u001b[0m",
      "\u001b[1;31mTypeError\u001b[0m                                 Traceback (most recent call last)",
      "Cell \u001b[1;32mIn[107], line 1\u001b[0m\n\u001b[1;32m----> 1\u001b[0m \u001b[38;5;28mprint\u001b[39m(\u001b[43mmathlist2\u001b[49m\u001b[43m \u001b[49m\u001b[38;5;241;43m*\u001b[39;49m\u001b[38;5;241;43m*\u001b[39;49m\u001b[43m \u001b[49m\u001b[43mmathlist1\u001b[49m) \u001b[38;5;66;03m#will not workk\u001b[39;00m\n",
      "\u001b[1;31mTypeError\u001b[0m: unsupported operand type(s) for ** or pow(): 'list' and 'list'"
     ]
    }
   ],
   "source": [
    "print(mathlist2 ** mathlist1) #will not workk"
   ]
  },
  {
   "cell_type": "code",
   "execution_count": 108,
   "id": "ebf15811-b5f8-434a-99fb-800644eef499",
   "metadata": {},
   "outputs": [
    {
     "name": "stdout",
     "output_type": "stream",
     "text": [
      "[       10       400     27000   2560000 312500000]\n"
     ]
    }
   ],
   "source": [
    "print(matharray1 ** matharray2)"
   ]
  },
  {
   "attachments": {},
   "cell_type": "markdown",
   "id": "d47b74bd",
   "metadata": {},
   "source": [
    "## 2.7 Asking questions eg. do these values in an array, 1 by 1, satisfy a condition?"
   ]
  },
  {
   "cell_type": "code",
   "execution_count": 109,
   "id": "10d87e0f-aff7-41cb-9326-b9d7912bd566",
   "metadata": {},
   "outputs": [
    {
     "name": "stdout",
     "output_type": "stream",
     "text": [
      "[ True False False False False]\n",
      "[False  True  True  True  True]\n"
     ]
    }
   ],
   "source": [
    "print(matharray1 == 10)\n",
    "print(matharray1 > 10)"
   ]
  },
  {
   "cell_type": "code",
   "execution_count": 110,
   "id": "78eb3594-45f3-4ad6-976d-8e9d7343f92c",
   "metadata": {},
   "outputs": [
    {
     "name": "stdout",
     "output_type": "stream",
     "text": [
      "False\n"
     ]
    },
    {
     "ename": "TypeError",
     "evalue": "'>' not supported between instances of 'list' and 'int'",
     "output_type": "error",
     "traceback": [
      "\u001b[1;31m---------------------------------------------------------------------------\u001b[0m",
      "\u001b[1;31mTypeError\u001b[0m                                 Traceback (most recent call last)",
      "Cell \u001b[1;32mIn[110], line 3\u001b[0m\n\u001b[0;32m      1\u001b[0m \u001b[38;5;66;03m#no work for lists\u001b[39;00m\n\u001b[0;32m      2\u001b[0m \u001b[38;5;28mprint\u001b[39m(mathlist1 \u001b[38;5;241m==\u001b[39m \u001b[38;5;241m10\u001b[39m)\n\u001b[1;32m----> 3\u001b[0m \u001b[38;5;28mprint\u001b[39m(\u001b[43mmathlist1\u001b[49m\u001b[43m \u001b[49m\u001b[38;5;241;43m>\u001b[39;49m\u001b[43m \u001b[49m\u001b[38;5;241;43m10\u001b[39;49m)\n",
      "\u001b[1;31mTypeError\u001b[0m: '>' not supported between instances of 'list' and 'int'"
     ]
    }
   ],
   "source": [
    "#no work for lists\n",
    "print(mathlist1 == 10)\n",
    "print(mathlist1 > 10)"
   ]
  },
  {
   "attachments": {},
   "cell_type": "markdown",
   "id": "29c42fd8",
   "metadata": {},
   "source": [
    "## 2.8 Mathematics using sum(), min(), max()"
   ]
  },
  {
   "cell_type": "code",
   "execution_count": 111,
   "id": "9e92b33c-8dda-4d09-b90d-d33e2d489161",
   "metadata": {},
   "outputs": [
    {
     "name": "stdout",
     "output_type": "stream",
     "text": [
      "10\n",
      "50\n",
      "10\n",
      "50\n",
      "50\n",
      "50\n",
      "150\n",
      "150\n",
      "150\n"
     ]
    }
   ],
   "source": [
    "print(min(matharray1))\n",
    "print(max(matharray1))\n",
    "print(min(mathlist1))\n",
    "print(max(mathlist1))\n",
    "\n",
    "#for lists, put the max() functions at the front. for arrays, an alternative way is to type arrayname.max() but both works. the .max() for lists will not work\n",
    "print(max(matharray1))\n",
    "print(matharray1.max())\n",
    "print(sum(matharray1))\n",
    "print(sum(mathlist1))\n",
    "print(matharray1.sum())"
   ]
  },
  {
   "cell_type": "code",
   "execution_count": 112,
   "id": "5b565d06-f5da-405c-a596-a0c3b8d60375",
   "metadata": {},
   "outputs": [
    {
     "ename": "AttributeError",
     "evalue": "'list' object has no attribute 'sum'",
     "output_type": "error",
     "traceback": [
      "\u001b[1;31m---------------------------------------------------------------------------\u001b[0m",
      "\u001b[1;31mAttributeError\u001b[0m                            Traceback (most recent call last)",
      "Cell \u001b[1;32mIn[112], line 1\u001b[0m\n\u001b[1;32m----> 1\u001b[0m \u001b[38;5;28mprint\u001b[39m(\u001b[43mmathlist1\u001b[49m\u001b[38;5;241;43m.\u001b[39;49m\u001b[43msum\u001b[49m())  \u001b[38;5;66;03m#this format only works for arrays\u001b[39;00m\n",
      "\u001b[1;31mAttributeError\u001b[0m: 'list' object has no attribute 'sum'"
     ]
    }
   ],
   "source": [
    "print(mathlist1.sum())  #this format only works for arrays"
   ]
  },
  {
   "attachments": {},
   "cell_type": "markdown",
   "id": "f0f2068d",
   "metadata": {},
   "source": [
    "# Exercises & Self-Assessment"
   ]
  },
  {
   "cell_type": "code",
   "execution_count": 116,
   "id": "fb8c1c6a",
   "metadata": {},
   "outputs": [
    {
     "name": "stdout",
     "output_type": "stream",
     "text": [
      "[1, 2, 3, 4, 5, 6, 7, 8, 9, 10, 11]\n"
     ]
    },
    {
     "ename": "ValueError",
     "evalue": "operands could not be broadcast together with shapes (5,) (6,) ",
     "output_type": "error",
     "traceback": [
      "\u001b[1;31m---------------------------------------------------------------------------\u001b[0m",
      "\u001b[1;31mValueError\u001b[0m                                Traceback (most recent call last)",
      "Cell \u001b[1;32mIn[116], line 9\u001b[0m\n\u001b[0;32m      7\u001b[0m arrb \u001b[38;5;241m=\u001b[39m numpy\u001b[38;5;241m.\u001b[39marray(listb)\n\u001b[0;32m      8\u001b[0m \u001b[38;5;28mprint\u001b[39m(lista \u001b[38;5;241m+\u001b[39m listb)\n\u001b[1;32m----> 9\u001b[0m \u001b[38;5;28mprint\u001b[39m(\u001b[43marra\u001b[49m\u001b[43m \u001b[49m\u001b[38;5;241;43m+\u001b[39;49m\u001b[43m \u001b[49m\u001b[43marrb\u001b[49m)\n",
      "\u001b[1;31mValueError\u001b[0m: operands could not be broadcast together with shapes (5,) (6,) "
     ]
    }
   ],
   "source": [
    "# an operation on a list works on the whole list. an operation on an array works on the individual elements of the array.\n",
    "\n",
    "lista = [1, 2, 3, 4, 5]\n",
    "listb = [6, 7, 8, 9, 10, 11]\n",
    "#trying out diff sizes of lists and arrays\n",
    "arra = numpy.array(lista)\n",
    "arrb = numpy.array(listb)\n",
    "print(lista + listb) #works, just adds on\n",
    "print(arra + arrb) #error message!!!"
   ]
  },
  {
   "attachments": {},
   "cell_type": "markdown",
   "id": "ae73fb19",
   "metadata": {},
   "source": [
    "## Footnotes"
   ]
  }
 ],
 "metadata": {
  "kernelspec": {
   "display_name": "Python 3 (ipykernel)",
   "language": "python",
   "name": "python3"
  },
  "language_info": {
   "codemirror_mode": {
    "name": "ipython",
    "version": 3
   },
   "file_extension": ".py",
   "mimetype": "text/x-python",
   "name": "python",
   "nbconvert_exporter": "python",
   "pygments_lexer": "ipython3",
   "version": "3.11.5"
  },
  "toc": {
   "base_numbering": 1,
   "nav_menu": {},
   "number_sections": true,
   "sideBar": true,
   "skip_h1_title": false,
   "title_cell": "Table of Contents",
   "title_sidebar": "Contents",
   "toc_cell": false,
   "toc_position": {},
   "toc_section_display": true,
   "toc_window_display": false
  },
  "vscode": {
   "interpreter": {
    "hash": "31f2aee4e71d21fbe5cf8b01ff0e069b9275f58929596ceb00d14d90e3e16cd6"
   }
  }
 },
 "nbformat": 4,
 "nbformat_minor": 5
}
