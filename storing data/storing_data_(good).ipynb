{
 "cells": [
  {
   "attachments": {},
   "cell_type": "markdown",
   "id": "123456",
   "metadata": {},
   "source": [
    "<div style=\"text-align:left;font-size:2em\"><span style=\"font-weight:bolder;font-size:1.25em\">SP2273 | Learning Portfolio</span><br><br><span style=\"font-weight:bold;color:darkred\">Storing Data (Good)</span></div>"
   ]
  },
  {
   "attachments": {},
   "cell_type": "markdown",
   "id": "9b9cd3df",
   "metadata": {},
   "source": [
    "# What to expect in this chapter"
   ]
  },
  {
   "cell_type": "markdown",
   "id": "a14d427c-ecaf-46a2-9ce1-60a0c1da3d58",
   "metadata": {},
   "source": [
    "- prev chapter (storing data, need): lists, arrays, dicts\n",
    "- this chapter: **accessing and modifying structures** bc these things are v impt"
   ]
  },
  {
   "attachments": {},
   "cell_type": "markdown",
   "id": "46d18ba9",
   "metadata": {},
   "source": [
    "# 1 Subsetting: Indexing and Slicing"
   ]
  },
  {
   "cell_type": "markdown",
   "id": "937cd93a-d16c-49ab-bfdd-c1f708695e90",
   "metadata": {},
   "source": [
    "- **subsetting**: select a subset of data in list/array\n",
    "- **indexing**: a form of subsetting, where *single element is picked*\n",
    "- **slicing**: selecting a *range of elements*"
   ]
  },
  {
   "attachments": {},
   "cell_type": "markdown",
   "id": "aadcc564",
   "metadata": {},
   "source": [
    "## 1.1 Lists & Arrays in 1D | Subsetting & Indexing"
   ]
  },
  {
   "cell_type": "code",
   "execution_count": 1,
   "id": "18a88f42-4b93-4191-8144-efa5cd7dc4e5",
   "metadata": {},
   "outputs": [
    {
     "name": "stdout",
     "output_type": "stream",
     "text": [
      "['a1' 'b2' 'c3' 'd4' 'e5' 'f6' 'g7' 'h8' 'i9' 'j10']\n"
     ]
    }
   ],
   "source": [
    "newlist = [\"a1\", \"b2\", \"c3\", \"d4\", \"e5\", \"f6\", \"g7\", \"h8\", \"i9\", \"j10\"]\n",
    "import numpy\n",
    "newarray = numpy.array(newlist)\n",
    "print(newarray)"
   ]
  },
  {
   "cell_type": "code",
   "execution_count": 5,
   "id": "f507d850-08f6-4d33-ba8e-94f7d2485753",
   "metadata": {},
   "outputs": [
    {
     "name": "stdout",
     "output_type": "stream",
     "text": [
      "a1\n",
      "j10\n",
      "['b2' 'c3']\n"
     ]
    }
   ],
   "source": [
    "#indexing!\n",
    "x = newarray\n",
    "print(x[0])\n",
    "print(x[-1]) #last element\n",
    "print(x[1:3]) #2nd to 3rd element, NUMBER ON RIGHT IS NOT INCLUDING\n",
    "\n",
    "#NOTE: the final number eg. [1:3] ends at index 2, does not include 3.\n",
    "# so [1:3] only includes index 1, 2 which is the 2nd and 3rd item on the list"
   ]
  },
  {
   "cell_type": "code",
   "execution_count": 6,
   "id": "4d5c0620-c8ab-434f-8dc0-a34d18f9276f",
   "metadata": {},
   "outputs": [
    {
     "name": "stdout",
     "output_type": "stream",
     "text": [
      "['b2' 'd4' 'f6']\n"
     ]
    }
   ],
   "source": [
    "#increments of 2 (alternate)\n",
    "print(x[1:6:2]) #1st to 5th index meaning 2nd to 6th thing on the list, alternating"
   ]
  },
  {
   "cell_type": "code",
   "execution_count": 16,
   "id": "13c10357-f134-40ef-962e-5237f088bf5d",
   "metadata": {},
   "outputs": [
    {
     "name": "stdout",
     "output_type": "stream",
     "text": [
      "['a1' 'b2' 'c3' 'd4' 'e5' 'f6']\n",
      "['g7' 'h8' 'i9' 'j10']\n",
      "['g7' 'f6' 'e5' 'd4' 'c3' 'b2']\n",
      "[]\n",
      "['j10' 'i9' 'h8' 'g7' 'f6' 'e5' 'd4' 'c3' 'b2' 'a1']\n"
     ]
    }
   ],
   "source": [
    "#from start to somewhere in the middle:\n",
    "print(x[:6]) #does NOT include 6th pos (ie. 7th element)\n",
    "\n",
    "#from somewhere in the middle to end:\n",
    "print(x[6:]) #starts from 6th pos (ie. 7th element)\n",
    "\n",
    "#indexing in reverse\n",
    "print(x[6:0:-1])\n",
    "#note: must list from right to left, otherwise output is []\n",
    "print(x[0:6:-1]) #output is []\n",
    "\n",
    "#reversing the whole list\n",
    "print(x[::-1])"
   ]
  },
  {
   "attachments": {},
   "cell_type": "markdown",
   "id": "f4a58912",
   "metadata": {},
   "source": [
    "## 1.2 Arrays only, NOT FOR LISTS | Subsetting by masking. gives T/F"
   ]
  },
  {
   "cell_type": "code",
   "execution_count": 23,
   "id": "06af5ba5-0072-49f5-ae26-8cb11514fdaa",
   "metadata": {},
   "outputs": [
    {
     "name": "stdout",
     "output_type": "stream",
     "text": [
      "[ 1  2  3  4  5  6  7  8  9 10]\n",
      "[False False False  True  True  True  True  True  True  True]\n"
     ]
    }
   ],
   "source": [
    "y = numpy.array([1, 2, 3, 4, 5, 6, 7, 8, 9, 10])\n",
    "print(y)\n",
    "mask = y > 3 #this sets the masking condition, output is T/F\n",
    "print(mask)"
   ]
  },
  {
   "cell_type": "code",
   "execution_count": 22,
   "id": "abbcca91-ea44-433c-9058-41368f587aa9",
   "metadata": {},
   "outputs": [
    {
     "data": {
      "text/plain": [
       "array([ 4,  5,  6,  7,  8,  9, 10])"
      ]
     },
     "execution_count": 22,
     "metadata": {},
     "output_type": "execute_result"
    }
   ],
   "source": [
    "#asking numpy which of the values give out TRUE:\n",
    "y[mask] #square brackets!!!"
   ]
  },
  {
   "cell_type": "code",
   "execution_count": 25,
   "id": "37cd6cd8-4907-440c-ba77-4adadd5de6a2",
   "metadata": {},
   "outputs": [
    {
     "data": {
      "text/plain": [
       "array([ 4,  5,  6,  7,  8,  9, 10])"
      ]
     },
     "execution_count": 25,
     "metadata": {},
     "output_type": "execute_result"
    }
   ],
   "source": [
    "#shortcut for masking\n",
    "y[y > 3] #this works because the mask is just an equation/inequality"
   ]
  },
  {
   "cell_type": "code",
   "execution_count": 28,
   "id": "910877da-1302-4e55-97de-a1a5919b7173",
   "metadata": {},
   "outputs": [
    {
     "data": {
      "text/plain": [
       "array([1, 2, 3])"
      ]
     },
     "execution_count": 28,
     "metadata": {},
     "output_type": "execute_result"
    }
   ],
   "source": [
    "#inverting masks, asking for FALSE: using ~ with round brackets inside. the ~ is called Bitwise Not operator\n",
    "y[~(y>3)]"
   ]
  },
  {
   "cell_type": "code",
   "execution_count": 36,
   "id": "608dc950-9f80-4cc9-afea-dc6691271ce0",
   "metadata": {},
   "outputs": [
    {
     "name": "stdout",
     "output_type": "stream",
     "text": [
      "[]\n",
      "[5 6 7 8]\n",
      "[ 1  2  3  4  5  6  7  8  9 10]\n",
      "[ 1  9 10]\n"
     ]
    }
   ],
   "source": [
    "#combining conditions. brackets are impt\n",
    "#AND only for elements which exist that fit both, other will return empty\n",
    "print(y[(y < 2) & (y > 8)]) #returns empty\n",
    "print(y[(y > 4) & (y < 9)])\n",
    "#OR for either or. use \"|\" for OR\n",
    "print(y[(y > 4) | (y < 9)]) #this prints all elements without repeating\n",
    "print(y[(y < 2) | (y > 8)])"
   ]
  },
  {
   "attachments": {},
   "cell_type": "markdown",
   "id": "b44a1c21",
   "metadata": {},
   "source": [
    "## 1.3 Lists & Arrays in 2D | Indexing & Slicing"
   ]
  },
  {
   "cell_type": "code",
   "execution_count": 40,
   "id": "67b4236d-aa82-4398-995b-3f3dac1e8393",
   "metadata": {},
   "outputs": [
    {
     "name": "stdout",
     "output_type": "stream",
     "text": [
      "[[1, 'A'], [2, 'B'], [3, 'C'], [4, 'D'], [5, 'E'], [6, 'F'], [7, 'G'], [8, 'H'], [9, 'I'], [10, 'J']]\n",
      "[4, 'D']\n",
      "4\n",
      "D\n"
     ]
    }
   ],
   "source": [
    "list2d = [[1, \"A\"], [2, \"B\"], [3, \"C\"], [4, \"D\"], [5, \"E\"], [6, \"F\"], [7, \"G\"], [8, \"H\"], [9, \"I\"], [10, \"J\"]]\n",
    "print(list2d)\n",
    "print(list2d[3]) #index 3, pos 4\n",
    "\n",
    "#isolating 1 item from a 2D list, using another sq bracket\n",
    "print(list2d[3][0])\n",
    "print(list2d[3][1])"
   ]
  },
  {
   "cell_type": "code",
   "execution_count": 41,
   "id": "c35d7abb-affd-4291-839d-bdeae22d5dfd",
   "metadata": {},
   "outputs": [
    {
     "name": "stdout",
     "output_type": "stream",
     "text": [
      "['5' 'E']\n",
      "5\n"
     ]
    }
   ],
   "source": [
    "#if using arrays, isolating 1 item from array will use 1 pair of sq brackets\n",
    "array = numpy.array(list2d)\n",
    "print(array[4])\n",
    "print(array[4,0])"
   ]
  },
  {
   "cell_type": "code",
   "execution_count": 48,
   "id": "bc9c36f9-9b96-4f69-8f17-a666f649a618",
   "metadata": {},
   "outputs": [
    {
     "name": "stdout",
     "output_type": "stream",
     "text": [
      "5\n"
     ]
    }
   ],
   "source": [
    "print(array[4][0]) #the method for lists works for arrays too BUT for 2.3.1 (splitting into ranges then separating elements) use 1 sq bracket"
   ]
  },
  {
   "cell_type": "code",
   "execution_count": 45,
   "id": "537be81d-fd97-4ab9-b722-34571719b28d",
   "metadata": {},
   "outputs": [
    {
     "name": "stdout",
     "output_type": "stream",
     "text": [
      "[[1, 'A'], [2, 'B'], [3, 'C']]\n",
      "[['1' 'A']\n",
      " ['2' 'B']\n",
      " ['3' 'C']]\n"
     ]
    }
   ],
   "source": [
    "print(list2d[:3]) #index 0 to 2, means pos 1-3\n",
    "print(array[:3])"
   ]
  },
  {
   "cell_type": "markdown",
   "id": "50806671-001d-4069-9b47-b26cbc2d6810",
   "metadata": {},
   "source": [
    "### splitting 2d lists and arrays into ranges and then separate elements eg. [:3][0]"
   ]
  },
  {
   "cell_type": "code",
   "execution_count": 51,
   "id": "f714d84c-e52d-41b8-957f-3f311b6f5342",
   "metadata": {},
   "outputs": [
    {
     "name": "stdout",
     "output_type": "stream",
     "text": [
      "['1' '2' '3']\n",
      "['1' 'A']\n",
      "[1, 'A']\n"
     ]
    }
   ],
   "source": [
    "#arrays no issue, use single brackets\n",
    "print(array[:3,0]) #use single bracket!!\n",
    "print(array[:3][0])\n",
    "print(list2d[:3][0])"
   ]
  },
  {
   "cell_type": "code",
   "execution_count": 63,
   "id": "4393c8f1-93b6-4bca-878c-6b6a13f86aa3",
   "metadata": {},
   "outputs": [
    {
     "name": "stdout",
     "output_type": "stream",
     "text": [
      "['4' '5' '6']\n",
      "['4' 'D']\n",
      "[4, 'D']\n",
      "['1' '2' '3' '4' '5' '6' '7' '8' '9' '10']\n",
      "['A' 'B' 'C' 'D' 'E' 'F' 'G' 'H' 'I' 'J']\n",
      "['A' 'B' 'C' 'D' 'E' 'F' 'G' 'H' 'I' 'J']\n",
      "[['10' 'J']\n",
      " ['9' 'I']\n",
      " ['8' 'H']\n",
      " ['7' 'G']\n",
      " ['6' 'F']\n",
      " ['5' 'E']\n",
      " ['4' 'D']\n",
      " ['3' 'C']\n",
      " ['2' 'B']\n",
      " ['1' 'A']]\n",
      "['10' '9' '8' '7' '6' '5' '4' '3' '2' '1']\n"
     ]
    }
   ],
   "source": [
    "#another example\n",
    "print(array[3:6,0])\n",
    "print(array[3:6][0])\n",
    "print(list2d[3:6][0])\n",
    "#print everything? use :\n",
    "print(array[:, 0]) #everything but 1st element\n",
    "print(array[:,1])\n",
    "print(array[:,-1]) #reverse indexing\n",
    "print(array[::-1]) #whole array but in reverse\n",
    "print(array[::-1,0]) #whole array, only numbers but in reverse"
   ]
  },
  {
   "attachments": {},
   "cell_type": "markdown",
   "id": "9f5d005d",
   "metadata": {},
   "source": [
    "## 1.4 Growing lists"
   ]
  },
  {
   "cell_type": "markdown",
   "id": "6c741442-105b-4428-9a8f-276517d9426e",
   "metadata": {},
   "source": [
    "- pros of arrays: slicing syntax more intuitive, can carry out operations\n",
    "- cons: will have issues changing size of numpy array\n",
    "\n",
    "- pros of lists: ease and efficiency in growing"
   ]
  },
  {
   "cell_type": "code",
   "execution_count": 68,
   "id": "4b2097f8-cdb0-4f44-ba64-a01055f75b72",
   "metadata": {},
   "outputs": [
    {
     "name": "stdout",
     "output_type": "stream",
     "text": [
      "[1, 2, 1, 2, 1, 2, 1, 2, 1, 2]\n",
      "[ 5 10]\n"
     ]
    }
   ],
   "source": [
    "#multiplying lists will add on\n",
    "x = [1,2]*5\n",
    "print(x)\n",
    "\n",
    "y= numpy.array([1,2])*5\n",
    "print(y)"
   ]
  },
  {
   "cell_type": "code",
   "execution_count": 72,
   "id": "f1f354fa-993c-4c38-99fb-57bb3405fd26",
   "metadata": {},
   "outputs": [
    {
     "name": "stdout",
     "output_type": "stream",
     "text": [
      "[1, 2, 3, 4]\n",
      "[1, 2, 3, 4]\n",
      "[1, 2, 3, 4]\n"
     ]
    }
   ],
   "source": [
    "#THREE WAYS to grow a list by appending 1 element at a time\n",
    "#1: +\n",
    "x = [1]\n",
    "x = x +[2]\n",
    "x = x +[3]\n",
    "x = x+[4]\n",
    "print(x)\n",
    "\n",
    "#2: +=\n",
    "x2 = [1]\n",
    "x2 += [2]\n",
    "x2 += [3]\n",
    "x2 += [4]\n",
    "print(x2)\n",
    "\n",
    "#3: .append #this oone runs ~1.5 faster than the rest\n",
    "x3 = [1]\n",
    "x3.append(2)\n",
    "x3.append(3)\n",
    "x3.append(4)\n",
    "print(x3)"
   ]
  },
  {
   "cell_type": "markdown",
   "id": "263a073a-1be7-4c4e-8b99-3668fe39321a",
   "metadata": {},
   "source": [
    "### append vs extend - append may add a list inside a list instead of extending"
   ]
  },
  {
   "cell_type": "code",
   "execution_count": 74,
   "id": "e955548c-a81b-4216-95ea-c7cfef228b61",
   "metadata": {},
   "outputs": [
    {
     "name": "stdout",
     "output_type": "stream",
     "text": [
      "[1, 2, 3, 4, 5, 6]\n",
      "[1, 2, 3, [4, 5, 6]]\n",
      "[1, 2, 3, 4, 5, 6]\n"
     ]
    }
   ],
   "source": [
    "x = [1, 2, 3]\n",
    "x += [4, 5, 6] #this EXTENDS\n",
    "print(x)\n",
    "\n",
    "x2 = [1, 2, 3]\n",
    "x2.append([4, 5, 6])\n",
    "print(x2)\n",
    "\n",
    "x3 = [1, 2, 3]\n",
    "x3.extend([4, 5, 6])\n",
    "print(x3)"
   ]
  },
  {
   "attachments": {},
   "cell_type": "markdown",
   "id": "0eaa46fd",
   "metadata": {},
   "source": [
    "# Some loose ends\n",
    "- tuples are immutable, cannot be changed after creation"
   ]
  },
  {
   "attachments": {},
   "cell_type": "markdown",
   "id": "52ce2263",
   "metadata": {},
   "source": [
    "## 1.5 Tuples use round brackets"
   ]
  },
  {
   "cell_type": "code",
   "execution_count": 76,
   "id": "99f489b9-6187-48af-a824-6077d4819e50",
   "metadata": {},
   "outputs": [
    {
     "name": "stdout",
     "output_type": "stream",
     "text": [
      "2\n"
     ]
    },
    {
     "ename": "AttributeError",
     "evalue": "'tuple' object has no attribute 'extend'",
     "output_type": "error",
     "traceback": [
      "\u001b[1;31m---------------------------------------------------------------------------\u001b[0m",
      "\u001b[1;31mAttributeError\u001b[0m                            Traceback (most recent call last)",
      "Cell \u001b[1;32mIn[76], line 4\u001b[0m\n\u001b[0;32m      2\u001b[0m \u001b[38;5;28mprint\u001b[39m(t[\u001b[38;5;241m1\u001b[39m])\n\u001b[0;32m      3\u001b[0m \u001b[38;5;66;03m#can access data but cannot change data\u001b[39;00m\n\u001b[1;32m----> 4\u001b[0m \u001b[43mt\u001b[49m\u001b[38;5;241;43m.\u001b[39;49m\u001b[43mextend\u001b[49m([\u001b[38;5;241m4\u001b[39m, \u001b[38;5;241m5\u001b[39m, \u001b[38;5;241m6\u001b[39m])\n",
      "\u001b[1;31mAttributeError\u001b[0m: 'tuple' object has no attribute 'extend'"
     ]
    }
   ],
   "source": [
    "t = (1, 2, 3)\n",
    "print(t[1])\n",
    "#can access data but cannot change data\n",
    "t.extend([4, 5, 6])"
   ]
  },
  {
   "cell_type": "code",
   "execution_count": 79,
   "id": "bf33d033-c683-40b6-9211-a0a353bc6156",
   "metadata": {},
   "outputs": [
    {
     "name": "stdout",
     "output_type": "stream",
     "text": [
      "2\n",
      "[1, 6, 3]\n"
     ]
    }
   ],
   "source": [
    "#testing changing data in a list\n",
    "l = [1, 2, 3]\n",
    "print(l[1])\n",
    "l[1] = 6\n",
    "print(l)"
   ]
  },
  {
   "cell_type": "code",
   "execution_count": 80,
   "id": "e2a2ba28-75ab-4908-9a9d-2485bb8c6e3b",
   "metadata": {},
   "outputs": [
    {
     "name": "stdout",
     "output_type": "stream",
     "text": [
      "2\n"
     ]
    },
    {
     "ename": "TypeError",
     "evalue": "'tuple' object does not support item assignment",
     "output_type": "error",
     "traceback": [
      "\u001b[1;31m---------------------------------------------------------------------------\u001b[0m",
      "\u001b[1;31mTypeError\u001b[0m                                 Traceback (most recent call last)",
      "Cell \u001b[1;32mIn[80], line 4\u001b[0m\n\u001b[0;32m      2\u001b[0m \u001b[38;5;28mprint\u001b[39m(t[\u001b[38;5;241m1\u001b[39m])\n\u001b[0;32m      3\u001b[0m \u001b[38;5;66;03m#can access data but cannot change data\u001b[39;00m\n\u001b[1;32m----> 4\u001b[0m \u001b[43mt\u001b[49m\u001b[43m[\u001b[49m\u001b[38;5;241;43m1\u001b[39;49m\u001b[43m]\u001b[49m \u001b[38;5;241m=\u001b[39m \u001b[38;5;241m-\u001b[39m\u001b[38;5;241m1\u001b[39m\n\u001b[0;32m      5\u001b[0m \u001b[38;5;28mprint\u001b[39m(t)\n",
      "\u001b[1;31mTypeError\u001b[0m: 'tuple' object does not support item assignment"
     ]
    }
   ],
   "source": [
    "t = (1, 2, 3)\n",
    "print(t[1])\n",
    "#can access data but cannot change data\n",
    "t[1] = -1\n",
    "print(t)"
   ]
  },
  {
   "attachments": {},
   "cell_type": "markdown",
   "id": "5cf1c8fb",
   "metadata": {},
   "source": [
    "## 1.6 Be VERY careful when copying"
   ]
  },
  {
   "cell_type": "code",
   "execution_count": 82,
   "id": "af876f01-6164-40e0-b3d6-a5c11ac36524",
   "metadata": {},
   "outputs": [
    {
     "name": "stdout",
     "output_type": "stream",
     "text": [
      "[1, 6, 3] [1, 6, 3] [1, 6, 3]\n"
     ]
    }
   ],
   "source": [
    "#tldr when copying do not x = y = z, make copies by y = x.copy()\n",
    "#has to do with immutable and mutable objects\n",
    "x = l.copy()\n",
    "y = l.copy()\n",
    "print(l, x, y)"
   ]
  },
  {
   "attachments": {},
   "cell_type": "markdown",
   "id": "b9934ae7",
   "metadata": {},
   "source": [
    "# Exercises & Self-Assessment"
   ]
  },
  {
   "cell_type": "code",
   "execution_count": 83,
   "id": "b9c5cafe",
   "metadata": {},
   "outputs": [],
   "source": [
    "#is it necessary to write something here if i've tried out most of the exercises mentioned here?"
   ]
  },
  {
   "attachments": {},
   "cell_type": "markdown",
   "id": "22f8c06b",
   "metadata": {},
   "source": [
    "## Footnotes"
   ]
  }
 ],
 "metadata": {
  "kernelspec": {
   "display_name": "Python 3 (ipykernel)",
   "language": "python",
   "name": "python3"
  },
  "language_info": {
   "codemirror_mode": {
    "name": "ipython",
    "version": 3
   },
   "file_extension": ".py",
   "mimetype": "text/x-python",
   "name": "python",
   "nbconvert_exporter": "python",
   "pygments_lexer": "ipython3",
   "version": "3.11.5"
  },
  "toc": {
   "base_numbering": 1,
   "nav_menu": {},
   "number_sections": true,
   "sideBar": true,
   "skip_h1_title": false,
   "title_cell": "Table of Contents",
   "title_sidebar": "Contents",
   "toc_cell": false,
   "toc_position": {},
   "toc_section_display": true,
   "toc_window_display": false
  },
  "vscode": {
   "interpreter": {
    "hash": "31f2aee4e71d21fbe5cf8b01ff0e069b9275f58929596ceb00d14d90e3e16cd6"
   }
  }
 },
 "nbformat": 4,
 "nbformat_minor": 5
}
