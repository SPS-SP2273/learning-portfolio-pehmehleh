{
 "cells": [
  {
   "attachments": {},
   "cell_type": "markdown",
   "id": "123456",
   "metadata": {},
   "source": [
    "<div style=\"text-align:left;font-size:2em\"><span style=\"font-weight:bolder;font-size:1.25em\">SP2273 | Learning Portfolio</span><br><br><span style=\"font-weight:bold;color:darkred\">Loops (Need)</span></div>"
   ]
  },
  {
   "attachments": {},
   "cell_type": "markdown",
   "id": "888b6fd9",
   "metadata": {},
   "source": [
    "# What to expect in this chapter"
   ]
  },
  {
   "cell_type": "markdown",
   "id": "ed39447c-01fc-4348-9e34-589505fa92e6",
   "metadata": {},
   "source": [
    "- loops: repeating a task over and over again\n",
    "- applications: renaming a set of files or running same stat analysis on many exptal data sets\n",
    "- loops aka *iterations*\n",
    "\n",
    "#### 2 mechanisms for looping:\n",
    "for,\n",
    "while"
   ]
  },
  {
   "attachments": {},
   "cell_type": "markdown",
   "id": "61a9ff9a",
   "metadata": {},
   "source": [
    "# 1 The for iterator"
   ]
  },
  {
   "cell_type": "code",
   "execution_count": 3,
   "id": "4777a522-24fb-456f-9c42-aadaaf47bd4b",
   "metadata": {},
   "outputs": [
    {
     "name": "stdout",
     "output_type": "stream",
     "text": [
      "andy is a basic name!\n",
      "bob is a basic name!\n"
     ]
    }
   ],
   "source": [
    "namelist = [\"andy\", \"bob\", \"carol\", \"dan\", \"ethan\"]\n",
    "\n",
    "#poor way of printing a message for every name:\n",
    "\n",
    "name = namelist[0]\n",
    "print(f\"{name} is a basic name!\")\n",
    "\n",
    "name = namelist[1]\n",
    "print(f\"{name} is a basic name!\")\n",
    "\n",
    "#reasons why this is tedious:\n",
    "#does not scale well (eg. 100 names), troublesome to make changes (must do 100 times), highly error prone"
   ]
  },
  {
   "attachments": {},
   "cell_type": "markdown",
   "id": "cbb3cff1",
   "metadata": {},
   "source": [
    "## 1.1 for with a list"
   ]
  },
  {
   "cell_type": "code",
   "execution_count": 6,
   "id": "131bb42e-18f0-4377-abe8-2842ed5c19b1",
   "metadata": {},
   "outputs": [
    {
     "name": "stdout",
     "output_type": "stream",
     "text": [
      "andy is a basic name!\n",
      "bob is a basic name!\n",
      "carol is a basic name!\n",
      "dan is a basic name!\n",
      "ethan is a basic name!\n"
     ]
    }
   ],
   "source": [
    "for name in namelist:\n",
    "    print(f\"{name} is a basic name!\")"
   ]
  },
  {
   "cell_type": "markdown",
   "id": "6294c7a9-6ff7-4c8c-9dc2-499d51d46598",
   "metadata": {},
   "source": [
    "### structure and explanation behind the for loop\n",
    "for loop: ONLY ACCEPTS 1 LIST\n",
    "1. goes thru list and assigns the value of each element of the list into \"name\"\n",
    "2. runs the code block (indent) using the value of \"name\"\n",
    "3. code block is indicated using : and tabs like with IF\n",
    "\n",
    "take note of readability, try to avoid things like for x in namelist"
   ]
  },
  {
   "attachments": {},
   "cell_type": "markdown",
   "id": "be8e510c",
   "metadata": {},
   "source": [
    "## 1.2 for with enumerate (using info in multiple lists)"
   ]
  },
  {
   "cell_type": "markdown",
   "id": "1688e770-8971-4f67-be34-5fa5b35f21d1",
   "metadata": {},
   "source": [
    "- for loop only accepts 1 list\n",
    "- **enumerate()** is an option to access data in both lists\n",
    "- **enumerate()** is something that keeps count as shown below"
   ]
  },
  {
   "cell_type": "code",
   "execution_count": 19,
   "id": "1b84cae4-9734-448d-ad41-3a2a7f941557",
   "metadata": {},
   "outputs": [
    {
     "name": "stdout",
     "output_type": "stream",
     "text": [
      "0: andy is a basic name, A-E!\n",
      "0\n",
      "1: bob is a basic name, A-E!\n",
      "1\n",
      "2: carol is a basic name, A-E!\n",
      "2\n",
      "3: dan is a basic name, A-E!\n",
      "3\n",
      "4: ethan is a basic name, A-E!\n",
      "4\n"
     ]
    }
   ],
   "source": [
    "#using enumerate() for counting\n",
    "\n",
    "namelist2 = [\"A\", \"B\", \"C\", \"D\", \"E\"]\n",
    "\n",
    "for count, name in enumerate(namelist):\n",
    "    print(f\"{count}: {name} is a basic name, A-E!\") #count churns out a number but can be renamed to anything"
   ]
  },
  {
   "cell_type": "code",
   "execution_count": 13,
   "id": "febd4943-be96-4e18-aebb-0c1b5df3c2ba",
   "metadata": {},
   "outputs": [
    {
     "name": "stdout",
     "output_type": "stream",
     "text": [
      "andy starts with A!!\n",
      "bob starts with B!!\n",
      "carol starts with C!!\n",
      "dan starts with D!!\n",
      "ethan starts with E!!\n"
     ]
    }
   ],
   "source": [
    "#using enumerate() to index the other list\n",
    "for index, name in enumerate(namelist): #the value of index will be 0,1,2, etc\n",
    "    alphabet = namelist2[index] #indexing the ABCDE list \n",
    "    print(f\"{name} starts with {alphabet}!!\")"
   ]
  },
  {
   "cell_type": "code",
   "execution_count": 15,
   "id": "0a378bc3-8c19-4afd-961c-4a21cec5cd88",
   "metadata": {},
   "outputs": [
    {
     "name": "stdout",
     "output_type": "stream",
     "text": [
      "89\n",
      "90\n",
      "91\n",
      "92\n",
      "93\n"
     ]
    }
   ],
   "source": [
    "#changing the enumerate counting system to start from numbers other than 0:\n",
    "for index, name in enumerate(namelist, 89):\n",
    "    print(index)"
   ]
  },
  {
   "attachments": {},
   "cell_type": "markdown",
   "id": "050b9a10",
   "metadata": {},
   "source": [
    "## 1.3 for with range - can achieve the same result above"
   ]
  },
  {
   "cell_type": "code",
   "execution_count": 16,
   "id": "6cc4980a-092e-4468-872a-d92b8448d7b6",
   "metadata": {},
   "outputs": [
    {
     "name": "stdout",
     "output_type": "stream",
     "text": [
      "0\n",
      "1\n",
      "2\n",
      "3\n",
      "4\n"
     ]
    }
   ],
   "source": [
    "# introduction to functions of range()\n",
    "for i in range(5):\n",
    "    print(i)\n",
    "\n",
    "#this is using range() to get the for loop to run a given number of loops (eg. 5)"
   ]
  },
  {
   "cell_type": "code",
   "execution_count": 17,
   "id": "3a1dd59b-6fe9-4c10-a5f2-bcec2f684fb3",
   "metadata": {},
   "outputs": [
    {
     "name": "stdout",
     "output_type": "stream",
     "text": [
      "5\n",
      "6\n",
      "7\n",
      "8\n",
      "9\n"
     ]
    }
   ],
   "source": [
    "for i in range(5,10):\n",
    "    print(i)"
   ]
  },
  {
   "cell_type": "code",
   "execution_count": 18,
   "id": "e68b1776-7e07-4dbe-8555-ae069c8e5f5d",
   "metadata": {},
   "outputs": [
    {
     "name": "stdout",
     "output_type": "stream",
     "text": [
      "1\n",
      "4\n",
      "7\n",
      "10\n"
     ]
    }
   ],
   "source": [
    "#increments:\n",
    "for i in range(1, 11, 3): #this gives 3 step increment\n",
    "    print(i)\n",
    "\n",
    "#range always ends 1 short of ending number"
   ]
  },
  {
   "cell_type": "code",
   "execution_count": 21,
   "id": "d3c4952a-82f4-459d-ae9c-dacd112864b3",
   "metadata": {},
   "outputs": [
    {
     "name": "stdout",
     "output_type": "stream",
     "text": [
      "andy starts with A!!\n",
      "bob starts with B!!\n",
      "carol starts with C!!\n",
      "dan starts with D!!\n",
      "ethan starts with E!!\n",
      "5\n"
     ]
    }
   ],
   "source": [
    "#using range() to index the other list\n",
    "\n",
    "for i in range(len(namelist)): #this shows how many times the loop should run\n",
    "    name = namelist[i]\n",
    "    alphabet = namelist2[i]\n",
    "    print(f\"{name} starts with {alphabet}!!\")\n",
    "\n",
    "print(len(namelist))"
   ]
  },
  {
   "attachments": {},
   "cell_type": "markdown",
   "id": "699f2c6e",
   "metadata": {},
   "source": [
    "# 2 while"
   ]
  },
  {
   "cell_type": "code",
   "execution_count": 22,
   "id": "0bf13916-7532-4a56-b1d4-39ec7eee038b",
   "metadata": {},
   "outputs": [
    {
     "name": "stdout",
     "output_type": "stream",
     "text": [
      "0\n",
      "1\n",
      "2\n",
      "3\n",
      "4\n"
     ]
    }
   ],
   "source": [
    "#a while loop set up so that it keeps on running while a condition is true\n",
    "\n",
    "number = 0\n",
    "\n",
    "while number < 5:\n",
    "    print(number)\n",
    "    number += 1"
   ]
  },
  {
   "cell_type": "markdown",
   "id": "4fa50367-e029-4c03-811a-7b8ecfc5fd58",
   "metadata": {},
   "source": [
    "### differences btw in and while\n",
    "- in range: need know how many iterations eg using len()\n",
    "- while: no need to know how many iterations"
   ]
  }
 ],
 "metadata": {
  "kernelspec": {
   "display_name": "Python 3 (ipykernel)",
   "language": "python",
   "name": "python3"
  },
  "language_info": {
   "codemirror_mode": {
    "name": "ipython",
    "version": 3
   },
   "file_extension": ".py",
   "mimetype": "text/x-python",
   "name": "python",
   "nbconvert_exporter": "python",
   "pygments_lexer": "ipython3",
   "version": "3.11.5"
  },
  "toc": {
   "base_numbering": 1,
   "nav_menu": {},
   "number_sections": true,
   "sideBar": true,
   "skip_h1_title": false,
   "title_cell": "Table of Contents",
   "title_sidebar": "Contents",
   "toc_cell": false,
   "toc_position": {},
   "toc_section_display": true,
   "toc_window_display": false
  },
  "vscode": {
   "interpreter": {
    "hash": "31f2aee4e71d21fbe5cf8b01ff0e069b9275f58929596ceb00d14d90e3e16cd6"
   }
  }
 },
 "nbformat": 4,
 "nbformat_minor": 5
}
