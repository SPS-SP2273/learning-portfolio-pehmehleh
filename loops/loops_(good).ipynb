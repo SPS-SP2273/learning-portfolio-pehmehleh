{
 "cells": [
  {
   "attachments": {},
   "cell_type": "markdown",
   "id": "123456",
   "metadata": {},
   "source": [
    "<div style=\"text-align:left;font-size:2em\"><span style=\"font-weight:bolder;font-size:1.25em\">SP2273 | Learning Portfolio</span><br><br><span style=\"font-weight:bold;color:darkred\">Loops (Good)</span></div>"
   ]
  },
  {
   "attachments": {},
   "cell_type": "markdown",
   "id": "87d9a571",
   "metadata": {},
   "source": [
    "# What to expect in this chapter"
   ]
  },
  {
   "cell_type": "markdown",
   "id": "81b2da8b-a3b7-4a03-9eef-538edc45afea",
   "metadata": {},
   "source": [
    "- more stuff in loops, mainly:\n",
    "- **continue**\n",
    "- **break**\n",
    "- **list comprehension** aka the optimised ver of \"for\" in loop. function: *creating lists from other lists*"
   ]
  },
  {
   "attachments": {},
   "cell_type": "markdown",
   "id": "3aafb756",
   "metadata": {},
   "source": [
    "# 1 Interrupting the flow: BREAK"
   ]
  },
  {
   "cell_type": "code",
   "execution_count": 90,
   "id": "66e2b5f8-7ba8-4cd8-8a0c-91d318edab5d",
   "metadata": {},
   "outputs": [
    {
     "name": "stdout",
     "output_type": "stream",
     "text": [
      "1 0\n",
      "10 1\n",
      "100 2\n",
      "1000 3\n"
     ]
    }
   ],
   "source": [
    "#stopping at a certain number threshold using \"continue\"\n",
    "for power in range(5): #this gives 0, 1, 2, 3, 4. rmb: range always ends 1 number short of the ending number\n",
    "    number = 10**power\n",
    "    if number > 5000:\n",
    "        break\n",
    "    print(number, power)"
   ]
  },
  {
   "cell_type": "code",
   "execution_count": 91,
   "id": "f627872b-54c9-4cd3-9765-2d041bcd91a1",
   "metadata": {},
   "outputs": [
    {
     "name": "stdout",
     "output_type": "stream",
     "text": [
      "0 1\n",
      "1 10\n",
      "2 100\n",
      "3 1000\n",
      "5 100000\n"
     ]
    }
   ],
   "source": [
    "#ignoring a certain number using \"continue\". the order of code matters\n",
    "for power in range(6):\n",
    "    if power == 4:\n",
    "        continue\n",
    "    number = 10**power\n",
    "    print(power, number)"
   ]
  },
  {
   "cell_type": "code",
   "execution_count": 92,
   "id": "00e954f0-3556-4c75-a166-9aee5b93dc3c",
   "metadata": {},
   "outputs": [
    {
     "name": "stdout",
     "output_type": "stream",
     "text": [
      "1 10\n",
      "3 1000\n",
      "5 100000\n"
     ]
    }
   ],
   "source": [
    "for power in range(6):\n",
    "    if power%2 == 0: #ignoring even powers\n",
    "        continue\n",
    "    number = 10**power\n",
    "    print(power, number)"
   ]
  },
  {
   "cell_type": "code",
   "execution_count": 93,
   "id": "bb70536f-242e-4b6e-a3bd-db0705aaba05",
   "metadata": {},
   "outputs": [
    {
     "name": "stdout",
     "output_type": "stream",
     "text": [
      "10\n",
      "9\n",
      "8\n",
      "7\n",
      "6\n",
      "5\n",
      "4\n",
      "3\n"
     ]
    }
   ],
   "source": [
    "#WHILE TRUE\n",
    "number = 10\n",
    "while True: #case sensitive\n",
    "    print(number)\n",
    "    number -= 1\n",
    "    if number < 3:\n",
    "        break"
   ]
  },
  {
   "attachments": {},
   "cell_type": "markdown",
   "id": "e4425fa0",
   "metadata": {},
   "source": [
    "# 2 List comprehension!"
   ]
  },
  {
   "cell_type": "markdown",
   "id": "b926d657-c79f-468b-928e-4240455ca152",
   "metadata": {},
   "source": [
    "**includes creating lists from other lists**"
   ]
  },
  {
   "attachments": {},
   "cell_type": "markdown",
   "id": "5a00747b",
   "metadata": {},
   "source": [
    "## 2.1 Basic syntax"
   ]
  },
  {
   "cell_type": "code",
   "execution_count": 94,
   "id": "75dd7a01-2ada-4b2a-b90e-ee93d875b9df",
   "metadata": {},
   "outputs": [
    {
     "data": {
      "text/plain": [
       "[0, 1, 2, 3, 4]"
      ]
     },
     "execution_count": 94,
     "metadata": {},
     "output_type": "execute_result"
    }
   ],
   "source": [
    "[number for number in range(5)]\n",
    "\n",
    "#explanation: the output you want is at the front. so it just means, for number in range(5)\n",
    "#make a list for the numbers and number is placed at the FRONT"
   ]
  },
  {
   "attachments": {},
   "cell_type": "markdown",
   "id": "54216803",
   "metadata": {},
   "source": [
    "## 2.2 List comprehension with conditions"
   ]
  },
  {
   "cell_type": "code",
   "execution_count": 95,
   "id": "98dcbac0-11d8-4a5a-8250-0d837567beb4",
   "metadata": {},
   "outputs": [
    {
     "data": {
      "text/plain": [
       "[4, 16, 36, 64, 100]"
      ]
     },
     "execution_count": 95,
     "metadata": {},
     "output_type": "execute_result"
    }
   ],
   "source": [
    "#same thing as above and normal \"for\" and \"if\"\n",
    "#just remember the square brackets and output at the front\n",
    "[number**2 for number in range(11) if number %2 == 0 and number != 0] #generating squares for 2, 4, 6, 8, 10"
   ]
  },
  {
   "attachments": {},
   "cell_type": "markdown",
   "id": "69d0346f",
   "metadata": {},
   "source": [
    "# 3 Other useful stuff"
   ]
  },
  {
   "attachments": {},
   "cell_type": "markdown",
   "id": "537bccbf",
   "metadata": {},
   "source": [
    "## 3.1 for with unpacking: **using {} to reference the values in lists**"
   ]
  },
  {
   "cell_type": "code",
   "execution_count": 96,
   "id": "4bfd2994-c728-497f-ad5a-3c9fe0524f46",
   "metadata": {},
   "outputs": [
    {
     "name": "stdout",
     "output_type": "stream",
     "text": [
      "a = 1, b = 4, c = 9\n"
     ]
    }
   ],
   "source": [
    "#unpacking elements from a list\n",
    "a, b, c = [1, 4, 9]\n",
    "print(f\"a = {a}, b = {b}, c = {c}\") #basically using {} to indicate the values"
   ]
  },
  {
   "cell_type": "code",
   "execution_count": 97,
   "id": "0cb78371-b110-4435-81e8-41d2b959451c",
   "metadata": {},
   "outputs": [
    {
     "name": "stdout",
     "output_type": "stream",
     "text": [
      "1 a\n",
      "a is the 1st letter in the alphabet\n",
      "2 b\n",
      "b is the 2nd letter in the alphabet\n",
      "3 c\n",
      "c is the 3rd letter in the alphabet\n"
     ]
    }
   ],
   "source": [
    "# for 2D lists where each element has 2 components:\n",
    "newlist = [[1, \"a\", \"st\"], [2, \"b\", \"nd\" ], [3, \"c\", \"rd\"]]\n",
    "for number, letter, th in newlist:\n",
    "    print(number, letter)\n",
    "    print(f\"{letter} is the {number}{th} letter in the alphabet\")"
   ]
  },
  {
   "attachments": {},
   "cell_type": "markdown",
   "id": "2fae56af",
   "metadata": {},
   "source": [
    "## 3.2 for with zip(): combining 2 lists. easier than the example in prev chapter"
   ]
  },
  {
   "cell_type": "code",
   "execution_count": 98,
   "id": "1764241d-1733-424f-a098-ed8760cfb98a",
   "metadata": {},
   "outputs": [
    {
     "name": "stdout",
     "output_type": "stream",
     "text": [
      "andy starts with A!!\n",
      "bob starts with B!!\n",
      "carol starts with C!!\n",
      "dan starts with D!!\n",
      "ethan starts with E!!\n"
     ]
    }
   ],
   "source": [
    "#from prev chapter\n",
    "namelist = [\"andy\", \"bob\", \"carol\", \"dan\", \"ethan\"]\n",
    "namelist2 = [\"A\", \"B\", \"C\", \"D\", \"E\"]\n",
    "#using enumerate() to index the other list\n",
    "for index, name in enumerate(namelist): #the value of index will be 0,1,2, etc\n",
    "    alphabet = namelist2[index] #indexing the ABCDE list \n",
    "    print(f\"{name} starts with {alphabet}!!\")"
   ]
  },
  {
   "cell_type": "code",
   "execution_count": 99,
   "id": "e865526f-6ebb-4146-9363-8b8760944244",
   "metadata": {},
   "outputs": [
    {
     "name": "stdout",
     "output_type": "stream",
     "text": [
      "andy starts with A!!\n",
      "bob starts with B!!\n",
      "carol starts with C!!\n",
      "dan starts with D!!\n",
      "ethan starts with E!!\n"
     ]
    }
   ],
   "source": [
    "#ZIPPING to access data in both lists. easier than the one above!!\n",
    "for name, alphabet in zip(namelist, namelist2):\n",
    "    print(f\"{name} starts with {alphabet}!!\")"
   ]
  },
  {
   "attachments": {},
   "cell_type": "markdown",
   "id": "1ad3ea18",
   "metadata": {},
   "source": [
    "## 3.3 for with dictionaries"
   ]
  },
  {
   "cell_type": "code",
   "execution_count": 100,
   "id": "7b2c11ab-39e6-4d62-ac03-a3e61b62ba34",
   "metadata": {},
   "outputs": [
    {
     "name": "stdout",
     "output_type": "stream",
     "text": [
      "apples are red in colour!\n",
      "honeydews are green in colour!\n",
      "mangos are yellow in colour!\n"
     ]
    }
   ],
   "source": [
    "#same thing but for dictionaries where there is key and value\n",
    "dict = {\"red\": \"apple\", \"green\": \"honeydew\", \"yellow\": \"mango\"}\n",
    "\n",
    "for colour, fruit in dict.items(): #syntax here for dictionaries are different compared to lists\n",
    "    print(f\"{fruit}s are {colour} in colour!\")"
   ]
  },
  {
   "cell_type": "code",
   "execution_count": 101,
   "id": "760ceb62-c7f0-4081-8d10-c371d7f1c151",
   "metadata": {},
   "outputs": [
    {
     "name": "stdout",
     "output_type": "stream",
     "text": [
      "apples are usually red in colour\n",
      "honeydews are usually green in colour\n",
      "mangos are usually yellow in colour\n"
     ]
    }
   ],
   "source": [
    "#accessing the keys directly\n",
    "for colour in dict.keys():\n",
    "    print(f\"{dict[colour]}s are usually {colour} in colour\") #dict[colour] gives the value"
   ]
  },
  {
   "cell_type": "code",
   "execution_count": 102,
   "id": "6b2232a8-5a29-4bad-acf1-43d308cb289a",
   "metadata": {},
   "outputs": [
    {
     "name": "stdout",
     "output_type": "stream",
     "text": [
      "Natasha Romanoff is Marvel's Black Widow!\n",
      "Tony Stark is Marvel's Iron Man!\n",
      "Stephen Strange is Marvel's Doctor Strange!\n"
     ]
    }
   ],
   "source": [
    "#directly accessing the keys example\n",
    "superhero_info={\"Natasha Romanoff\": \"Black Widow\",\n",
    "                \"Tony Stark\": \"Iron Man\",\n",
    "                \"Stephen Strange\": \"Doctor Strange\"}\n",
    "\n",
    "for key in superhero_info.keys():\n",
    "    value=superhero_info[key] #this line gives the VALUE not the KEY because value = superhero_info[key] is a command to access the value\n",
    "    print(f\"{key} is Marvel's {value}!\")"
   ]
  },
  {
   "attachments": {},
   "cell_type": "markdown",
   "id": "eb5766fb",
   "metadata": {},
   "source": [
    "## Footnotes"
   ]
  }
 ],
 "metadata": {
  "kernelspec": {
   "display_name": "Python 3 (ipykernel)",
   "language": "python",
   "name": "python3"
  },
  "language_info": {
   "codemirror_mode": {
    "name": "ipython",
    "version": 3
   },
   "file_extension": ".py",
   "mimetype": "text/x-python",
   "name": "python",
   "nbconvert_exporter": "python",
   "pygments_lexer": "ipython3",
   "version": "3.11.5"
  },
  "toc": {
   "base_numbering": 1,
   "nav_menu": {},
   "number_sections": true,
   "sideBar": true,
   "skip_h1_title": false,
   "title_cell": "Table of Contents",
   "title_sidebar": "Contents",
   "toc_cell": false,
   "toc_position": {},
   "toc_section_display": true,
   "toc_window_display": false
  },
  "vscode": {
   "interpreter": {
    "hash": "31f2aee4e71d21fbe5cf8b01ff0e069b9275f58929596ceb00d14d90e3e16cd6"
   }
  }
 },
 "nbformat": 4,
 "nbformat_minor": 5
}
