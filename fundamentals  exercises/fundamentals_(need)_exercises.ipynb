{
 "cells": [
  {
   "attachments": {},
   "cell_type": "markdown",
   "id": "123456",
   "metadata": {},
   "source": [
    "<div style=\"text-align:left;font-size:2em\"><span style=\"font-weight:bolder;font-size:1.25em\">SP2273 | Learning Portfolio</span><br><br><span style=\"font-weight:bold;color:darkred\">Fundamentals (Need) Exercises</span></div>"
   ]
  },
  {
   "cell_type": "markdown",
   "id": "4fa8ece3-a457-4048-8ff2-a448f9698bb0",
   "metadata": {},
   "source": [
    "# Exercise 1: Features of Python"
   ]
  },
  {
   "cell_type": "markdown",
   "id": "2daccad8-5c44-4bc8-b022-edff8d86e429",
   "metadata": {},
   "source": [
    "Remembered features:\n",
    "print()\n",
    "if, else\n",
    "math.sqrt()\n",
    "Lists, Dictionaries\n",
    "\n"
   ]
  },
  {
   "cell_type": "markdown",
   "id": "4341e5da-5b5b-48e5-a6e7-a9363e568549",
   "metadata": {},
   "source": [
    "# Exercise 2: Debugging"
   ]
  },
  {
   "cell_type": "code",
   "execution_count": 5,
   "id": "ba80f285-de84-4a29-ba06-2a522e2b64ac",
   "metadata": {},
   "outputs": [
    {
     "name": "stdout",
     "output_type": "stream",
     "text": [
      "3, 4, 5\n"
     ]
    }
   ],
   "source": [
    "import numpy\n",
    "\n",
    "x, y = 3, 4\n",
    "z = numpy.sqrt(x**2 + y**2)\n",
    "z = int(z)\n",
    "z = str(z)\n",
    "y = str(y)\n",
    "x = str(x)\n",
    "print(x + \", \" + y + \", \" + z)"
   ]
  },
  {
   "cell_type": "markdown",
   "id": "c7f6ee2a-7853-4dea-9db3-e25c662c4e97",
   "metadata": {},
   "source": [
    "# Exercise 3: Describing Terms"
   ]
  },
  {
   "cell_type": "markdown",
   "id": "9818868d-3a51-4a24-8969-392b1c61308d",
   "metadata": {},
   "source": [
    "1. Function: a set of tasks that run when it is called\n",
    "2. Arguments: similar to giving specific details for the task - for example a function is like a protocol in a cookbook eg. bake, steam, fry; but the argument is like the ingredients used, eg. egg, carrot? (is this analogy on the right track?)\n",
    "3. Comments: a part of code that is ignored, used to make code more readable and allows users/collaborators to understand the code\n",
    "4. Indentations: to organise code like organising a story with paragraphs. when indenting inside a task (function), indentations are used to show that it is part of the task. also helps to visually group together related instructions for Python to read and also for human readability\n",
    "5. Packages: give more functionality above what Python offers\n",
    "6. . - a period or dot comes before a function, eg y = \"i like bubble tea\".split() or numpy.sqrt(16)\n",
    "7. : - designated a block of code, and can come before conditional statements like if, elif or else \n",
    "8. [] - indicate lists\n",
    "9. [[[]]] - indicate a nested list structure, meaning a list inside a list inside a list. outermost square brackets denote the outermost list where the innermost square brackets indicate the innermost list\n",
    "10. {} - indicate dictionaries where each key is assigned a value"
   ]
  },
  {
   "cell_type": "markdown",
   "id": "908b2a6e-a58f-4fd9-b779-89fc23dd3601",
   "metadata": {},
   "source": [
    "# Exercise 4: Trial and Error"
   ]
  },
  {
   "cell_type": "code",
   "execution_count": 8,
   "id": "aaa5cbe3-f1ba-4329-b313-6ce12ec351d9",
   "metadata": {},
   "outputs": [
    {
     "name": "stdout",
     "output_type": "stream",
     "text": [
      "2.5\n",
      "2\n",
      "1\n",
      "3\n",
      "1\n"
     ]
    }
   ],
   "source": [
    "print(5/2)\n",
    "\n",
    "print(5//2)\n",
    "\n",
    "print(5%2)\n",
    "\n",
    "print(10//3)\n",
    "\n",
    "print(10%3)\n",
    "\n",
    "# / is for dividing and giving the quotient in exact decimal form\n",
    "\n",
    "# // is for finding the highest integer that the number can be divided by. eg. 10/3 = 3 remainder 1, so answer is 3\n",
    "# EDITED ANSWER: // returns the largest integer less than or equal to and they use the number line for this\n",
    "\n",
    "# % is the remainder, eg. 10/3 = 3 remainder 1"
   ]
  },
  {
   "cell_type": "markdown",
   "id": "69ac88b5-fb17-48e7-8eca-4d8e976c7f59",
   "metadata": {},
   "source": [
    "EDITED ANSWER: // returns the largest integer **LESS THAN or EQUAL TO so if -53.3543 was divided by 6, the value is -9.059. going by this rule, the largest integer is -10.**\n",
    "\n",
    "based on the // part, what % does is take the **original number and subtract the quotient integer multiplied by the divisor(obtained from the // function) regardless of plus or minus sign.**\n",
    "\n",
    "20//3 will give 6 (integer)\n",
    "20%3 will give 2 because original number = 20, quotient integer multiplied by divisor = 6*3 = 18, 20 - 18 = 2\n",
    "-20//3 will give -7 because -7 is lower than -6.666 repeating. quotient integer * divisor = -7 * 3 = -21. original number minus this = -20 -(-21) = 1"
   ]
  },
  {
   "cell_type": "code",
   "execution_count": 12,
   "id": "bc8fe900-035d-48b7-b17d-98ecb8b7d3f7",
   "metadata": {},
   "outputs": [
    {
     "name": "stdout",
     "output_type": "stream",
     "text": [
      "0.5\n",
      "-9.059050000000001\n",
      "-10.0\n",
      "7.0\n",
      "-8.0\n",
      "2\n",
      "-4\n",
      "-2\n"
     ]
    }
   ],
   "source": [
    "print(1.5/3)\n",
    "print(-54.3543/6)\n",
    "print(-54.3543//6)\n",
    "print(-54.3543//-7)\n",
    "print(-54.3543//7)\n",
    "\n",
    "\n",
    "# % is called the modulo function\n",
    "print(-10%3)\n",
    "print(-10//3)\n",
    "print(-20%(-3))"
   ]
  },
  {
   "cell_type": "code",
   "execution_count": 17,
   "id": "866a49b2-5ffd-416e-91f4-a7ef7c660dbd",
   "metadata": {},
   "outputs": [
    {
     "name": "stdout",
     "output_type": "stream",
     "text": [
      "6\n",
      "1\n"
     ]
    }
   ],
   "source": [
    "print(20//3)\n",
    "print(-20%3)"
   ]
  }
 ],
 "metadata": {
  "kernelspec": {
   "display_name": "Python 3 (ipykernel)",
   "language": "python",
   "name": "python3"
  },
  "language_info": {
   "codemirror_mode": {
    "name": "ipython",
    "version": 3
   },
   "file_extension": ".py",
   "mimetype": "text/x-python",
   "name": "python",
   "nbconvert_exporter": "python",
   "pygments_lexer": "ipython3",
   "version": "3.11.5"
  },
  "toc": {
   "base_numbering": 1,
   "nav_menu": {},
   "number_sections": true,
   "sideBar": true,
   "skip_h1_title": false,
   "title_cell": "Table of Contents",
   "title_sidebar": "Contents",
   "toc_cell": false,
   "toc_position": {},
   "toc_section_display": true,
   "toc_window_display": false
  },
  "vscode": {
   "interpreter": {
    "hash": "31f2aee4e71d21fbe5cf8b01ff0e069b9275f58929596ceb00d14d90e3e16cd6"
   }
  }
 },
 "nbformat": 4,
 "nbformat_minor": 5
}
