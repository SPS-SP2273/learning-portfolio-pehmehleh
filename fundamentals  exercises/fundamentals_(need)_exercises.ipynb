{
 "cells": [
  {
   "attachments": {},
   "cell_type": "markdown",
   "id": "123456",
   "metadata": {},
   "source": [
    "<div style=\"text-align:left;font-size:2em\"><span style=\"font-weight:bolder;font-size:1.25em\">SP2273 | Learning Portfolio</span><br><br><span style=\"font-weight:bold;color:darkred\">Fundamentals (Need) Exercises</span></div>"
   ]
  },
  {
   "cell_type": "markdown",
   "id": "4fa8ece3-a457-4048-8ff2-a448f9698bb0",
   "metadata": {},
   "source": [
    "# Exercise 1: Features of Python"
   ]
  },
  {
   "cell_type": "markdown",
   "id": "2daccad8-5c44-4bc8-b022-edff8d86e429",
   "metadata": {},
   "source": [
    "Remembered features:\n",
    "print()\n",
    "if, else\n",
    "math.sqrt()\n",
    "Lists, Dictionaries\n",
    "\n"
   ]
  },
  {
   "cell_type": "markdown",
   "id": "4341e5da-5b5b-48e5-a6e7-a9363e568549",
   "metadata": {},
   "source": [
    "# Exercise 2: Debugging"
   ]
  },
  {
   "cell_type": "code",
   "execution_count": 5,
   "id": "ba80f285-de84-4a29-ba06-2a522e2b64ac",
   "metadata": {},
   "outputs": [
    {
     "name": "stdout",
     "output_type": "stream",
     "text": [
      "3, 4, 5\n"
     ]
    }
   ],
   "source": [
    "import numpy\n",
    "\n",
    "x, y = 3, 4\n",
    "z = numpy.sqrt(x**2 + y**2)\n",
    "z = int(z)\n",
    "z = str(z)\n",
    "y = str(y)\n",
    "x = str(x)\n",
    "print(x + \", \" + y + \", \" + z)"
   ]
  },
  {
   "cell_type": "markdown",
   "id": "c7f6ee2a-7853-4dea-9db3-e25c662c4e97",
   "metadata": {},
   "source": [
    "# Exercise 3: Describing Terms"
   ]
  },
  {
   "cell_type": "markdown",
   "id": "9818868d-3a51-4a24-8969-392b1c61308d",
   "metadata": {},
   "source": [
    "1. Function: a set of tasks that run when it is called\n",
    "2. Arguments: variable that contains data eg the \"Hello world\" in print(\"Hello world\")\n",
    "3. Comments: a part of code that is ignored, used to make code more readable and allows users/collaborators to understand the code\n",
    "4. Indentations: to separate statements\n",
    "5. Packages: give more functionality above what Python offers\n",
    "6. . - a period or dot comes before a function, eg y = \"i like bubble tea\".split() or numpy.sqrt(16)\n",
    "7. : - designated a block of code, and can come before conditional statements like if, elif or else \n",
    "8. [] - indicate lists\n",
    "9. [[[]]] - indicate a nested list structure, meaning a list inside a list inside a list. outermost square brackets denote the outermost list where the innermost square brackets indicate the innermost list\n",
    "10. {} - indicate dictionaries where each key is assigned a value"
   ]
  },
  {
   "cell_type": "markdown",
   "id": "908b2a6e-a58f-4fd9-b779-89fc23dd3601",
   "metadata": {},
   "source": [
    "# Exercise 4: Trial and Error"
   ]
  },
  {
   "cell_type": "code",
   "execution_count": 8,
   "id": "aaa5cbe3-f1ba-4329-b313-6ce12ec351d9",
   "metadata": {},
   "outputs": [
    {
     "name": "stdout",
     "output_type": "stream",
     "text": [
      "2.5\n",
      "2\n",
      "1\n",
      "3\n",
      "1\n"
     ]
    }
   ],
   "source": [
    "print(5/2)\n",
    "\n",
    "print(5//2)\n",
    "\n",
    "print(5%2)\n",
    "\n",
    "print(10//3)\n",
    "\n",
    "print(10%3)\n",
    "\n",
    "# / is for dividing and giving the quotient in exact decimal form\n",
    "\n",
    "# // is for finding the highest integer that the number can be divided by. eg. 10/3 = 3 remainder 1, so answer is 3\n",
    "\n",
    "# % is the remainder, eg. 10/3 = 3 remainder 1"
   ]
  },
  {
   "cell_type": "markdown",
   "id": "cc7054b3-976a-4978-a3a0-89d7f6cda57f",
   "metadata": {},
   "source": []
  }
 ],
 "metadata": {
  "kernelspec": {
   "display_name": "Python 3 (ipykernel)",
   "language": "python",
   "name": "python3"
  },
  "language_info": {
   "codemirror_mode": {
    "name": "ipython",
    "version": 3
   },
   "file_extension": ".py",
   "mimetype": "text/x-python",
   "name": "python",
   "nbconvert_exporter": "python",
   "pygments_lexer": "ipython3",
   "version": "3.11.5"
  },
  "toc": {
   "base_numbering": 1,
   "nav_menu": {},
   "number_sections": true,
   "sideBar": true,
   "skip_h1_title": false,
   "title_cell": "Table of Contents",
   "title_sidebar": "Contents",
   "toc_cell": false,
   "toc_position": {},
   "toc_section_display": true,
   "toc_window_display": false
  },
  "vscode": {
   "interpreter": {
    "hash": "31f2aee4e71d21fbe5cf8b01ff0e069b9275f58929596ceb00d14d90e3e16cd6"
   }
  }
 },
 "nbformat": 4,
 "nbformat_minor": 5
}
