{
 "cells": [
  {
   "attachments": {},
   "cell_type": "markdown",
   "id": "123456",
   "metadata": {},
   "source": [
    "<div style=\"text-align:left;font-size:2em\"><span style=\"font-weight:bolder;font-size:1.25em\">SP2273 | Learning Portfolio</span><br><br><span style=\"font-weight:bold;color:darkred\">Loops (Need) Exercises</span></div>"
   ]
  },
  {
   "cell_type": "code",
   "execution_count": 4,
   "id": "131b1f00-0fd1-4804-b9f0-785f1bc709cb",
   "metadata": {},
   "outputs": [
    {
     "name": "stdout",
     "output_type": "stream",
     "text": [
      "0 32.0\n",
      "5 41.0\n",
      "10 50.0\n",
      "15 59.0\n",
      "20 68.0\n",
      "25 77.0\n",
      "30 86.0\n",
      "35 95.0\n",
      "40 104.0\n",
      "45 113.0\n",
      "50 122.0\n"
     ]
    }
   ],
   "source": [
    "#Exercise 1: taking a list of celsius temps, converting to fahrenheit and printing both temps\n",
    "temperatures_celsius = [\n",
    "    0, 5, 10, 15, 20, 25,\n",
    "    30, 35, 40, 45, 50\n",
    "]\n",
    "\n",
    "#formula: (C × 9/5) + 32 = F\n",
    "for cels in temperatures_celsius:\n",
    "    fah = cels * 9 / 5 + 32\n",
    "    print(cels, fah)"
   ]
  },
  {
   "cell_type": "code",
   "execution_count": 6,
   "id": "950f6241-506c-4002-abd3-004e96fb9a30",
   "metadata": {},
   "outputs": [
    {
     "name": "stdout",
     "output_type": "stream",
     "text": [
      "a1\ta2\ta3\t\n",
      "\n",
      "b1\tb2\tb3\t\n",
      "\n",
      "c1\tc2\tc3\t\n",
      "\n"
     ]
    }
   ],
   "source": [
    "#putting a loop in a loop, eg. adding tabs and new lines using \\t and \\n\n",
    "for letter in [\"a\", \"b\", \"c\"]:\n",
    "    for number in [1, 2, 3]: #the output includes a1, a2, a3, b1, b2... because 1 2 3 will run for every letter\n",
    "        print(f\"{letter}{number}\", end = \"\\t\")\n",
    "    print(\"\\n\")"
   ]
  },
  {
   "cell_type": "code",
   "execution_count": 19,
   "id": "1ff8bb4b-0cfd-4ab5-87a6-a800ddb4037a",
   "metadata": {},
   "outputs": [
    {
     "name": "stdout",
     "output_type": "stream",
     "text": [
      "1  :\t1\t2\t3\t4\t5\t\n",
      "\n",
      "2  :\t2\t4\t6\t8\t10\t\n",
      "\n",
      "3  :\t3\t6\t9\t12\t15\t\n",
      "\n",
      "4  :\t4\t8\t12\t16\t20\t\n",
      "\n",
      "5  :\t5\t10\t15\t20\t25\t\n",
      "\n"
     ]
    }
   ],
   "source": [
    "#Exercise 2: multiplication table\n",
    "#strategy: don't expect the output to be perfect first try, print every step of the way to get the required numbers then refine\n",
    "for number in [1, 2, 3, 4, 5]:\n",
    "    print(f\"{number}  :\", end = \"\\t\")\n",
    "    for multiplier in [1, 2, 3, 4, 5]:\n",
    "        print(f\"{number*multiplier}\", end = \"\\t\")\n",
    "    print(\"\\n\")"
   ]
  }
 ],
 "metadata": {
  "kernelspec": {
   "display_name": "Python 3 (ipykernel)",
   "language": "python",
   "name": "python3"
  },
  "language_info": {
   "codemirror_mode": {
    "name": "ipython",
    "version": 3
   },
   "file_extension": ".py",
   "mimetype": "text/x-python",
   "name": "python",
   "nbconvert_exporter": "python",
   "pygments_lexer": "ipython3",
   "version": "3.11.5"
  },
  "toc": {
   "base_numbering": 1,
   "nav_menu": {},
   "number_sections": true,
   "sideBar": true,
   "skip_h1_title": false,
   "title_cell": "Table of Contents",
   "title_sidebar": "Contents",
   "toc_cell": false,
   "toc_position": {},
   "toc_section_display": true,
   "toc_window_display": false
  },
  "vscode": {
   "interpreter": {
    "hash": "31f2aee4e71d21fbe5cf8b01ff0e069b9275f58929596ceb00d14d90e3e16cd6"
   }
  }
 },
 "nbformat": 4,
 "nbformat_minor": 5
}
