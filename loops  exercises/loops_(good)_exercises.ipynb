{
 "cells": [
  {
   "attachments": {},
   "cell_type": "markdown",
   "id": "123456",
   "metadata": {},
   "source": [
    "<div style=\"text-align:left;font-size:2em\"><span style=\"font-weight:bolder;font-size:1.25em\">SP2273 | Learning Portfolio</span><br><br><span style=\"font-weight:bold;color:darkred\">Loops (Good) Exercises</span></div>"
   ]
  },
  {
   "cell_type": "code",
   "execution_count": 7,
   "id": "00c43af0-f617-4600-a1d9-083cf6204c28",
   "metadata": {},
   "outputs": [
    {
     "name": "stdout",
     "output_type": "stream",
     "text": [
      "[1, 9, 25, 49, 81]\n"
     ]
    }
   ],
   "source": [
    "#exercise 1: making an odd list to generate squares of the odd integers from 0 to 9\n",
    "list = []\n",
    "for n in range(10):\n",
    "    if n % 2 == 0:\n",
    "        continue\n",
    "    list.append(n**2)\n",
    "print(list)"
   ]
  },
  {
   "cell_type": "code",
   "execution_count": 6,
   "id": "69a0ef3d-0cc8-47dc-a68e-df8867aae11b",
   "metadata": {},
   "outputs": [
    {
     "data": {
      "text/plain": [
       "[1, 9, 25, 49, 81]"
      ]
     },
     "execution_count": 6,
     "metadata": {},
     "output_type": "execute_result"
    }
   ],
   "source": [
    "#exercise 2: doing the same thing using list comprehension meaning output at the front\n",
    "\n",
    "[n**2 for n in range(10) if n % 2 == 1]"
   ]
  },
  {
   "cell_type": "code",
   "execution_count": 17,
   "id": "6e78f41e-d6c2-494d-afe0-23c44f7ac6cb",
   "metadata": {},
   "outputs": [
    {
     "name": "stdout",
     "output_type": "stream",
     "text": [
      "58.7 ns ± 6.45 ns per loop (mean ± std. dev. of 7 runs, 10,000,000 loops each)\n",
      "[1, 9, 25, 49, 81, 1, 9, 25, 49, 81, 1, 9, 25, 49, 81]\n"
     ]
    }
   ],
   "source": [
    "#exercise 3 timeit\n",
    "%timeit list = []\n",
    "for n in range(10):\n",
    "    if n % 2 == 0:\n",
    "        continue\n",
    "    list.append(n**2)\n",
    "print(list)"
   ]
  },
  {
   "cell_type": "code",
   "execution_count": 18,
   "id": "0779f3bb-2c1f-4df9-a15d-864bc58bea00",
   "metadata": {},
   "outputs": [
    {
     "name": "stdout",
     "output_type": "stream",
     "text": [
      "2.39 µs ± 281 ns per loop (mean ± std. dev. of 7 runs, 100,000 loops each)\n"
     ]
    }
   ],
   "source": [
    "%timeit [n**2 for n in range(10) if n % 2 == 1]"
   ]
  },
  {
   "cell_type": "markdown",
   "id": "2d17530b-5ac3-479c-a0bb-a70580838605",
   "metadata": {},
   "source": [
    "Ans: the former solution with the for loop is faster at 58.7 ns as compared to the one using list comprehension, which took ard 2.39 us"
   ]
  },
  {
   "cell_type": "code",
   "execution_count": 25,
   "id": "2621148b-4f8b-4819-854f-e5d23d51eeab",
   "metadata": {},
   "outputs": [
    {
     "name": "stdout",
     "output_type": "stream",
     "text": [
      "at 1 years, the sample weighs 95.0 units\n",
      "at 2 years, the sample weighs 90.25 units\n",
      "at 3 years, the sample weighs 85.7375 units\n",
      "at 4 years, the sample weighs 81.45062499999999 units\n",
      "at 5 years, the sample weighs 77.37809374999999 units\n",
      "at 6 years, the sample weighs 73.50918906249998 units\n",
      "at 7 years, the sample weighs 69.83372960937498 units\n",
      "at 8 years, the sample weighs 66.34204312890623 units\n",
      "at 9 years, the sample weighs 63.02494097246091 units\n",
      "at 10 years, the sample weighs 59.87369392383786 units\n",
      "at 11 years, the sample weighs 56.880009227645964 units\n",
      "at 12 years, the sample weighs 54.03600876626366 units\n",
      "at 13 years, the sample weighs 51.33420832795048 units\n"
     ]
    }
   ],
   "source": [
    "#exercise 4: math decay half life - figuring out how many years it will take\n",
    "x = 0\n",
    "mass = 100\n",
    "while mass >= 50:\n",
    "    x += 1\n",
    "    mass = .95*mass\n",
    "    if mass >= 50:\n",
    "        print(f\"at {x} years, the sample weighs {mass} units\")\n",
    "\n",
    "#ans: takes 13 years"
   ]
  },
  {
   "cell_type": "code",
   "execution_count": 35,
   "id": "45b53ce3-8fe7-44f3-a957-30e496d76b07",
   "metadata": {},
   "outputs": [
    {
     "name": "stdout",
     "output_type": "stream",
     "text": [
      "2000 369.55\n",
      "2001 1.589999999999975\n",
      "2002 2.1399999999999864\n",
      "2003 2.5200000000000387\n",
      "2004 1.7199999999999704\n",
      "2005 2.2800000000000296\n",
      "2006 2.099999999999966\n",
      "2007 1.8900000000000432\n",
      "2008 1.8100000000000023\n",
      "2009 1.829999999999984\n",
      "2010 2.4699999999999704\n",
      "2011 1.75\n",
      "2012 2.2000000000000455\n",
      "2013 2.669999999999959\n",
      "2014 2.1299999999999955\n",
      "2015 2.180000000000007\n",
      "2016 3.410000000000025\n",
      "2017 2.3100000000000023\n",
      "2018 1.9699999999999704\n",
      "2019 2.920000000000016\n",
      "2020 2.8000000000000114\n"
     ]
    }
   ],
   "source": [
    "#exercise 5: atmospheric co2 lvls. task: identify years with > 3ppm increase, print out years along w corresponding change\n",
    "co2_data = [\n",
    "    (2000, 369.55), (2001, 371.14), (2002, 373.28), \n",
    "    (2003, 375.80), (2004, 377.52), (2005, 379.80), \n",
    "    (2006, 381.90), (2007, 383.79), (2008, 385.60), \n",
    "    (2009, 387.43), (2010, 389.90), (2011, 391.65), \n",
    "    (2012, 393.85), (2013, 396.52), (2014, 398.65),\n",
    "    (2015, 400.83), (2016, 404.24), (2017, 406.55), \n",
    "    (2018, 408.52), (2019, 411.44), (2020, 414.24)\n",
    "]\n",
    "\n",
    "conc_prev = 0\n",
    "for year, conc in co2_data:\n",
    "    difference = conc - conc_prev\n",
    "    print(year, difference)\n",
    "    conc_prev = conc #setting the new \"benchmark\" as that year before new loop begins"
   ]
  },
  {
   "cell_type": "code",
   "execution_count": 41,
   "id": "e5d8dea7-9965-44d8-a554-ff178c70e420",
   "metadata": {},
   "outputs": [
    {
     "name": "stdout",
     "output_type": "stream",
     "text": [
      "2016 showed an increase of 3.410000000000025 ppm as compared to the prev year\n"
     ]
    }
   ],
   "source": [
    "#part 2: filtering out the years\n",
    "conc_prev = 0\n",
    "for year, conc in co2_data:\n",
    "    difference = conc - conc_prev\n",
    "    conc_prev = conc #setting the new \"benchmark\" as that year before new loop begins\n",
    "    if difference < 3 or year == 2000:\n",
    "        continue\n",
    "    print(f\"{year} showed an increase of {difference} ppm as compared to the prev year\")"
   ]
  }
 ],
 "metadata": {
  "kernelspec": {
   "display_name": "Python 3 (ipykernel)",
   "language": "python",
   "name": "python3"
  },
  "language_info": {
   "codemirror_mode": {
    "name": "ipython",
    "version": 3
   },
   "file_extension": ".py",
   "mimetype": "text/x-python",
   "name": "python",
   "nbconvert_exporter": "python",
   "pygments_lexer": "ipython3",
   "version": "3.11.5"
  },
  "toc": {
   "base_numbering": 1,
   "nav_menu": {},
   "number_sections": true,
   "sideBar": true,
   "skip_h1_title": false,
   "title_cell": "Table of Contents",
   "title_sidebar": "Contents",
   "toc_cell": false,
   "toc_position": {},
   "toc_section_display": true,
   "toc_window_display": false
  },
  "vscode": {
   "interpreter": {
    "hash": "31f2aee4e71d21fbe5cf8b01ff0e069b9275f58929596ceb00d14d90e3e16cd6"
   }
  }
 },
 "nbformat": 4,
 "nbformat_minor": 5
}
