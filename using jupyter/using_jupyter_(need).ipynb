{
 "cells": [
  {
   "attachments": {},
   "cell_type": "markdown",
   "id": "123456",
   "metadata": {},
   "source": [
    "<div style=\"text-align:left;font-size:2em\"><span style=\"font-weight:bolder;font-size:1.25em\">SP2273 | Learning Portfolio</span><br><br><span style=\"font-weight:bold;color:darkred\">Using Jupyter (Need)</span></div>"
   ]
  },
  {
   "attachments": {},
   "cell_type": "markdown",
   "id": "0e492d5b",
   "metadata": {},
   "source": [
    "# What to expect in this chapter"
   ]
  },
  {
   "cell_type": "code",
   "execution_count": 2,
   "id": "496ed2d4-b871-4482-b1a0-a8ccf8c61468",
   "metadata": {},
   "outputs": [],
   "source": [
    "#hashtag is for comments\n",
    "\n",
    "#All cells are default Code\n",
    "#Markdown is to make things aesthetic by rendering"
   ]
  },
  {
   "attachments": {},
   "cell_type": "markdown",
   "id": "33d02d41",
   "metadata": {},
   "source": [
    "# Getting ready"
   ]
  },
  {
   "cell_type": "markdown",
   "id": "adb69548-0654-4fc0-84ca-01906a821d8d",
   "metadata": {},
   "source": [
    "How to open Jupyter notebooks\n",
    "Open Anaconda Prompt\n",
    "Navigate to folder containing files to edit\n",
    "Copy paste the file path from Documents\\...\n",
    "Type \"cd filepath\" into prompt\n",
    "Type \"jupyter notebook\""
   ]
  },
  {
   "attachments": {},
   "cell_type": "markdown",
   "id": "12d6c47f",
   "metadata": {},
   "source": [
    "# Getting started with Jupyter"
   ]
  },
  {
   "attachments": {},
   "cell_type": "markdown",
   "id": "f9c8a150",
   "metadata": {},
   "source": [
    "## It is all about running cells"
   ]
  },
  {
   "cell_type": "code",
   "execution_count": 5,
   "id": "bae7131d-5c15-4f4c-b344-ae9c4175e868",
   "metadata": {},
   "outputs": [
    {
     "name": "stdout",
     "output_type": "stream",
     "text": [
      "21\n",
      "2.3333333333333335\n"
     ]
    }
   ],
   "source": [
    "a = 7\n",
    "b = 3\n",
    "print(a*b)\n",
    "print(a/b)"
   ]
  },
  {
   "attachments": {},
   "cell_type": "markdown",
   "id": "f69f6589",
   "metadata": {},
   "source": [
    "## A traditional start"
   ]
  },
  {
   "cell_type": "code",
   "execution_count": 6,
   "id": "bc673a21-2785-41dc-bc95-d6b5e78c4b70",
   "metadata": {},
   "outputs": [
    {
     "name": "stdout",
     "output_type": "stream",
     "text": [
      "Hello SP2273!\n"
     ]
    }
   ],
   "source": [
    "print(\"Hello SP2273!\")"
   ]
  },
  {
   "attachments": {},
   "cell_type": "markdown",
   "id": "8d9a43b9",
   "metadata": {},
   "source": [
    "# All about Markdown"
   ]
  },
  {
   "cell_type": "markdown",
   "id": "c5d02b69-4184-4cb9-86ef-26493edf8a50",
   "metadata": {},
   "source": [
    "Keyboard shortcut is ESC + M\n",
    "Run is CTRL + ENTER"
   ]
  },
  {
   "attachments": {},
   "cell_type": "markdown",
   "id": "d3eb5cbe",
   "metadata": {},
   "source": [
    "## Rendering Markdown cells"
   ]
  },
  {
   "cell_type": "markdown",
   "id": "8c386e3f-efde-4dc1-8421-a4b4262652d4",
   "metadata": {},
   "source": [
    "The ships hung in the sky in much the same way that bricks don’t."
   ]
  },
  {
   "attachments": {},
   "cell_type": "markdown",
   "id": "aaeaeca6",
   "metadata": {},
   "source": [
    "## Some basic syntax"
   ]
  },
  {
   "cell_type": "markdown",
   "id": "94e48f1d-855a-463a-915a-504ec720f0e7",
   "metadata": {},
   "source": [
    "Bold is **\n",
    "Italic is *\n",
    "All bold and italic is ***\n",
    "**BOLD**\n",
    "*ITALIC**\n",
    "***BOLD AND ITALIC***\n",
    "Carbon dioxide is CO<sub>2</sub>\n",
    "x to the third power is x<sup>3</sup>"
   ]
  },
  {
   "attachments": {},
   "cell_type": "markdown",
   "id": "3c9f63cf",
   "metadata": {},
   "source": [
    "# Headings - biggest heading is this"
   ]
  },
  {
   "cell_type": "markdown",
   "id": "e13b3dd0-2984-439c-abce-67fc6dd1f682",
   "metadata": {},
   "source": [
    "\n",
    "## followed by this\n",
    "#### this is the smallest heading"
   ]
  },
  {
   "attachments": {},
   "cell_type": "markdown",
   "id": "99a7b47b",
   "metadata": {},
   "source": [
    "## Displaying Code"
   ]
  },
  {
   "cell_type": "markdown",
   "id": "c8f7e98e-61ac-44b4-9904-ef460074a761",
   "metadata": {},
   "source": [
    "use backticks to surround the code\n",
    "\n",
    "`a = 4\n",
    "b = 3\n",
    "print(a*b)`\n",
    "\n",
    "or use ```python and ``` to surround the code lines of interest\n",
    "\n",
    "```python\n",
    "a = 4\n",
    "b = 3\n",
    "print(a*b)\n",
    "```"
   ]
  },
  {
   "attachments": {},
   "cell_type": "markdown",
   "id": "4439d9de",
   "metadata": {},
   "source": [
    "## Links\n"
   ]
  },
  {
   "cell_type": "markdown",
   "id": "b5b10c37-b9dd-4291-bebf-7795d38f088a",
   "metadata": {},
   "source": [
    "use [  ] for the title and (  ) to enclose the link. https:// must be included. Link:\n",
    "[Very important website, please open](https://www.youtube.com/watch?v=dQw4w9WgXcQ)"
   ]
  },
  {
   "attachments": {},
   "cell_type": "markdown",
   "id": "43fdcc06",
   "metadata": {},
   "source": [
    "## Images"
   ]
  },
  {
   "cell_type": "markdown",
   "id": "ac069dd6-7ec5-4622-a9ef-3f763d52c1a7",
   "metadata": {},
   "source": [
    "![hehe](https://i.kym-cdn.com/entries/icons/facebook/000/047/760/dt.jpg)"
   ]
  },
  {
   "attachments": {},
   "cell_type": "markdown",
   "id": "7743ab7c",
   "metadata": {},
   "source": [
    "## Tables"
   ]
  },
  {
   "cell_type": "markdown",
   "id": "f1795426-2e4e-46eb-acb3-1c01dd059e86",
   "metadata": {},
   "source": [
    "| A    |  B   |    C |\r\n",
    "| :--- | :--: | ---: |\r\n",
    "| a1   |  b1  |   c1 |\r\n",
    "| a2   |  b2  |   c2 |\r\n",
    "| a3   |  b3  |   c3 |c3 |c3 |"
   ]
  },
  {
   "attachments": {},
   "cell_type": "markdown",
   "id": "c487b23b",
   "metadata": {},
   "source": [
    "## Lists"
   ]
  },
  {
   "cell_type": "markdown",
   "id": "f609e502-1120-4a04-afb5-895e10c614a5",
   "metadata": {},
   "source": [
    "1. Start of a paper\n",
    "    - Abstract\n",
    "    - Introduction\n",
    "2. Main parts of a paper\n",
    "    - Materials and Methods\n",
    "    - Results\n",
    "    - Discussion\n",
    "3. Ending part of a paper\n",
    "    - Conclusion\n",
    "    - Future Work\n",
    "\n"
   ]
  },
  {
   "attachments": {},
   "cell_type": "markdown",
   "id": "7303a83f",
   "metadata": {},
   "source": [
    "## Equations"
   ]
  },
  {
   "cell_type": "markdown",
   "id": "3b83d451-8a8e-4dff-b6ce-568917d5f44d",
   "metadata": {},
   "source": [
    "use dollar signs on the outside to indicate equations. double dollar signs will stretch the equation and give it its own space. use \\ to indicate function.\n",
    "Fraction: $\\dfrac{y}{x}$ \n",
    "Quadratic formula:\n",
    "$$\n",
    "x = \\dfrac{-b \\pm \\sqrt{b^2-4ac}}{2a}\n",
    "$$\n",
    "Subscript: underscore. $$a_{b}$$\n",
    "Power: ^. $$a^{x+y}$$\n",
    "Squareroot: $$\\sqrt{16xy}$$\n",
    "Not equal (ne)\n",
    "Less than (lt) or greater than (gt)\n",
    "Less than or equal to (leq) or (geq)\n",
    "$$4 \\leq 5$$\n",
    "Greek letters: alpha, beta, gamma, pi, delta. Area of circle = $\\pi r^{2}$"
   ]
  },
  {
   "attachments": {},
   "cell_type": "markdown",
   "id": "b4c1204d",
   "metadata": {},
   "source": [
    "## Footnotes\n"
   ]
  },
  {
   "cell_type": "markdown",
   "id": "63f3fe3b-2001-433f-a1c4-f8edd44270ca",
   "metadata": {},
   "source": [
    "nil"
   ]
  }
 ],
 "metadata": {
  "kernelspec": {
   "display_name": "Python 3 (ipykernel)",
   "language": "python",
   "name": "python3"
  },
  "language_info": {
   "codemirror_mode": {
    "name": "ipython",
    "version": 3
   },
   "file_extension": ".py",
   "mimetype": "text/x-python",
   "name": "python",
   "nbconvert_exporter": "python",
   "pygments_lexer": "ipython3",
   "version": "3.11.5"
  },
  "toc": {
   "base_numbering": 1,
   "nav_menu": {},
   "number_sections": true,
   "sideBar": true,
   "skip_h1_title": false,
   "title_cell": "Table of Contents",
   "title_sidebar": "Contents",
   "toc_cell": false,
   "toc_position": {},
   "toc_section_display": true,
   "toc_window_display": false
  },
  "vscode": {
   "interpreter": {
    "hash": "31f2aee4e71d21fbe5cf8b01ff0e069b9275f58929596ceb00d14d90e3e16cd6"
   }
  }
 },
 "nbformat": 4,
 "nbformat_minor": 5
}
