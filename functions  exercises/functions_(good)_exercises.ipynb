{
 "cells": [
  {
   "attachments": {},
   "cell_type": "markdown",
   "id": "123456",
   "metadata": {},
   "source": [
    "<div style=\"text-align:left;font-size:2em\"><span style=\"font-weight:bolder;font-size:1.25em\">SP2273 | Learning Portfolio</span><br><br><span style=\"font-weight:bold;color:darkred\">Functions (Good) Exercises</span></div>"
   ]
  },
  {
   "cell_type": "code",
   "execution_count": 3,
   "id": "09329bcf-4769-400c-9e87-515a7db43199",
   "metadata": {},
   "outputs": [
    {
     "name": "stdin",
     "output_type": "stream",
     "text": [
      "temp in C pls 100\n",
      "target scale for conversion pls. type either Fahrenheit or Kelvin grrrb\n"
     ]
    },
    {
     "name": "stdout",
     "output_type": "stream",
     "text": [
      "ur temp in fahrenheit is 212.0 degrees\n"
     ]
    }
   ],
   "source": [
    "#exercise 1: temp, C to F or K\n",
    "def convert_celsius(temperature_celsius=0, target_scale=\"Fahrenheit\"):\n",
    "    temperature_celsius = input(\"temp in C pls\")\n",
    "    target_scale = input(\"target scale for conversion pls. type either Fahrenheit or Kelvin\")\n",
    "    try:\n",
    "        ctemp = float(temperature_celsius)\n",
    "        if target_scale.lower() == \"kelvin\":\n",
    "            ktemp = ctemp + 273.15\n",
    "            print(f\"ur temp in kelvin is {ktemp} degrees\")\n",
    "        else:\n",
    "            ftemp = ctemp * 9 / 5 + 32 #(°C × 9/5) + 32\n",
    "            print(f\"ur temp in fahrenheit is {ftemp} degrees\")\n",
    "    except:\n",
    "        print(\"ur temp is not in proper numerical format pls try again\")\n",
    "            \n",
    "convert_celsius()"
   ]
  },
  {
   "cell_type": "code",
   "execution_count": 4,
   "id": "d75090dc-dfa6-49e2-84ac-51be09d70e35",
   "metadata": {},
   "outputs": [
    {
     "name": "stdin",
     "output_type": "stream",
     "text": [
      "temp in F pls 100\n",
      "target scale for conversion pls. type either Celsius or Kelvin df\n"
     ]
    },
    {
     "name": "stdout",
     "output_type": "stream",
     "text": [
      "ur temp in celsius is 37.77777777777778 degrees\n"
     ]
    }
   ],
   "source": [
    "#exercise 2: temp, F to C or K\n",
    "def convert_fahrenheit(temperature_fahrenheit=0, target_scale=\"Celsius\"):\n",
    "    temperature_fahrenheit = input(\"temp in F pls\")\n",
    "    target_scale = input(\"target scale for conversion pls. type either Celsius or Kelvin\")\n",
    "    try:\n",
    "        ftemp = float(temperature_fahrenheit)\n",
    "        if target_scale.lower() == \"kelvin\":\n",
    "            ktemp = (ftemp - 32)*5/9 + 273.15\n",
    "            print(f\"ur temp in kelvin is {ktemp} degrees\")\n",
    "        else:\n",
    "            ctemp = (ftemp - 32)*5/9 #(°C × 9/5) + 32\n",
    "            print(f\"ur temp in celsius is {ctemp} degrees\")\n",
    "            \n",
    "    except:\n",
    "        print(\"ur temp is not in proper numerical format pls try again\")\n",
    "            \n",
    "convert_fahrenheit()"
   ]
  },
  {
   "cell_type": "code",
   "execution_count": 25,
   "id": "4411f917-7021-4aa8-8dc1-df4b9ea9ecc4",
   "metadata": {},
   "outputs": [
    {
     "name": "stdin",
     "output_type": "stream",
     "text": [
      "starting temp? 1000\n",
      "what scale is your temp originally in? kelvin\n",
      "what scale would you like to convert it to? celsius\n"
     ]
    },
    {
     "name": "stdout",
     "output_type": "stream",
     "text": [
      "ur temp in celsius is 726.85 degrees\n"
     ]
    }
   ],
   "source": [
    "#exercise 3: general temp conversions\n",
    "\n",
    "def convert_temperature(temperature=0,source_scale=\"celsius\",target_scale=\"fahrenheit\"):\n",
    "    temperature = input(\"starting temp?\")\n",
    "    source_scale = input(\"what scale is your temp originally in?\")\n",
    "    target_scale = input(\"what scale would you like to convert it to?\")\n",
    "    try:\n",
    "        startingtemp = float(temperature)\n",
    "        if source_scale.lower() == \"celsius\" and target_scale.lower() == \"fahrenheit\": #C to F\n",
    "            ftemp = startingtemp * 9 / 5 + 32 #(°C × 9/5) + 32\n",
    "            print(f\"ur temp in fahrenheit is {ftemp} degrees\")\n",
    "        elif source_scale.lower() == \"celsius\" and target_scale.lower() == \"kelvin\": #C to K\n",
    "            ktemp = startingtemp + 273.15\n",
    "            print(f\"ur temp in kelvin is {ktemp} degrees\")\n",
    "        elif source_scale.lower() == \"fahrenheit\" and target_scale.lower() == \"celsius\": #F to C\n",
    "            ctemp = (startingtemp - 32)*5/9 #(°C × 9/5) + 32\n",
    "            print(f\"ur temp in celsius is {ctemp} degrees\")\n",
    "        elif source_scale.lower() == \"fahrenheit\" and target_scale.lower() == \"kelvin\": #F to K\n",
    "            ktemp = (startingtemp - 32)*5/9 + 273.15\n",
    "            print(f\"ur temp in kelvin is {ktemp} degrees\")\n",
    "        elif source_scale.lower() == \"kelvin\" and target_scale.lower() == \"celsius\": #K to C\n",
    "            ctemp = (startingtemp - 273.15)\n",
    "            print(f\"ur temp in celsius is {ctemp} degrees\")\n",
    "        elif source_scale.lower() == \"kelvin\" and target_scale.lower() == \"fahrenheit\": #K to F\n",
    "            ctemp = (startingtemp - 273.15) * 9 / 5 + 32\n",
    "            print(f\"ur temp in celsius is {ctemp} degrees\")\n",
    "        else:\n",
    "            print(\"please try again\")\n",
    "    except:\n",
    "        print(\"ur temp is not in proper numerical format pls try again\")\n",
    "\n",
    "convert_temperature()"
   ]
  }
 ],
 "metadata": {
  "kernelspec": {
   "display_name": "Python 3 (ipykernel)",
   "language": "python",
   "name": "python3"
  },
  "language_info": {
   "codemirror_mode": {
    "name": "ipython",
    "version": 3
   },
   "file_extension": ".py",
   "mimetype": "text/x-python",
   "name": "python",
   "nbconvert_exporter": "python",
   "pygments_lexer": "ipython3",
   "version": "3.11.5"
  },
  "toc": {
   "base_numbering": 1,
   "nav_menu": {},
   "number_sections": true,
   "sideBar": true,
   "skip_h1_title": false,
   "title_cell": "Table of Contents",
   "title_sidebar": "Contents",
   "toc_cell": false,
   "toc_position": {},
   "toc_section_display": true,
   "toc_window_display": false
  },
  "vscode": {
   "interpreter": {
    "hash": "31f2aee4e71d21fbe5cf8b01ff0e069b9275f58929596ceb00d14d90e3e16cd6"
   }
  }
 },
 "nbformat": 4,
 "nbformat_minor": 5
}
