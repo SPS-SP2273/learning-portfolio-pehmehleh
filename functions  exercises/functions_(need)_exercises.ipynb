{
 "cells": [
  {
   "attachments": {},
   "cell_type": "markdown",
   "id": "123456",
   "metadata": {},
   "source": [
    "<div style=\"text-align:left;font-size:2em\"><span style=\"font-weight:bolder;font-size:1.25em\">SP2273 | Learning Portfolio</span><br><br><span style=\"font-weight:bold;color:darkred\">Functions (Need) Exercises</span></div>"
   ]
  },
  {
   "cell_type": "markdown",
   "id": "6f7aaad1-6d6c-4faf-b59c-99605c804b97",
   "metadata": {},
   "source": [
    "### exercise 1: explaining why code works even though not having an else statement\n",
    "reason: the \"else\" statement is sort of already implied in the return f\"Hello {name}!\" line, but actually without that line the code would still work (with no error) because it is possible to have a code return nothing unless a specific input is entered (\"Batman\", in this case)"
   ]
  },
  {
   "cell_type": "code",
   "execution_count": 19,
   "id": "22d343df-4d65-4448-965b-50db69e68fb4",
   "metadata": {},
   "outputs": [],
   "source": [
    "def greeting(name): #took out the bottom return statement, works alright\n",
    "    if name == 'Batman':\n",
    "        return 'Hello Batman! So, nice to meet you!'"
   ]
  },
  {
   "cell_type": "code",
   "execution_count": 15,
   "id": "c82bbef8-a752-4300-92d9-d46c8102844d",
   "metadata": {},
   "outputs": [
    {
     "name": "stdin",
     "output_type": "stream",
     "text": [
      "weight in kg pls 69\n",
      "height in meters pls 1.69\n"
     ]
    },
    {
     "name": "stdout",
     "output_type": "stream",
     "text": [
      "your bmi is 24.158817968558527\n",
      "Category: Normal weight\n"
     ]
    }
   ],
   "source": [
    "#exercise 2: bmi calculator\n",
    "\n",
    "def calculate_bmi(weight=0, height=0): #must put default values, otherwise ERROR\n",
    "    weight = input(\"weight in kg pls\")\n",
    "    height = input(\"height in meters pls\")\n",
    "    try:\n",
    "        w = float(weight)\n",
    "        h = float(height)\n",
    "        bmi = w / (h ** 2)\n",
    "        print(f\"your bmi is {bmi}\")\n",
    "        if bmi < 18.5:\n",
    "            print(\"Category: Underweight\")\n",
    "        elif 18.5 <= bmi <25:\n",
    "            print(\"Category: Normal weight\")\n",
    "        elif 25 <= bmi < 30:\n",
    "            print(\"Category: Overweight\")\n",
    "        else:\n",
    "            print(\"Category: Obese\")\n",
    "    except:\n",
    "        print(\"one or both of those values aren't proper numerical inputs pls try again\")\n",
    "\n",
    "calculate_bmi() #need to call the fxn first for the input prompt to pop up"
   ]
  },
  {
   "cell_type": "code",
   "execution_count": 12,
   "id": "d8089166-95d9-4c11-adf2-236bba2d8705",
   "metadata": {},
   "outputs": [
    {
     "ename": "TypeError",
     "evalue": "calculate_bmi() missing 2 required positional arguments: 'weight' and 'height'",
     "output_type": "error",
     "traceback": [
      "\u001b[1;31m---------------------------------------------------------------------------\u001b[0m",
      "\u001b[1;31mTypeError\u001b[0m                                 Traceback (most recent call last)",
      "Cell \u001b[1;32mIn[12], line 20\u001b[0m\n\u001b[0;32m     17\u001b[0m     \u001b[38;5;28;01mexcept\u001b[39;00m:\n\u001b[0;32m     18\u001b[0m         \u001b[38;5;28mprint\u001b[39m(\u001b[38;5;124m\"\u001b[39m\u001b[38;5;124mone or both of those values aren\u001b[39m\u001b[38;5;124m'\u001b[39m\u001b[38;5;124mt proper numerical inputs pls try again\u001b[39m\u001b[38;5;124m\"\u001b[39m)\n\u001b[1;32m---> 20\u001b[0m \u001b[43mcalculate_bmi\u001b[49m\u001b[43m(\u001b[49m\u001b[43m)\u001b[49m \u001b[38;5;66;03m#need to call the fxn first for the input prompt to pop up\u001b[39;00m\n",
      "\u001b[1;31mTypeError\u001b[0m: calculate_bmi() missing 2 required positional arguments: 'weight' and 'height'"
     ]
    }
   ],
   "source": [
    "#error code just for reference\n",
    "def calculate_bmi(weight, height): #must put default values, otherwise ERROR\n",
    "    weight = input(\"weight in kg pls\")\n",
    "    height = input(\"height in meters pls\")\n",
    "    try:\n",
    "        w = float(weight)\n",
    "        h = float(height)\n",
    "        bmi = w / (h ** 2)\n",
    "        print(bmi)\n",
    "        if bmi < 18.5:\n",
    "            print(\"Category: Underweight\")\n",
    "        elif 18.5 <= bmi <25:\n",
    "            print(\"Category: Normal weight\")\n",
    "        elif 25 <= bmi < 30:\n",
    "            print(\"Category: Overweight\")\n",
    "        else:\n",
    "            print(\"Category: Obese\")\n",
    "    except:\n",
    "        print(\"one or both of those values aren't proper numerical inputs pls try again\")\n",
    "\n",
    "calculate_bmi() #need to call the fxn first for the input prompt to pop up"
   ]
  }
 ],
 "metadata": {
  "kernelspec": {
   "display_name": "Python 3 (ipykernel)",
   "language": "python",
   "name": "python3"
  },
  "language_info": {
   "codemirror_mode": {
    "name": "ipython",
    "version": 3
   },
   "file_extension": ".py",
   "mimetype": "text/x-python",
   "name": "python",
   "nbconvert_exporter": "python",
   "pygments_lexer": "ipython3",
   "version": "3.11.5"
  },
  "toc": {
   "base_numbering": 1,
   "nav_menu": {},
   "number_sections": true,
   "sideBar": true,
   "skip_h1_title": false,
   "title_cell": "Table of Contents",
   "title_sidebar": "Contents",
   "toc_cell": false,
   "toc_position": {},
   "toc_section_display": true,
   "toc_window_display": false
  },
  "vscode": {
   "interpreter": {
    "hash": "31f2aee4e71d21fbe5cf8b01ff0e069b9275f58929596ceb00d14d90e3e16cd6"
   }
  }
 },
 "nbformat": 4,
 "nbformat_minor": 5
}
