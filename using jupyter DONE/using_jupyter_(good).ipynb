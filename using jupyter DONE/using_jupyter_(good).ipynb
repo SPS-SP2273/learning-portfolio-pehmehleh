{
 "cells": [
  {
   "attachments": {},
   "cell_type": "markdown",
   "id": "123456",
   "metadata": {},
   "source": [
    "<div style=\"text-align:left;font-size:2em\"><span style=\"font-weight:bolder;font-size:1.25em\">SP2273 | Learning Portfolio</span><br><br><span style=\"font-weight:bold;color:darkred\">Using Jupyter (Good)</span></div>"
   ]
  },
  {
   "attachments": {},
   "cell_type": "markdown",
   "id": "56b14d72",
   "metadata": {},
   "source": [
    "\n",
    "# What to expect in this chapter"
   ]
  },
  {
   "cell_type": "markdown",
   "id": "35d30917-6ddd-4d75-b43b-04aad222b104",
   "metadata": {},
   "source": [
    "Extensions, shell magic, things that help optimise environment to make it easier to use Jupyter"
   ]
  },
  {
   "attachments": {},
   "cell_type": "markdown",
   "id": "0c14a20f",
   "metadata": {},
   "source": [
    "# Some tips and tricks"
   ]
  },
  {
   "attachments": {},
   "cell_type": "markdown",
   "id": "c1feaf9d",
   "metadata": {},
   "source": [
    "## 1.1 Keyboard Shortcuts"
   ]
  },
  {
   "cell_type": "markdown",
   "id": "46f2f1cb-3bc9-4863-a49d-d7986244c93f",
   "metadata": {},
   "source": [
    "Run cell: Ctrl + Enter\n",
    "Run cell and move to next: Shift + Enter\n",
    "Convert cell to CODE: ESC + Y\n",
    "Convert cell to MARKDOWN: ESC + M\n",
    "Create new cell: ESC + A (above) or B (below)\n",
    "Copy cell: ESC + C\n",
    "Paste cell: ESC + V\n",
    "Merge cells: Shift + M (will merge with the one below)\n",
    "Delete cell: ESC + D + D"
   ]
  },
  {
   "attachments": {},
   "cell_type": "markdown",
   "id": "24011451",
   "metadata": {},
   "source": [
    "### Things to note"
   ]
  },
  {
   "cell_type": "markdown",
   "id": "1a561edf-ad71-4e66-bfaf-22efba9d1bc7",
   "metadata": {},
   "source": [
    "Select 1 or more cells using SHIFT and UP/DOWN buttons \n",
    "Don't recklessly ESC + D + D"
   ]
  },
  {
   "attachments": {},
   "cell_type": "markdown",
   "id": "0b4a5253",
   "metadata": {},
   "source": [
    "## 1.2 Shell commands"
   ]
  },
  {
   "cell_type": "markdown",
   "id": "1b257e98-3d41-4987-aa8b-f07f3d3d53a6",
   "metadata": {},
   "source": [
    "!cd is for working directory, !dir is for files in folder"
   ]
  },
  {
   "cell_type": "code",
   "execution_count": 1,
   "id": "3fcf882a-662f-4b58-bd28-7a056e3bfde3",
   "metadata": {},
   "outputs": [
    {
     "name": "stdout",
     "output_type": "stream",
     "text": [
      "C:\\Users\\Pamela Lee\\Documents\\GitHub\\learning-portfolio-pehmehleh\\using jupyter\n"
     ]
    }
   ],
   "source": [
    "!cd"
   ]
  },
  {
   "cell_type": "code",
   "execution_count": 2,
   "id": "6070acf3-66f1-4640-8f1a-de86df791faf",
   "metadata": {},
   "outputs": [
    {
     "name": "stdout",
     "output_type": "stream",
     "text": [
      " Volume in drive C is Windows\n",
      " Volume Serial Number is E87D-6CCE\n",
      "\n",
      " Directory of C:\\Users\\Pamela Lee\\Documents\\GitHub\\learning-portfolio-pehmehleh\\using jupyter\n",
      "\n",
      "01/22/2024  05:26 PM    <DIR>          .\n",
      "01/19/2024  02:37 PM    <DIR>          ..\n",
      "01/19/2024  03:02 PM    <DIR>          .ipynb_checkpoints\n",
      "01/17/2024  09:27 AM    <DIR>          tada\n",
      "01/19/2024  03:36 PM               713 using-jupyter_need.ipynb\n",
      "01/22/2024  05:26 PM             5,024 using_jupyter_(good).ipynb\n",
      "01/22/2024  05:16 PM             8,259 using_jupyter_(need).ipynb\n",
      "               3 File(s)         13,996 bytes\n",
      "               4 Dir(s)  300,718,465,024 bytes free\n"
     ]
    }
   ],
   "source": [
    "!dir"
   ]
  },
  {
   "attachments": {},
   "cell_type": "markdown",
   "id": "fe74eb2b",
   "metadata": {},
   "source": [
    "# 2 Jupyter Extensions"
   ]
  },
  {
   "attachments": {},
   "cell_type": "markdown",
   "id": "afbecbab",
   "metadata": {},
   "source": [
    "## 2.1 Installing the extensions"
   ]
  },
  {
   "attachments": {},
   "cell_type": "markdown",
   "id": "274543b9",
   "metadata": {},
   "source": [
    "## 2.2 Enabling the extensions"
   ]
  },
  {
   "attachments": {},
   "cell_type": "markdown",
   "id": "5fd0548c",
   "metadata": {},
   "source": [
    "# Shell Magic"
   ]
  },
  {
   "cell_type": "markdown",
   "id": "1f9a33d6-156b-4bb3-b226-5191314152eb",
   "metadata": {},
   "source": [
    "do not type %%timeit it will crash"
   ]
  },
  {
   "cell_type": "code",
   "execution_count": 1,
   "id": "8820d739-c595-4244-bbd3-60221e1c3370",
   "metadata": {},
   "outputs": [
    {
     "name": "stdout",
     "output_type": "stream",
     "text": [
      "25.3 ns ± 2.05 ns per loop (mean ± std. dev. of 7 runs, 10,000,000 loops each)\n"
     ]
    }
   ],
   "source": [
    "%timeit x=10"
   ]
  },
  {
   "cell_type": "code",
   "execution_count": 3,
   "id": "a631a326-2279-4cad-85aa-0d7ae6b04e25",
   "metadata": {},
   "outputs": [
    {
     "name": "stdout",
     "output_type": "stream",
     "text": [
      "26.8 ns ± 4.01 ns per loop (mean ± std. dev. of 7 runs, 10,000,000 loops each)\n"
     ]
    }
   ],
   "source": [
    "%timeit x=1"
   ]
  },
  {
   "attachments": {},
   "cell_type": "markdown",
   "id": "77578ae2",
   "metadata": {},
   "source": [
    "# The Kernel"
   ]
  },
  {
   "cell_type": "markdown",
   "id": "19725328-ae21-4589-b732-a7cf051410c3",
   "metadata": {},
   "source": [
    "all BTS scenes of running Jupyter Notebook is done by Kernel\n",
    "it's like a coprogramme that runs and handles the notebooks"
   ]
  }
 ],
 "metadata": {
  "kernelspec": {
   "display_name": "Python 3 (ipykernel)",
   "language": "python",
   "name": "python3"
  },
  "language_info": {
   "codemirror_mode": {
    "name": "ipython",
    "version": 3
   },
   "file_extension": ".py",
   "mimetype": "text/x-python",
   "name": "python",
   "nbconvert_exporter": "python",
   "pygments_lexer": "ipython3",
   "version": "3.11.5"
  },
  "toc": {
   "base_numbering": 1,
   "nav_menu": {},
   "number_sections": true,
   "sideBar": true,
   "skip_h1_title": false,
   "title_cell": "Table of Contents",
   "title_sidebar": "Contents",
   "toc_cell": false,
   "toc_position": {},
   "toc_section_display": true,
   "toc_window_display": false
  },
  "vscode": {
   "interpreter": {
    "hash": "31f2aee4e71d21fbe5cf8b01ff0e069b9275f58929596ceb00d14d90e3e16cd6"
   }
  }
 },
 "nbformat": 4,
 "nbformat_minor": 5
}
