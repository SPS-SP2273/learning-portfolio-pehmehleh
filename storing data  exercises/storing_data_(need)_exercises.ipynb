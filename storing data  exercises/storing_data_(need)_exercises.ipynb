{
 "cells": [
  {
   "attachments": {},
   "cell_type": "markdown",
   "id": "123456",
   "metadata": {},
   "source": [
    "<div style=\"text-align:left;font-size:2em\"><span style=\"font-weight:bolder;font-size:1.25em\">SP2273 | Learning Portfolio</span><br><br><span style=\"font-weight:bold;color:darkred\">Storing Data (Need) Exercises</span></div>"
   ]
  },
  {
   "cell_type": "markdown",
   "id": "a1f24966-e471-40b6-bccf-24e9ae091963",
   "metadata": {},
   "source": [
    "# Exercise 1"
   ]
  },
  {
   "cell_type": "markdown",
   "id": "26fa9666-ece1-49a0-aaaa-bb6e1f6ab257",
   "metadata": {},
   "source": [
    "**Similarities**\n",
    "1. both can store data\n",
    "2. both can be manipulated (eg. adding elements or subjecting the values to operations)\n",
    "*len() can be used in both*\n",
    "3. both use square brackets\n",
    "\n",
    "**Differences**\n",
    "1. when adding lists tgt, new elements are added. when adding arrays together, the corresponding values undergo the operation together *i.e. an operation on a list works on the whole list. an operation on an array works on the individual elements of the array*\n",
    "2. questions concerning whether the values in an array fit a certain condition can be asked for arrays but not so much for lists. for example, if an array contains 1, 2, 3, 4, 5 and we ask array == 3? the output will be F, F, T, F, F. for lists, it'll just say false. if the question was array > 3? output for array will be F, F, F, T, T and for lists it will not work\n",
    "3. another difference: arrays are fussy about type of data used, eg. int, float or str. lists are more relaxed\n",
    "\n",
    "**Dictionary**\n",
    "- a dictionary uses {} brackets and essentially assigns a VALUE to a KEY. when the key is called upon, the value is printed. all keys and values can be printed using .keys() or .values()"
   ]
  },
  {
   "cell_type": "code",
   "execution_count": 21,
   "id": "98580147-437d-4445-b74c-adc3c181527e",
   "metadata": {},
   "outputs": [
    {
     "name": "stdout",
     "output_type": "stream",
     "text": [
      "[1, 2, 3, 4, 5]\n",
      "[1 2 3 4 5]\n",
      "False\n",
      "[False False  True False False]\n",
      "[False False False  True  True]\n"
     ]
    },
    {
     "ename": "TypeError",
     "evalue": "'>' not supported between instances of 'list' and 'int'",
     "output_type": "error",
     "traceback": [
      "\u001b[1;31m---------------------------------------------------------------------------\u001b[0m",
      "\u001b[1;31mTypeError\u001b[0m                                 Traceback (most recent call last)",
      "Cell \u001b[1;32mIn[21], line 9\u001b[0m\n\u001b[0;32m      7\u001b[0m \u001b[38;5;28mprint\u001b[39m(arr \u001b[38;5;241m==\u001b[39m \u001b[38;5;241m3\u001b[39m)\n\u001b[0;32m      8\u001b[0m \u001b[38;5;28mprint\u001b[39m(arr \u001b[38;5;241m>\u001b[39m \u001b[38;5;241m3\u001b[39m)\n\u001b[1;32m----> 9\u001b[0m \u001b[38;5;28mprint\u001b[39m(\u001b[43mlst\u001b[49m\u001b[43m \u001b[49m\u001b[38;5;241;43m>\u001b[39;49m\u001b[43m \u001b[49m\u001b[38;5;241;43m3\u001b[39;49m)\n",
      "\u001b[1;31mTypeError\u001b[0m: '>' not supported between instances of 'list' and 'int'"
     ]
    }
   ],
   "source": [
    "import numpy\n",
    "lst = [1, 2, 3, 4,5]\n",
    "arr = numpy.array(lst)\n",
    "print(lst)\n",
    "print(arr)\n",
    "print(lst == 3)\n",
    "print(arr == 3)\n",
    "print(arr > 3)\n",
    "print(lst > 3)"
   ]
  },
  {
   "cell_type": "markdown",
   "id": "3616d8d0-1343-487b-a684-5441939b0c91",
   "metadata": {},
   "source": [
    "# Exercise 2 - alternating in lists"
   ]
  },
  {
   "cell_type": "code",
   "execution_count": 22,
   "id": "05d62bcc-f073-4161-9aa5-9710ff82b686",
   "metadata": {},
   "outputs": [
    {
     "name": "stdout",
     "output_type": "stream",
     "text": [
      "a1\n",
      "c3\n",
      "e5\n",
      "g7\n",
      "i9\n"
     ]
    }
   ],
   "source": [
    "py_list = [\"a1\", \"b2\", \"c3\", \"d4\", \"e5\", \"f6\", \"g7\", \"h8\", \"i9\", \"j10\"]\n",
    "for i in py_list[::2]: #this is a slicing operation that goes in increments of 2, selecting every alternate item\n",
    "    print(i)\n",
    "    continue"
   ]
  },
  {
   "cell_type": "markdown",
   "id": "a1abff42-d328-40f3-b7ee-9b261b7dd145",
   "metadata": {},
   "source": [
    "# Exercise 3"
   ]
  },
  {
   "cell_type": "code",
   "execution_count": 23,
   "id": "67a4fd16-81c9-440c-934e-df1a5793f6e2",
   "metadata": {},
   "outputs": [
    {
     "name": "stdout",
     "output_type": "stream",
     "text": [
      "Beryllium\n",
      "Beryllium\n"
     ]
    }
   ],
   "source": [
    "#sorry what does \"index 4\" mean in the instructions? does it mean the 4th item? so in this case the ans is [3]?\n",
    "\n",
    "elements = ['Hydrogen',\n",
    "            'Helium', 'Lithium',\n",
    "            'Beryllium', 'Boron', 'Carbon',\n",
    "            'Nitrogen', 'Oxygen',\n",
    "            'Fluorine',\n",
    "            'Neon']\n",
    "print(elements[3])\n",
    "print(elements[-7])"
   ]
  },
  {
   "cell_type": "markdown",
   "id": "e5dcccd1-434c-44b4-b150-1b7f0b9cf587",
   "metadata": {},
   "source": [
    "# Exercise 4: How many ones"
   ]
  },
  {
   "cell_type": "code",
   "execution_count": 26,
   "id": "d377845a-b251-42a5-993c-e42fe59abdfd",
   "metadata": {},
   "outputs": [
    {
     "name": "stdout",
     "output_type": "stream",
     "text": [
      "[False False  True False False  True False False False  True False False\n",
      " False False False False False  True  True False False False False False\n",
      " False False False False  True False  True False False False False False\n",
      "  True False False False False False False  True False False False False\n",
      " False False]\n",
      "9\n"
     ]
    }
   ],
   "source": [
    "numbers=[45, 60, 1, 30, 96, 1, 96, 57, 16, 1,\n",
    "        99, 62, 86, 43, 42, 60, 59, 1, 1, 35,\n",
    "        83, 47, 34, 28, 68, 23, 22, 92, 1, 79,\n",
    "        1, 29, 94, 72, 46, 47, 1, 74, 32, 20,\n",
    "        8, 37, 35, 1, 89, 29, 86, 19, 43, 61]  \n",
    "import numpy\n",
    "npa = numpy.array(numbers)\n",
    "ask = npa == 1\n",
    "print(ask)\n",
    "print(ask.sum())"
   ]
  }
 ],
 "metadata": {
  "kernelspec": {
   "display_name": "Python 3 (ipykernel)",
   "language": "python",
   "name": "python3"
  },
  "language_info": {
   "codemirror_mode": {
    "name": "ipython",
    "version": 3
   },
   "file_extension": ".py",
   "mimetype": "text/x-python",
   "name": "python",
   "nbconvert_exporter": "python",
   "pygments_lexer": "ipython3",
   "version": "3.11.5"
  },
  "toc": {
   "base_numbering": 1,
   "nav_menu": {},
   "number_sections": true,
   "sideBar": true,
   "skip_h1_title": false,
   "title_cell": "Table of Contents",
   "title_sidebar": "Contents",
   "toc_cell": false,
   "toc_position": {},
   "toc_section_display": true,
   "toc_window_display": false
  },
  "vscode": {
   "interpreter": {
    "hash": "31f2aee4e71d21fbe5cf8b01ff0e069b9275f58929596ceb00d14d90e3e16cd6"
   }
  }
 },
 "nbformat": 4,
 "nbformat_minor": 5
}
