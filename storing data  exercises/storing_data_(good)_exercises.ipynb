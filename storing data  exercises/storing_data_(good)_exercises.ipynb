{
 "cells": [
  {
   "attachments": {},
   "cell_type": "markdown",
   "id": "123456",
   "metadata": {},
   "source": [
    "<div style=\"text-align:left;font-size:2em\"><span style=\"font-weight:bolder;font-size:1.25em\">SP2273 | Learning Portfolio</span><br><br><span style=\"font-weight:bold;color:darkred\">Storing Data (Good) Exercises</span></div>"
   ]
  },
  {
   "cell_type": "markdown",
   "id": "65e09918-447b-4259-bd18-bba71ffa3e12",
   "metadata": {},
   "source": [
    "Exercise 1: descriptions of terms\n",
    "\n",
    "**Subsetting**: selecting a subset of data in list/array (or data storage format). can include indexing or slicing\n",
    "\n",
    "**Indexing**: selecting individual elements in data storage\n",
    "\n",
    "**Slicing**: selecting a range of elements in data storage"
   ]
  },
  {
   "cell_type": "code",
   "execution_count": 24,
   "id": "4642afce-0d61-4f30-be64-19f22a2bcb69",
   "metadata": {},
   "outputs": [
    {
     "name": "stdout",
     "output_type": "stream",
     "text": [
      "[ 1  3  2  4  5  7  6  8 10  9]\n"
     ]
    }
   ],
   "source": [
    "##Exercise 2: show me odd letters\n",
    "import numpy\n",
    "array = numpy.array([[1, \"A\"], [3, \"C\"], [2, \"B\"], [4, \"D\"], [5, \"E\"], [7, \"G\"], [6, \"F\"], [8, \"H\"], [10, \"J\"], [9, \"I\"]])\n",
    "x = array[:,0] #setting x as all the first elements\n",
    "x = x.astype(int) #changing to int\n",
    "print(x)"
   ]
  },
  {
   "cell_type": "code",
   "execution_count": 32,
   "id": "539bd556-9aca-4dff-bf8d-efb0ec6fee69",
   "metadata": {},
   "outputs": [
    {
     "name": "stdout",
     "output_type": "stream",
     "text": [
      "[1 1 0 0 1 1 0 0 0 1]\n",
      "[ True  True False False  True  True False False False  True]\n",
      "['A' 'C' 'E' 'G' 'I']\n"
     ]
    }
   ],
   "source": [
    "remainders = x%2\n",
    "print(remainders) \n",
    "mask = remainders == 1 #setting a mask (filter) to see which are the odd nos. in the first element\n",
    "print(mask) #gives true or false for all\n",
    "y = array[mask] #filters out the array for the data (LETTERS AND NUMBERS TGT) that contains odd numbers\n",
    "print(y[:,1]) #extracting out corresponding 2nd elements"
   ]
  }
 ],
 "metadata": {
  "kernelspec": {
   "display_name": "Python 3 (ipykernel)",
   "language": "python",
   "name": "python3"
  },
  "language_info": {
   "codemirror_mode": {
    "name": "ipython",
    "version": 3
   },
   "file_extension": ".py",
   "mimetype": "text/x-python",
   "name": "python",
   "nbconvert_exporter": "python",
   "pygments_lexer": "ipython3",
   "version": "3.11.5"
  },
  "toc": {
   "base_numbering": 1,
   "nav_menu": {},
   "number_sections": true,
   "sideBar": true,
   "skip_h1_title": false,
   "title_cell": "Table of Contents",
   "title_sidebar": "Contents",
   "toc_cell": false,
   "toc_position": {},
   "toc_section_display": true,
   "toc_window_display": false
  },
  "vscode": {
   "interpreter": {
    "hash": "31f2aee4e71d21fbe5cf8b01ff0e069b9275f58929596ceb00d14d90e3e16cd6"
   }
  }
 },
 "nbformat": 4,
 "nbformat_minor": 5
}
