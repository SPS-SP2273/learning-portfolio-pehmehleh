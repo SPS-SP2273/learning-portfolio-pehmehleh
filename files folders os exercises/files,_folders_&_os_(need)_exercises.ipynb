{
 "cells": [
  {
   "attachments": {},
   "cell_type": "markdown",
   "id": "123456",
   "metadata": {},
   "source": [
    "<div style=\"text-align:left;font-size:2em\"><span style=\"font-weight:bolder;font-size:1.25em\">SP2273 | Learning Portfolio</span><br><br><span style=\"font-weight:bold;color:darkred\">Files, Folders & OS (Need) Exercises</span></div>"
   ]
  },
  {
   "cell_type": "markdown",
   "id": "66e98bb5-88b6-4f34-a926-6954d8b114f0",
   "metadata": {},
   "source": [
    "Environmental pollution analysing team\n",
    "ten cities involved: Cairo, Dhaka, Jakarta, Karachi, Manila, Melbourne, Osaka, Shanghai, Singapore, and Tokyo.\n",
    "\n",
    "This was really difficult, a lot of it wasn't intuitive especially the 'create the destination directory if it doesn't exist'"
   ]
  },
  {
   "cell_type": "code",
   "execution_count": 2,
   "id": "a5e26e09-050b-4946-81c8-04a6bf8907a0",
   "metadata": {},
   "outputs": [
    {
     "name": "stdin",
     "output_type": "stream",
     "text": [
      "file name pls oct-08_singapore.txt\n"
     ]
    },
    {
     "data": {
      "text/plain": [
       "'10-08_singapore.txt'"
      ]
     },
     "execution_count": 2,
     "metadata": {},
     "output_type": "execute_result"
    }
   ],
   "source": [
    "#task 1 and 2\n",
    "\n",
    "months = {\n",
    "    'jan': '01', 'feb': '02', 'mar': '03',\n",
    "    'apr': '04', 'may': '05', 'jun': '06',\n",
    "    'jul': '07', 'aug': '08', 'sep': '09',\n",
    "    'oct': '10', 'nov': '11', 'dec': '12'\n",
    "}\n",
    "\n",
    "def rename_my_file(old_file_name=\"nil\"):\n",
    "    old_file_name = input(\"file name pls\")\n",
    "    new_file_name = old_file_name\n",
    "    for month, month_number in months.items():\n",
    "        new_file_name = new_file_name.replace(month, month_number)\n",
    "    return new_file_name\n",
    "\n",
    "rename_my_file()"
   ]
  },
  {
   "cell_type": "code",
   "execution_count": 7,
   "id": "61a0b1cf-3077-448b-9dce-112418f73aa9",
   "metadata": {},
   "outputs": [
    {
     "name": "stdout",
     "output_type": "stream",
     "text": [
      "oct-08_singapore.txt ---> 10-08_singapore.txt\n",
      "jul-10_cairo.txt ---> 07-10_cairo.txt\n",
      "may-15_dhaka.txt ---> 05-15_dhaka.txt\n",
      "may-13_cairo.txt ---> 05-13_cairo.txt\n",
      "oct-21_cairo.txt ---> 10-21_cairo.txt\n",
      "jan-10_singapore.txt ---> 01-10_singapore.txt\n",
      "jun-20_tokyo.txt ---> 06-20_tokyo.txt\n",
      "aug-06_jakarta.txt ---> 08-06_jakarta.txt\n",
      "dec-21_karachi.txt ---> 12-21_karachi.txt\n",
      "jan-01_tokyo.txt ---> 01-01_tokyo.txt\n"
     ]
    }
   ],
   "source": [
    "#task 3\n",
    "def rename_my_file(old_file_name=\"nil\"):\n",
    "    new_file_name = old_file_name #removed the input thing\n",
    "    for month, month_number in months.items():\n",
    "        new_file_name = new_file_name.replace(month, month_number)\n",
    "    return new_file_name\n",
    "\n",
    "files_to_rename = ['oct-08_singapore.txt', 'jul-10_cairo.txt', 'may-15_dhaka.txt',\n",
    " 'may-13_cairo.txt', 'oct-21_cairo.txt', 'jan-10_singapore.txt',\n",
    " 'jun-20_tokyo.txt', 'aug-06_jakarta.txt', 'dec-21_karachi.txt',\n",
    " 'jan-01_tokyo.txt']\n",
    "for file in files_to_rename:\n",
    "    new_filename = rename_my_file(file)\n",
    "    print(f\"{file} ---> {new_filename}\")"
   ]
  },
  {
   "cell_type": "code",
   "execution_count": 18,
   "id": "5974a86d-94af-4082-b494-1579f9b8897e",
   "metadata": {},
   "outputs": [],
   "source": [
    "#task 4: rename_my_file for all .txt files in folder\n",
    "import os\n",
    "import glob\n",
    "import shutil\n",
    "\n",
    "#list of all .txt files in the folder\n",
    "txt_files = glob.glob(\"os-collaboration-exercise-data/**/*.txt\", recursive=True)\n",
    "\n",
    "#renaming each file\n",
    "for file in txt_files:\n",
    "    new_filename = rename_my_file(file)\n",
    "    os.rename(file, new_filename)"
   ]
  },
  {
   "cell_type": "code",
   "execution_count": 23,
   "id": "06196bf8-4809-42ad-870d-344a26ef633b",
   "metadata": {},
   "outputs": [
    {
     "name": "stdout",
     "output_type": "stream",
     "text": [
      "os-collaboration-exercise-data\\os-collaboration-exercise-data\\Cairo alr exists, skipping creation\n",
      "os-collaboration-exercise-data\\os-collaboration-exercise-data\\Dhaka alr exists, skipping creation\n",
      "os-collaboration-exercise-data\\os-collaboration-exercise-data\\Jakarta alr exists, skipping creation\n",
      "os-collaboration-exercise-data\\os-collaboration-exercise-data\\Karachi alr exists, skipping creation\n",
      "os-collaboration-exercise-data\\os-collaboration-exercise-data\\Manila alr exists, skipping creation\n",
      "os-collaboration-exercise-data\\os-collaboration-exercise-data\\Melbourne alr exists, skipping creation\n",
      "os-collaboration-exercise-data\\os-collaboration-exercise-data\\Osaka alr exists, skipping creation\n",
      "os-collaboration-exercise-data\\os-collaboration-exercise-data\\Shanghai alr exists, skipping creation\n",
      "os-collaboration-exercise-data\\os-collaboration-exercise-data\\Singapore alr exists, skipping creation\n",
      "os-collaboration-exercise-data\\os-collaboration-exercise-data\\Tokyo alr exists, skipping creation\n"
     ]
    }
   ],
   "source": [
    "#task 5: making folders for each city\n",
    "\n",
    "for city in ['Cairo', 'Dhaka', 'Jakarta', 'Karachi', 'Manila',\n",
    " 'Melbourne', 'Osaka', 'Shanghai', 'Singapore', 'Tokyo']:\n",
    "    path = os.path.join(\"os-collaboration-exercise-data\",\"os-collaboration-exercise-data\", city)\n",
    "    try:\n",
    "        os.mkdir(path)\n",
    "    except FileExistsError:\n",
    "        print(f\"{path} alr exists, skipping creation\")"
   ]
  },
  {
   "cell_type": "code",
   "execution_count": 31,
   "id": "38d77213-e356-469e-b524-8daef27b803c",
   "metadata": {},
   "outputs": [
    {
     "ename": "PermissionError",
     "evalue": "[Errno 13] Permission denied: 'os-collaboration-exercise-data\\\\os-collaboration-exercise-data\\\\Cairo'",
     "output_type": "error",
     "traceback": [
      "\u001b[1;31m---------------------------------------------------------------------------\u001b[0m",
      "\u001b[1;31mPermissionError\u001b[0m                           Traceback (most recent call last)",
      "Cell \u001b[1;32mIn[31], line 12\u001b[0m\n\u001b[0;32m     10\u001b[0m \u001b[38;5;28;01mfor\u001b[39;00m file \u001b[38;5;129;01min\u001b[39;00m cairo_files:\n\u001b[0;32m     11\u001b[0m     filename \u001b[38;5;241m=\u001b[39m os\u001b[38;5;241m.\u001b[39mpath\u001b[38;5;241m.\u001b[39mbasename(file)  \u001b[38;5;66;03m# Get the filename from the file path\u001b[39;00m\n\u001b[1;32m---> 12\u001b[0m     \u001b[43mshutil\u001b[49m\u001b[38;5;241;43m.\u001b[39;49m\u001b[43mcopy\u001b[49m\u001b[43m(\u001b[49m\u001b[43mfile\u001b[49m\u001b[43m,\u001b[49m\u001b[43m \u001b[49m\u001b[43mos\u001b[49m\u001b[38;5;241;43m.\u001b[39;49m\u001b[43mpath\u001b[49m\u001b[38;5;241;43m.\u001b[39;49m\u001b[43mjoin\u001b[49m\u001b[43m(\u001b[49m\u001b[43mpathtodestination\u001b[49m\u001b[43m,\u001b[49m\u001b[43m \u001b[49m\u001b[43mfilename\u001b[49m\u001b[43m)\u001b[49m\u001b[43m)\u001b[49m\n\u001b[0;32m     14\u001b[0m \u001b[38;5;66;03m#error message but all cairo files have successfully been copied\u001b[39;00m\n",
      "File \u001b[1;32m~\\miniconda3\\Lib\\shutil.py:419\u001b[0m, in \u001b[0;36mcopy\u001b[1;34m(src, dst, follow_symlinks)\u001b[0m\n\u001b[0;32m    417\u001b[0m \u001b[38;5;28;01mif\u001b[39;00m os\u001b[38;5;241m.\u001b[39mpath\u001b[38;5;241m.\u001b[39misdir(dst):\n\u001b[0;32m    418\u001b[0m     dst \u001b[38;5;241m=\u001b[39m os\u001b[38;5;241m.\u001b[39mpath\u001b[38;5;241m.\u001b[39mjoin(dst, os\u001b[38;5;241m.\u001b[39mpath\u001b[38;5;241m.\u001b[39mbasename(src))\n\u001b[1;32m--> 419\u001b[0m \u001b[43mcopyfile\u001b[49m\u001b[43m(\u001b[49m\u001b[43msrc\u001b[49m\u001b[43m,\u001b[49m\u001b[43m \u001b[49m\u001b[43mdst\u001b[49m\u001b[43m,\u001b[49m\u001b[43m \u001b[49m\u001b[43mfollow_symlinks\u001b[49m\u001b[38;5;241;43m=\u001b[39;49m\u001b[43mfollow_symlinks\u001b[49m\u001b[43m)\u001b[49m\n\u001b[0;32m    420\u001b[0m copymode(src, dst, follow_symlinks\u001b[38;5;241m=\u001b[39mfollow_symlinks)\n\u001b[0;32m    421\u001b[0m \u001b[38;5;28;01mreturn\u001b[39;00m dst\n",
      "File \u001b[1;32m~\\miniconda3\\Lib\\shutil.py:256\u001b[0m, in \u001b[0;36mcopyfile\u001b[1;34m(src, dst, follow_symlinks)\u001b[0m\n\u001b[0;32m    254\u001b[0m     os\u001b[38;5;241m.\u001b[39msymlink(os\u001b[38;5;241m.\u001b[39mreadlink(src), dst)\n\u001b[0;32m    255\u001b[0m \u001b[38;5;28;01melse\u001b[39;00m:\n\u001b[1;32m--> 256\u001b[0m     \u001b[38;5;28;01mwith\u001b[39;00m \u001b[38;5;28mopen\u001b[39m(src, \u001b[38;5;124m'\u001b[39m\u001b[38;5;124mrb\u001b[39m\u001b[38;5;124m'\u001b[39m) \u001b[38;5;28;01mas\u001b[39;00m fsrc:\n\u001b[0;32m    257\u001b[0m         \u001b[38;5;28;01mtry\u001b[39;00m:\n\u001b[0;32m    258\u001b[0m             \u001b[38;5;28;01mwith\u001b[39;00m \u001b[38;5;28mopen\u001b[39m(dst, \u001b[38;5;124m'\u001b[39m\u001b[38;5;124mwb\u001b[39m\u001b[38;5;124m'\u001b[39m) \u001b[38;5;28;01mas\u001b[39;00m fdst:\n\u001b[0;32m    259\u001b[0m                 \u001b[38;5;66;03m# macOS\u001b[39;00m\n",
      "\u001b[1;31mPermissionError\u001b[0m: [Errno 13] Permission denied: 'os-collaboration-exercise-data\\\\os-collaboration-exercise-data\\\\Cairo'"
     ]
    }
   ],
   "source": [
    "#task 6: listing all files from Cairo, using a for loop and shutil.copy() to copy all files from Cairo to that folder\n",
    "cairo_files = glob.glob(\"os-collaboration-exercise-data/**/*cairo*\", recursive=True)\n",
    "pathtodestination = os.path.join(\"os-collaboration-exercise-data\", \"os-collaboration-exercise-data\", \"Cairo\")\n",
    "\n",
    "# Create the destination directory if it doesn't exist\n",
    "if not os.path.exists(pathtodestination):\n",
    "    os.makedirs(pathtodestination)\n",
    "\n",
    "# Copy each Cairo file to the destination directory\n",
    "for file in cairo_files:\n",
    "    filename = os.path.basename(file)  # Get the filename from the file path\n",
    "    shutil.copy(file, os.path.join(pathtodestination, filename))\n",
    "\n",
    "#error message but all cairo files have successfully been copied"
   ]
  },
  {
   "cell_type": "code",
   "execution_count": 35,
   "id": "141b93a0-35d5-458d-8c8c-d7abc34a088f",
   "metadata": {},
   "outputs": [
    {
     "ename": "Error",
     "evalue": "Cannot move a directory 'os-collaboration-exercise-data\\Dhaka' into itself 'os-collaboration-exercise-data\\Dhaka\\Dhaka'.",
     "output_type": "error",
     "traceback": [
      "\u001b[1;31m---------------------------------------------------------------------------\u001b[0m",
      "\u001b[1;31mPermissionError\u001b[0m                           Traceback (most recent call last)",
      "File \u001b[1;32m~\\miniconda3\\Lib\\shutil.py:825\u001b[0m, in \u001b[0;36mmove\u001b[1;34m(src, dst, copy_function)\u001b[0m\n\u001b[0;32m    824\u001b[0m \u001b[38;5;28;01mtry\u001b[39;00m:\n\u001b[1;32m--> 825\u001b[0m     os\u001b[38;5;241m.\u001b[39mrename(src, real_dst)\n\u001b[0;32m    826\u001b[0m \u001b[38;5;28;01mexcept\u001b[39;00m \u001b[38;5;167;01mOSError\u001b[39;00m:\n",
      "\u001b[1;31mPermissionError\u001b[0m: [WinError 5] Access is denied: 'os-collaboration-exercise-data\\\\Dhaka' -> 'os-collaboration-exercise-data\\\\Dhaka\\\\Dhaka\\\\Dhaka'",
      "\nDuring handling of the above exception, another exception occurred:\n",
      "\u001b[1;31mError\u001b[0m                                     Traceback (most recent call last)",
      "Cell \u001b[1;32mIn[35], line 17\u001b[0m\n\u001b[0;32m     15\u001b[0m \u001b[38;5;28;01mfor\u001b[39;00m file \u001b[38;5;129;01min\u001b[39;00m city_files:\n\u001b[0;32m     16\u001b[0m     filename \u001b[38;5;241m=\u001b[39m os\u001b[38;5;241m.\u001b[39mpath\u001b[38;5;241m.\u001b[39mbasename(file)  \u001b[38;5;66;03m# Get the filename from the file path\u001b[39;00m\n\u001b[1;32m---> 17\u001b[0m     \u001b[43mshutil\u001b[49m\u001b[38;5;241;43m.\u001b[39;49m\u001b[43mmove\u001b[49m\u001b[43m(\u001b[49m\u001b[43mfile\u001b[49m\u001b[43m,\u001b[49m\u001b[43m \u001b[49m\u001b[43mos\u001b[49m\u001b[38;5;241;43m.\u001b[39;49m\u001b[43mpath\u001b[49m\u001b[38;5;241;43m.\u001b[39;49m\u001b[43mjoin\u001b[49m\u001b[43m(\u001b[49m\u001b[43mdestination_path\u001b[49m\u001b[43m,\u001b[49m\u001b[43m \u001b[49m\u001b[43mfilename\u001b[49m\u001b[43m)\u001b[49m\u001b[43m)\u001b[49m\n",
      "File \u001b[1;32m~\\miniconda3\\Lib\\shutil.py:833\u001b[0m, in \u001b[0;36mmove\u001b[1;34m(src, dst, copy_function)\u001b[0m\n\u001b[0;32m    831\u001b[0m \u001b[38;5;28;01melif\u001b[39;00m os\u001b[38;5;241m.\u001b[39mpath\u001b[38;5;241m.\u001b[39misdir(src):\n\u001b[0;32m    832\u001b[0m     \u001b[38;5;28;01mif\u001b[39;00m _destinsrc(src, dst):\n\u001b[1;32m--> 833\u001b[0m         \u001b[38;5;28;01mraise\u001b[39;00m Error(\u001b[38;5;124m\"\u001b[39m\u001b[38;5;124mCannot move a directory \u001b[39m\u001b[38;5;124m'\u001b[39m\u001b[38;5;132;01m%s\u001b[39;00m\u001b[38;5;124m'\u001b[39m\u001b[38;5;124m into itself\u001b[39m\u001b[38;5;124m\"\u001b[39m\n\u001b[0;32m    834\u001b[0m                     \u001b[38;5;124m\"\u001b[39m\u001b[38;5;124m \u001b[39m\u001b[38;5;124m'\u001b[39m\u001b[38;5;132;01m%s\u001b[39;00m\u001b[38;5;124m'\u001b[39m\u001b[38;5;124m.\u001b[39m\u001b[38;5;124m\"\u001b[39m \u001b[38;5;241m%\u001b[39m (src, dst))\n\u001b[0;32m    835\u001b[0m     \u001b[38;5;28;01mif\u001b[39;00m (_is_immutable(src)\n\u001b[0;32m    836\u001b[0m             \u001b[38;5;129;01mor\u001b[39;00m (\u001b[38;5;129;01mnot\u001b[39;00m os\u001b[38;5;241m.\u001b[39maccess(src, os\u001b[38;5;241m.\u001b[39mW_OK) \u001b[38;5;129;01mand\u001b[39;00m os\u001b[38;5;241m.\u001b[39mlistdir(src)\n\u001b[0;32m    837\u001b[0m                 \u001b[38;5;129;01mand\u001b[39;00m sys\u001b[38;5;241m.\u001b[39mplatform \u001b[38;5;241m==\u001b[39m \u001b[38;5;124m'\u001b[39m\u001b[38;5;124mdarwin\u001b[39m\u001b[38;5;124m'\u001b[39m)):\n\u001b[0;32m    838\u001b[0m         \u001b[38;5;28;01mraise\u001b[39;00m \u001b[38;5;167;01mPermissionError\u001b[39;00m(\u001b[38;5;124m\"\u001b[39m\u001b[38;5;124mCannot move the non-empty directory \u001b[39m\u001b[38;5;124m\"\u001b[39m\n\u001b[0;32m    839\u001b[0m                               \u001b[38;5;124m\"\u001b[39m\u001b[38;5;124m'\u001b[39m\u001b[38;5;132;01m%s\u001b[39;00m\u001b[38;5;124m'\u001b[39m\u001b[38;5;124m: Lacking write permission to \u001b[39m\u001b[38;5;124m'\u001b[39m\u001b[38;5;132;01m%s\u001b[39;00m\u001b[38;5;124m'\u001b[39m\u001b[38;5;124m.\u001b[39m\u001b[38;5;124m\"\u001b[39m\n\u001b[0;32m    840\u001b[0m                               \u001b[38;5;241m%\u001b[39m (src, src))\n",
      "\u001b[1;31mError\u001b[0m: Cannot move a directory 'os-collaboration-exercise-data\\Dhaka' into itself 'os-collaboration-exercise-data\\Dhaka\\Dhaka'."
     ]
    }
   ],
   "source": [
    "#task 7: move all the city files into their corresponding folders\n",
    "\n",
    "cities = ['Dhaka', 'Jakarta', 'Karachi', 'Manila',\n",
    "          'Melbourne', 'Osaka', 'Shanghai', 'Singapore', 'Tokyo']\n",
    "\n",
    "for city in cities:\n",
    "    city_files = glob.glob(f\"os-collaboration-exercise-data/**/*{city}*\", recursive=True)\n",
    "    destination_path = os.path.join(\"os-collaboration-exercise-data\", city)\n",
    "\n",
    "    # Create the destination directory if it doesn't exist\n",
    "    if not os.path.exists(destination_path):\n",
    "        os.makedirs(destination_path)\n",
    "\n",
    "    # Move each file to the destination directory\n",
    "    for file in city_files:\n",
    "        filename = os.path.basename(file)  # Get the filename from the file path\n",
    "        shutil.move(file, os.path.join(destination_path, filename))\n",
    "\n",
    "#error message but all city files have successfully been copied"
   ]
  }
 ],
 "metadata": {
  "kernelspec": {
   "display_name": "Python 3 (ipykernel)",
   "language": "python",
   "name": "python3"
  },
  "language_info": {
   "codemirror_mode": {
    "name": "ipython",
    "version": 3
   },
   "file_extension": ".py",
   "mimetype": "text/x-python",
   "name": "python",
   "nbconvert_exporter": "python",
   "pygments_lexer": "ipython3",
   "version": "3.11.5"
  },
  "toc": {
   "base_numbering": 1,
   "nav_menu": {},
   "number_sections": true,
   "sideBar": true,
   "skip_h1_title": false,
   "title_cell": "Table of Contents",
   "title_sidebar": "Contents",
   "toc_cell": false,
   "toc_position": {},
   "toc_section_display": true,
   "toc_window_display": false
  },
  "vscode": {
   "interpreter": {
    "hash": "31f2aee4e71d21fbe5cf8b01ff0e069b9275f58929596ceb00d14d90e3e16cd6"
   }
  }
 },
 "nbformat": 4,
 "nbformat_minor": 5
}
