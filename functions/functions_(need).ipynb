{
 "cells": [
  {
   "attachments": {},
   "cell_type": "markdown",
   "id": "123456",
   "metadata": {},
   "source": [
    "<div style=\"text-align:left;font-size:2em\"><span style=\"font-weight:bolder;font-size:1.25em\">SP2273 | Learning Portfolio</span><br><br><span style=\"font-weight:bold;color:darkred\">Functions (Need)</span></div>"
   ]
  },
  {
   "attachments": {},
   "cell_type": "markdown",
   "id": "912a1929",
   "metadata": {},
   "source": [
    "# What to expect in this chapter"
   ]
  },
  {
   "cell_type": "markdown",
   "id": "7b286357-2c16-48c3-bb76-46412b08d768",
   "metadata": {},
   "source": [
    "- main thing: **crafting own functions**\n",
    "- function: can be described as a chunk of code that does a specific conceptual task\n",
    "- advantages: can use it without knowing exactly what is going on with it, good bc sometimes too many details are detrimental\n",
    "- disadvantages: unsure how output is generated"
   ]
  },
  {
   "attachments": {},
   "cell_type": "markdown",
   "id": "8d8df634",
   "metadata": {},
   "source": [
    "# 1 User-defined functions"
   ]
  },
  {
   "cell_type": "markdown",
   "id": "6a0811ef-4340-40f8-aad4-d396259d13a9",
   "metadata": {},
   "source": [
    "- User-defined functions vs **internal functions** like print\n",
    "- user-defined functions created in 2 ways: **named** and **anonymous**"
   ]
  },
  {
   "attachments": {},
   "cell_type": "markdown",
   "id": "d9b7ede2",
   "metadata": {},
   "source": [
    "## 1.1 Named Functions using def and return"
   ]
  },
  {
   "cell_type": "markdown",
   "id": "bb9fc575-a966-4ee5-a8ab-79dc4b9afa57",
   "metadata": {},
   "source": [
    "format: def functionname(argument). eg greeting(name)"
   ]
  },
  {
   "attachments": {},
   "cell_type": "markdown",
   "id": "95476493",
   "metadata": {},
   "source": [
    "### Named functions that return (use def)"
   ]
  },
  {
   "cell_type": "code",
   "execution_count": 50,
   "id": "d7b053c2-94b3-4458-8de5-87d0c512b03c",
   "metadata": {},
   "outputs": [
    {
     "data": {
      "text/plain": [
       "'sp2273 is the module im taking now'"
      ]
     },
     "execution_count": 50,
     "metadata": {},
     "output_type": "execute_result"
    }
   ],
   "source": [
    "#def is the keyword used to name a new fxn\n",
    "#use return instead of print\n",
    "def greeting(name): #the fxn's name is GREETING, and it accepts a single argument called NAME\n",
    "    if name == \"sp2273\":\n",
    "        return f\"{name} is the module im taking now\"\n",
    "    else:\n",
    "        return f\"{name} is another mod I'm taking\"\n",
    "\n",
    "#above is the creation of the function\n",
    "#using the function is like typing f(x), or greeting(\"input\")\n",
    "greeting(\"sp2273\") #also can type greeting(name = \"sp2273\")"
   ]
  },
  {
   "cell_type": "code",
   "execution_count": 51,
   "id": "5c385347-be03-4d40-abf7-36d9e8c4b305",
   "metadata": {},
   "outputs": [
    {
     "name": "stdout",
     "output_type": "stream",
     "text": [
      "lsm4288 is another mod I'm taking\n"
     ]
    }
   ],
   "source": [
    "#can print() be used instead of return? yes but not encouraged because the return value can be picked up\n",
    "def greeting2(name): #the fxn's name is GREETING, and it accepts a single argument called NAME\n",
    "    if name == \"sp2273\":\n",
    "        print(\"this is the module im taking now\")\n",
    "    else:\n",
    "        print(f\"{name} is another mod I'm taking\")\n",
    "greeting2(name = \"lsm4288\")"
   ]
  },
  {
   "cell_type": "markdown",
   "id": "41cdb522-a9fc-4521-ab51-cd67ad9e2224",
   "metadata": {},
   "source": [
    "#### meaning of return (and why use this instead of print)\n",
    "- getting an output from the fxn\n",
    "- when python sees return, it jumps out of fxn with return value\n",
    "- can pick up returned value by assigning it to variable or even using it directly\n",
    "- **can only use *return* within a function**"
   ]
  },
  {
   "cell_type": "code",
   "execution_count": 52,
   "id": "dd1fd131-4424-4791-b550-8b9f894f54e7",
   "metadata": {},
   "outputs": [
    {
     "name": "stdout",
     "output_type": "stream",
     "text": [
      "lsm4252 is another mod I'm taking\n",
      "hs2905 is another mod I'm taking\n"
     ]
    }
   ],
   "source": [
    "#the return value here is in greet\n",
    "greet = greeting(\"lsm4252\")\n",
    "print(greet)\n",
    "\n",
    "#OR:\n",
    "\n",
    "print(greeting(name=\"hs2905\"))"
   ]
  },
  {
   "cell_type": "code",
   "execution_count": 53,
   "id": "f918a993-643c-4fa5-8396-ea23f32a3a72",
   "metadata": {},
   "outputs": [
    {
     "name": "stdout",
     "output_type": "stream",
     "text": [
      "(16, 1, 7.5)\n"
     ]
    }
   ],
   "source": [
    "#a function that accepts a list and returns the max, mean and mean, using numpy array\n",
    "import numpy\n",
    "def stats(numbers):\n",
    "    npnumbers = numpy.array(numbers) #this makes an array from the list you feed it\n",
    "    max = npnumbers.max()\n",
    "    min = npnumbers.min()\n",
    "    mean = npnumbers.mean()\n",
    "    return max, min, mean\n",
    "\n",
    "list1 = [1,4,9, 16]\n",
    "print(stats(list1))"
   ]
  },
  {
   "cell_type": "code",
   "execution_count": 54,
   "id": "607f8780-6975-47d3-bb07-5ab6a77321d8",
   "metadata": {},
   "outputs": [
    {
     "name": "stdout",
     "output_type": "stream",
     "text": [
      "5 1 3.0\n"
     ]
    }
   ],
   "source": [
    "#picking up and printing returned values\n",
    "list_max, list_min, list_mean = stats([1, 2, 3, 4, 5])\n",
    "print(list_max, list_min, list_mean)"
   ]
  },
  {
   "attachments": {},
   "cell_type": "markdown",
   "id": "e820f69c",
   "metadata": {},
   "source": [
    "### Named functions that don’t return"
   ]
  },
  {
   "cell_type": "markdown",
   "id": "b72c4e41-a3b8-429c-b01f-a99c3275a816",
   "metadata": {},
   "source": [
    "- an example is print(), which does smth but does not return a value like the above ones\n",
    "- important for things like saving data to a file\n",
    "- taught in a later chapter\n"
   ]
  },
  {
   "attachments": {},
   "cell_type": "markdown",
   "id": "247a1e25",
   "metadata": {},
   "source": [
    "## 1.2 Anonymous functions aka lambda functions"
   ]
  },
  {
   "cell_type": "code",
   "execution_count": 55,
   "id": "7910e6b1-2787-4db7-87db-c313c4328283",
   "metadata": {},
   "outputs": [
    {
     "data": {
      "text/plain": [
       "'hello soup'"
      ]
     },
     "execution_count": 55,
     "metadata": {},
     "output_type": "execute_result"
    }
   ],
   "source": [
    "#suitable for short one-liners. lambda fxn always returns value of THE LAST STATEMENT\n",
    "#example 1\n",
    "\n",
    "shortfxn = lambda name:f\"hello {name}\"\n",
    "shortfxn(\"soup\")\n",
    "\n",
    "#not very anonymous because have used a name"
   ]
  },
  {
   "cell_type": "code",
   "execution_count": 56,
   "id": "f5d2eb09-8e18-409c-a052-0c2d0b4c7606",
   "metadata": {},
   "outputs": [],
   "source": [
    "#example 2: really anonymous function, sorting a 2d list\n",
    "numbers=[[9, 0, -10],\n",
    "         [8, 1, -11],\n",
    "         [7, 2, -12],\n",
    "         [6, 3, -13],\n",
    "         [5, 4, -14],\n",
    "         [4, 5, -15],\n",
    "         [3, 6, -16],\n",
    "         [2, 7, -17],\n",
    "         [1, 8, -18],\n",
    "         [0, 9, -19]]"
   ]
  },
  {
   "cell_type": "code",
   "execution_count": 57,
   "id": "3eed7690-d8b9-4893-9556-a1903af40c6a",
   "metadata": {},
   "outputs": [
    {
     "data": {
      "text/plain": [
       "[[0, 9, -19],\n",
       " [1, 8, -18],\n",
       " [2, 7, -17],\n",
       " [3, 6, -16],\n",
       " [4, 5, -15],\n",
       " [5, 4, -14],\n",
       " [6, 3, -13],\n",
       " [7, 2, -12],\n",
       " [8, 1, -11],\n",
       " [9, 0, -10]]"
      ]
     },
     "execution_count": 57,
     "metadata": {},
     "output_type": "execute_result"
    }
   ],
   "source": [
    "#using the sorted() fxn for this. 3 ways:\n",
    "#1. sort by comparing the default key - aka SORTING BY THE FIRST ELEMENT\n",
    "sorted(numbers)"
   ]
  },
  {
   "cell_type": "code",
   "execution_count": 58,
   "id": "56561090-63bc-4e69-8c6a-882c9b60474c",
   "metadata": {},
   "outputs": [
    {
     "data": {
      "text/plain": [
       "[[9, 0, -10],\n",
       " [8, 1, -11],\n",
       " [7, 2, -12],\n",
       " [6, 3, -13],\n",
       " [5, 4, -14],\n",
       " [4, 5, -15],\n",
       " [3, 6, -16],\n",
       " [2, 7, -17],\n",
       " [1, 8, -18],\n",
       " [0, 9, -19]]"
      ]
     },
     "execution_count": 58,
     "metadata": {},
     "output_type": "execute_result"
    }
   ],
   "source": [
    "#sort by comparing custom key that uses 2nd element, index = 1\n",
    "sorted(numbers, key = lambda x: x[1])"
   ]
  },
  {
   "cell_type": "code",
   "execution_count": 59,
   "id": "90e8b420-5ec4-4a90-beb5-638ea086ccb8",
   "metadata": {},
   "outputs": [
    {
     "data": {
      "text/plain": [
       "[[0, 9, -19],\n",
       " [1, 8, -18],\n",
       " [2, 7, -17],\n",
       " [3, 6, -16],\n",
       " [4, 5, -15],\n",
       " [5, 4, -14],\n",
       " [6, 3, -13],\n",
       " [7, 2, -12],\n",
       " [8, 1, -11],\n",
       " [9, 0, -10]]"
      ]
     },
     "execution_count": 59,
     "metadata": {},
     "output_type": "execute_result"
    }
   ],
   "source": [
    "#sort by comparing a custom key that uses the SUM OF THE ELEMENTS\n",
    "sorted(numbers, key = lambda x: sum(x))"
   ]
  },
  {
   "attachments": {},
   "cell_type": "markdown",
   "id": "da9d1b2d",
   "metadata": {},
   "source": [
    "## 1.3 Optional arguments"
   ]
  },
  {
   "cell_type": "code",
   "execution_count": 60,
   "id": "6a0637a0-c0f0-402d-815e-165cea285d35",
   "metadata": {},
   "outputs": [
    {
     "data": {
      "text/plain": [
       "'hello no one'"
      ]
     },
     "execution_count": 60,
     "metadata": {},
     "output_type": "execute_result"
    }
   ],
   "source": [
    "#making functions optional\n",
    "#need to set a default value in the first line so it always has smth to work with\n",
    "def greeting(name = \"no one\"):\n",
    "    if name == \"sp2273\":\n",
    "        return f\"{name} involves coding\"\n",
    "    else:\n",
    "        return f\"hello {name}\"\n",
    "\n",
    "greeting() #blank"
   ]
  },
  {
   "cell_type": "code",
   "execution_count": 61,
   "id": "6eddacde-d813-4558-8c5e-8f4878b7cd0d",
   "metadata": {},
   "outputs": [
    {
     "data": {
      "text/plain": [
       "\u001b[1;31mSignature:\u001b[0m \u001b[0mprint\u001b[0m\u001b[1;33m(\u001b[0m\u001b[1;33m*\u001b[0m\u001b[0margs\u001b[0m\u001b[1;33m,\u001b[0m \u001b[0msep\u001b[0m\u001b[1;33m=\u001b[0m\u001b[1;34m' '\u001b[0m\u001b[1;33m,\u001b[0m \u001b[0mend\u001b[0m\u001b[1;33m=\u001b[0m\u001b[1;34m'\\n'\u001b[0m\u001b[1;33m,\u001b[0m \u001b[0mfile\u001b[0m\u001b[1;33m=\u001b[0m\u001b[1;32mNone\u001b[0m\u001b[1;33m,\u001b[0m \u001b[0mflush\u001b[0m\u001b[1;33m=\u001b[0m\u001b[1;32mFalse\u001b[0m\u001b[1;33m)\u001b[0m\u001b[1;33m\u001b[0m\u001b[1;33m\u001b[0m\u001b[0m\n",
       "\u001b[1;31mDocstring:\u001b[0m\n",
       "Prints the values to a stream, or to sys.stdout by default.\n",
       "\n",
       "sep\n",
       "  string inserted between values, default a space.\n",
       "end\n",
       "  string appended after the last value, default a newline.\n",
       "file\n",
       "  a file-like object (stream); defaults to the current sys.stdout.\n",
       "flush\n",
       "  whether to forcibly flush the stream.\n",
       "\u001b[1;31mType:\u001b[0m      builtin_function_or_method"
      ]
     },
     "metadata": {},
     "output_type": "display_data"
    }
   ],
   "source": [
    "#looking at documentation for print()\n",
    "?print"
   ]
  },
  {
   "cell_type": "markdown",
   "id": "3c31110f-6608-42c2-9b55-002ac47eefa6",
   "metadata": {},
   "source": [
    "this shows that print() can accept other arguments that are optional w default values and we can specify them"
   ]
  },
  {
   "cell_type": "code",
   "execution_count": 62,
   "id": "61b6efdc-006e-4690-b74a-75f91dcaf0e8",
   "metadata": {},
   "outputs": [
    {
     "name": "stdout",
     "output_type": "stream",
     "text": [
      "life is soup i am fork\n",
      "life-.-.-.-.-is-.-.-.-.-soup-.-.-.-.-i-.-.-.-.-am-.-.-.-.-fork\n",
      "life is soup i am fork-.-.-.-.-"
     ]
    }
   ],
   "source": [
    "#using default values\n",
    "print(\"life\", \"is\", \"soup\", \"i\", \"am\", \"fork\")\n",
    "#specifying an optional argument\n",
    "print(\"life\", \"is\", \"soup\", \"i\", \"am\", \"fork\", sep=\"-.-.-.-.-\")\n",
    "print(\"life\", \"is\", \"soup\", \"i\", \"am\", \"fork\", end=\"-.-.-.-.-\")"
   ]
  },
  {
   "attachments": {},
   "cell_type": "markdown",
   "id": "6f821d13",
   "metadata": {},
   "source": [
    "## 1.4 The importance of functions?"
   ]
  },
  {
   "attachments": {},
   "cell_type": "markdown",
   "id": "5ed2105f",
   "metadata": {},
   "source": [
    "### An argument for functions"
   ]
  },
  {
   "cell_type": "markdown",
   "id": "3de46e78-f3f7-4719-bbac-4ea19a04351f",
   "metadata": {},
   "source": [
    "#### why functions are important\n",
    "- **abstraction of details**: no need to deal with (unnecessary) details all at once, focus on overall soln\n",
    "- abstraction aka hiding of stuff\n",
    "- **reusability of code**: no need copy and paste all the time, code more compact\n",
    "- **maintainability of code**: j need to make chances in function definition"
   ]
  },
  {
   "attachments": {},
   "cell_type": "markdown",
   "id": "54953bd4",
   "metadata": {},
   "source": [
    "### A word of caution: fxns can be misused"
   ]
  },
  {
   "cell_type": "markdown",
   "id": "075a042b-4445-45cd-9e4c-52b63124676f",
   "metadata": {},
   "source": [
    "- **abuse** of functions: by trying to do too many things or having too many arguments\n",
    "- **overusage**: too many fxns can make it hard to read code, increase computational workload\n"
   ]
  }
 ],
 "metadata": {
  "kernelspec": {
   "display_name": "Python 3 (ipykernel)",
   "language": "python",
   "name": "python3"
  },
  "language_info": {
   "codemirror_mode": {
    "name": "ipython",
    "version": 3
   },
   "file_extension": ".py",
   "mimetype": "text/x-python",
   "name": "python",
   "nbconvert_exporter": "python",
   "pygments_lexer": "ipython3",
   "version": "3.11.5"
  },
  "toc": {
   "base_numbering": 1,
   "nav_menu": {},
   "number_sections": true,
   "sideBar": true,
   "skip_h1_title": false,
   "title_cell": "Table of Contents",
   "title_sidebar": "Contents",
   "toc_cell": false,
   "toc_position": {},
   "toc_section_display": true,
   "toc_window_display": false
  },
  "vscode": {
   "interpreter": {
    "hash": "31f2aee4e71d21fbe5cf8b01ff0e069b9275f58929596ceb00d14d90e3e16cd6"
   }
  }
 },
 "nbformat": 4,
 "nbformat_minor": 5
}
