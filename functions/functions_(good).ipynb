{
 "cells": [
  {
   "attachments": {},
   "cell_type": "markdown",
   "id": "123456",
   "metadata": {},
   "source": [
    "<div style=\"text-align:left;font-size:2em\"><span style=\"font-weight:bolder;font-size:1.25em\">SP2273 | Learning Portfolio</span><br><br><span style=\"font-weight:bold;color:darkred\">Functions (Good)</span></div>"
   ]
  },
  {
   "attachments": {},
   "cell_type": "markdown",
   "id": "6a5066d6",
   "metadata": {},
   "source": [
    "# What to expect in this chapter"
   ]
  },
  {
   "cell_type": "markdown",
   "id": "fa5dcda2-fd10-4460-949f-02584269ee57",
   "metadata": {},
   "source": [
    "- types of **arguments and docstrings**\n",
    "- try except for errors\n",
    "- uds **positional, keyward and default arguments** of functions\n",
    "- write code that *checks and handles potential problems*"
   ]
  },
  {
   "attachments": {},
   "cell_type": "markdown",
   "id": "4a604ad2",
   "metadata": {},
   "source": [
    "# 1 Checks, balances, and contingencies"
   ]
  },
  {
   "cell_type": "markdown",
   "id": "f37b6069-a080-485e-af59-fa746b9f0ba5",
   "metadata": {},
   "source": [
    "- basically a **safety net/error prevention measure** for code that can potentially go wrong bc some things can be overlooked\n",
    "- 2 standard ways to incorporate checks in python: **assert** and **try-except**"
   ]
  },
  {
   "attachments": {},
   "cell_type": "markdown",
   "id": "482c4b1c-81c0-44d7-b8cd-443dcfe02982",
   "metadata": {},
   "source": [
    "## 1.1 assert: stops flow if condition fails\n",
    "- checks condition and halt execution if necessary\n",
    "- gives option of printing message\n",
    "- basic syntax: **\"assert conditiontocheck, message\"**\n",
    "- just means \"check for this condition. if it is not fulfilled, generate this error msg\""
   ]
  },
  {
   "cell_type": "code",
   "execution_count": 3,
   "id": "35ef6af2-ce17-496d-a09c-79397ce66123",
   "metadata": {},
   "outputs": [],
   "source": [
    "x = 10\n",
    "assert x >= 0, \"x is becoming -ve\" #assert, condition to check, message\n",
    "#runs w no issue"
   ]
  },
  {
   "cell_type": "code",
   "execution_count": 4,
   "id": "f783cc6e-d568-447c-922d-da1c43db2da0",
   "metadata": {},
   "outputs": [
    {
     "ename": "AssertionError",
     "evalue": "x is becoming -ve",
     "output_type": "error",
     "traceback": [
      "\u001b[1;31m---------------------------------------------------------------------------\u001b[0m",
      "\u001b[1;31mAssertionError\u001b[0m                            Traceback (most recent call last)",
      "Cell \u001b[1;32mIn[4], line 2\u001b[0m\n\u001b[0;32m      1\u001b[0m x \u001b[38;5;241m=\u001b[39m \u001b[38;5;241m-\u001b[39m\u001b[38;5;241m1\u001b[39m\n\u001b[1;32m----> 2\u001b[0m \u001b[38;5;28;01massert\u001b[39;00m x \u001b[38;5;241m>\u001b[39m\u001b[38;5;241m=\u001b[39m \u001b[38;5;241m0\u001b[39m, \u001b[38;5;124m\"\u001b[39m\u001b[38;5;124mx is becoming -ve\u001b[39m\u001b[38;5;124m\"\u001b[39m \u001b[38;5;66;03m#assert, condition to check, message\u001b[39;00m\n\u001b[0;32m      3\u001b[0m \u001b[38;5;66;03m#generates error and stops\u001b[39;00m\n",
      "\u001b[1;31mAssertionError\u001b[0m: x is becoming -ve"
     ]
    }
   ],
   "source": [
    "x = -1\n",
    "assert x >= 0, \"x is becoming -ve\" #assert, condition to check, message\n",
    "#generates error and stops"
   ]
  },
  {
   "attachments": {},
   "cell_type": "markdown",
   "id": "e2473566",
   "metadata": {},
   "source": [
    "## 1.2 try-except"
   ]
  },
  {
   "cell_type": "code",
   "execution_count": null,
   "id": "07328d8c-9805-47bd-9b8c-665063112a7c",
   "metadata": {},
   "outputs": [],
   "source": [
    "#technical name for things going wrong is exceptions. if exceptions are not dealt with, stop flow of code\n",
    "number = input(\"number pls\")\n",
    "try:\n",
    "    square = int(number)**2\n",
    "    print(f\"{square} was ur number, {number}, but squared yay\")\n",
    "except:\n",
    "    print(f\"{number} is not a number pls try again\")"
   ]
  },
  {
   "attachments": {},
   "cell_type": "markdown",
   "id": "da23fa86",
   "metadata": {},
   "source": [
    "## 1.3 A simple suggestion"
   ]
  },
  {
   "cell_type": "markdown",
   "id": "0a3d10a0-d773-4a31-8d33-810321af2898",
   "metadata": {},
   "source": [
    "just use print() periodically to make sure everyth is working "
   ]
  },
  {
   "attachments": {},
   "cell_type": "markdown",
   "id": "0dd6dc3f",
   "metadata": {},
   "source": [
    "# 2 Some loose ends"
   ]
  },
  {
   "attachments": {},
   "cell_type": "markdown",
   "id": "bd676984",
   "metadata": {},
   "source": [
    "## 2.1 Positional, keyword and default arguments"
   ]
  },
  {
   "cell_type": "markdown",
   "id": "af0a7a09-a4a9-4671-9cfb-71bf3a42f425",
   "metadata": {},
   "source": [
    "- eg. greeting(\"superman\") vs greeting(name = \"superman\")\n",
    "- 3 ways to **pass a value to an argument**: positional, keyword, default arguments\n",
    "- COMBINING STYLES IS POSSIBLE but keyword followed by positional confuses python and wont work"
   ]
  },
  {
   "cell_type": "code",
   "execution_count": 6,
   "id": "7ed3edbc-ef3b-4b11-8a8e-4e9e1d817c1b",
   "metadata": {},
   "outputs": [],
   "source": [
    "#making this function first:\n",
    "def side_by_side(a, b, c=5):\n",
    "    return f'{a: 2d}|{b: 2d}|{c: 2d}'"
   ]
  },
  {
   "cell_type": "code",
   "execution_count": 7,
   "id": "7090ff5d-5069-4872-84af-ab908ab9823a",
   "metadata": {},
   "outputs": [
    {
     "data": {
      "text/plain": [
       "' 1| 2| 3'"
      ]
     },
     "execution_count": 7,
     "metadata": {},
     "output_type": "execute_result"
    }
   ],
   "source": [
    "#positional: assigning values using positional order or arguments\n",
    "side_by_side(1,2,3)"
   ]
  },
  {
   "cell_type": "code",
   "execution_count": 8,
   "id": "e3053d5a-64b1-4a5c-a3c0-2250787f8bae",
   "metadata": {},
   "outputs": [
    {
     "data": {
      "text/plain": [
       "' 2| 3| 1'"
      ]
     },
     "execution_count": 8,
     "metadata": {},
     "output_type": "execute_result"
    }
   ],
   "source": [
    "#keywords: explicitly specify the keyword to assign the value. order does not matter\n",
    "side_by_side(c=1, b=3, a=2)"
   ]
  },
  {
   "cell_type": "code",
   "execution_count": 9,
   "id": "c89987b9-4a88-4426-9166-ba1b78d7b458",
   "metadata": {},
   "outputs": [
    {
     "data": {
      "text/plain": [
       "' 1| 2| 5'"
      ]
     },
     "execution_count": 9,
     "metadata": {},
     "output_type": "execute_result"
    }
   ],
   "source": [
    "#default - c is optional because i have set it as 5 in the definition\n",
    "side_by_side(1, b =2)"
   ]
  },
  {
   "cell_type": "code",
   "execution_count": 10,
   "id": "7355f3b2-ed54-403d-8cc7-9f6ff1ea8880",
   "metadata": {},
   "outputs": [
    {
     "data": {
      "text/plain": [
       "' 3| 23213| 59'"
      ]
     },
     "execution_count": 10,
     "metadata": {},
     "output_type": "execute_result"
    }
   ],
   "source": [
    "#COMBINING STYLES IS POSSIBLE but keyword followed by positional confuses python and wont work\n",
    "side_by_side(3, c=59, b =23213)"
   ]
  },
  {
   "cell_type": "code",
   "execution_count": 11,
   "id": "7a2993a4-fac8-4882-81e3-22cc4edbd65c",
   "metadata": {},
   "outputs": [
    {
     "ename": "SyntaxError",
     "evalue": "positional argument follows keyword argument (3225284205.py, line 1)",
     "output_type": "error",
     "traceback": [
      "\u001b[1;36m  Cell \u001b[1;32mIn[11], line 1\u001b[1;36m\u001b[0m\n\u001b[1;33m    side_by_side(b=0, 234423) #the error is literally positional argument follows keyword argument\u001b[0m\n\u001b[1;37m                            ^\u001b[0m\n\u001b[1;31mSyntaxError\u001b[0m\u001b[1;31m:\u001b[0m positional argument follows keyword argument\n"
     ]
    }
   ],
   "source": [
    "side_by_side(b=0, 234423) #the error is literally positional argument follows keyword argument"
   ]
  },
  {
   "cell_type": "code",
   "execution_count": 12,
   "id": "0599b5b8-ed68-4e46-bbaf-778fe8002fac",
   "metadata": {},
   "outputs": [
    {
     "ename": "SyntaxError",
     "evalue": "positional argument follows keyword argument (1054390440.py, line 1)",
     "output_type": "error",
     "traceback": [
      "\u001b[1;36m  Cell \u001b[1;32mIn[12], line 1\u001b[1;36m\u001b[0m\n\u001b[1;33m    side_by_side(a=2, 1) #also doesnt work even tho a is first\u001b[0m\n\u001b[1;37m                       ^\u001b[0m\n\u001b[1;31mSyntaxError\u001b[0m\u001b[1;31m:\u001b[0m positional argument follows keyword argument\n"
     ]
    }
   ],
   "source": [
    "side_by_side(a=2, 1) #also doesnt work even tho a is first"
   ]
  },
  {
   "attachments": {},
   "cell_type": "markdown",
   "id": "732b64f3",
   "metadata": {},
   "source": [
    "## 2.2 Docstrings"
   ]
  },
  {
   "cell_type": "markdown",
   "id": "b8c92c0b-8dfb-45dc-ab6b-d8dd572f77a3",
   "metadata": {},
   "source": [
    "- what are docstrings: documents what a fxn does inside the fxn, i.e. leaving a comment inside the function itself\n",
    "- displayed when we use **help()**\n",
    "- the docstring needs to be inside \"\"\" \"\"\""
   ]
  },
  {
   "cell_type": "code",
   "execution_count": 15,
   "id": "f7fd5f58-06ac-494a-b17b-fb7c779e46d0",
   "metadata": {},
   "outputs": [],
   "source": [
    "def side_by_side(a, b, c=5):\n",
    "    \"\"\"\n",
    "    a test fxn to demonstrate how positional, keyword and default arguments work\n",
    "    \"\"\"\n",
    "    return f'{a: 2d}|{b: 2d}|{c: 2d}'"
   ]
  },
  {
   "cell_type": "code",
   "execution_count": 16,
   "id": "5b592b98-ae22-4eb9-b495-737c69638b1b",
   "metadata": {},
   "outputs": [
    {
     "name": "stdout",
     "output_type": "stream",
     "text": [
      "Help on function side_by_side in module __main__:\n",
      "\n",
      "side_by_side(a, b, c=5)\n",
      "    a test fxn to demonstrate how positional, keyword and default arguments work\n",
      "\n"
     ]
    }
   ],
   "source": [
    "help(side_by_side)"
   ]
  },
  {
   "cell_type": "code",
   "execution_count": 19,
   "id": "a4106555-961d-4a87-bc83-395a33bc5752",
   "metadata": {},
   "outputs": [
    {
     "name": "stdout",
     "output_type": "stream",
     "text": [
      "(16, 1, 7.5)\n"
     ]
    }
   ],
   "source": [
    "import numpy\n",
    "def basicstats(numbers):\n",
    "    \"\"\"\n",
    "    when fed a list of numbers, basicstats fxn will give the max, min and mean\n",
    "    \"\"\"\n",
    "    npnumbers = numpy.array(numbers) #this makes an array from the list you feed it\n",
    "    max = npnumbers.max()\n",
    "    min = npnumbers.min()\n",
    "    mean = npnumbers.mean()\n",
    "    return max, min, mean\n",
    "\n",
    "list1 = [1,4,9, 16]\n",
    "print(basicstats(list1))"
   ]
  },
  {
   "cell_type": "code",
   "execution_count": 20,
   "id": "b33544e6-a4c6-4c88-bba9-51c7b961a2ba",
   "metadata": {},
   "outputs": [
    {
     "name": "stdout",
     "output_type": "stream",
     "text": [
      "Help on function basicstats in module __main__:\n",
      "\n",
      "basicstats(numbers)\n",
      "    when fed a list of numbers, basicstats fxn will give the max, min and mean\n",
      "\n"
     ]
    }
   ],
   "source": [
    "help(basicstats)"
   ]
  },
  {
   "attachments": {},
   "cell_type": "markdown",
   "id": "8155793f",
   "metadata": {},
   "source": [
    "## 2.3 Function are first-class citizens"
   ]
  },
  {
   "cell_type": "markdown",
   "id": "e6b60679-89b2-46d9-8e78-1c0ed7e80464",
   "metadata": {},
   "source": [
    "- because they have the same privileges as variables\n",
    "- **usefulness: can pass a function as an argument to another fxn**"
   ]
  },
  {
   "cell_type": "code",
   "execution_count": 28,
   "id": "526cf5e0-f7b1-419d-a4a9-f96cf556822d",
   "metadata": {},
   "outputs": [
    {
     "name": "stdout",
     "output_type": "stream",
     "text": [
      "3.141592653589793\n",
      "1.0\n",
      "6.123233995736766e-17\n",
      "-1.0\n"
     ]
    }
   ],
   "source": [
    "import numpy\n",
    "def fxn(angle, trigo):\n",
    "    return trigo(angle) #passing a function (trigo) as an argument to another function (fxn)\n",
    "print(numpy.pi)\n",
    "print(fxn(numpy.pi/2, numpy.sin)) #calculating sin pi/2\n",
    "print(fxn(numpy.pi/2, numpy.cos))\n",
    "print(fxn(numpy.pi/2, lambda x: numpy.cos(2*x)))"
   ]
  },
  {
   "attachments": {},
   "cell_type": "markdown",
   "id": "438f0e6e",
   "metadata": {},
   "source": [
    "## 2.4 More about unpacking - using * to make a 2d list"
   ]
  },
  {
   "cell_type": "code",
   "execution_count": 29,
   "id": "27a76277-0cb8-48a6-9fc5-caaa7b6d221a",
   "metadata": {},
   "outputs": [
    {
     "data": {
      "text/plain": [
       "(1, 2, 3)"
      ]
     },
     "execution_count": 29,
     "metadata": {},
     "output_type": "execute_result"
    }
   ],
   "source": [
    "#extracting info from arrays and lists more easily\n",
    "x, y, z = numpy.array([1, 2, 3])\n",
    "x, y, z"
   ]
  },
  {
   "cell_type": "code",
   "execution_count": 30,
   "id": "10465513-8bed-4f0a-9d05-316c0d0f65ff",
   "metadata": {},
   "outputs": [
    {
     "data": {
      "text/plain": [
       "(1, [2, 3, 4, 5], 6)"
      ]
     },
     "execution_count": 30,
     "metadata": {},
     "output_type": "execute_result"
    }
   ],
   "source": [
    "#USING ASTERISKS TO MAKE A 2D LIST. CANNOT HAVE MULTIPLE ASTERISKS\n",
    "x, *y, z = numpy.array([1, 2, 3, 4, 5, 6])\n",
    "x,y,z"
   ]
  },
  {
   "cell_type": "code",
   "execution_count": 32,
   "id": "c22552f7-0244-468a-8ce7-1501472bc248",
   "metadata": {},
   "outputs": [
    {
     "data": {
      "text/plain": [
       "([1, 2, 3, 4], 5, 6)"
      ]
     },
     "execution_count": 32,
     "metadata": {},
     "output_type": "execute_result"
    }
   ],
   "source": [
    "*x, y, z = numpy.array([1, 2, 3, 4, 5, 6])\n",
    "x,y,z"
   ]
  },
  {
   "cell_type": "code",
   "execution_count": 34,
   "id": "20e65474-4666-4fac-b5aa-efb6bde1cea8",
   "metadata": {},
   "outputs": [
    {
     "ename": "SyntaxError",
     "evalue": "multiple starred expressions in assignment (853041942.py, line 1)",
     "output_type": "error",
     "traceback": [
      "\u001b[1;36m  Cell \u001b[1;32mIn[34], line 1\u001b[1;36m\u001b[0m\n\u001b[1;33m    *x, *y, z = numpy.array([1, 2, 3, 4, 5, 6]) #this results in error bc more than 1 starred expression\u001b[0m\n\u001b[1;37m    ^\u001b[0m\n\u001b[1;31mSyntaxError\u001b[0m\u001b[1;31m:\u001b[0m multiple starred expressions in assignment\n"
     ]
    }
   ],
   "source": [
    "*x, *y, z = numpy.array([1, 2, 3, 4, 5, 6]) #this results in error bc more than 1 starred expression\n",
    "x,y,z"
   ]
  },
  {
   "cell_type": "code",
   "execution_count": 35,
   "id": "6491875d-bf22-4253-8cf8-c8d6426112c5",
   "metadata": {},
   "outputs": [
    {
     "data": {
      "text/plain": [
       "(1, 5)"
      ]
     },
     "execution_count": 35,
     "metadata": {},
     "output_type": "execute_result"
    }
   ],
   "source": [
    "x, *_, y = [1,2,3,4,5]\n",
    "x, y"
   ]
  },
  {
   "cell_type": "code",
   "execution_count": 38,
   "id": "d31b0f1b-e7ee-4217-8659-b6809a1ddcbc",
   "metadata": {},
   "outputs": [
    {
     "data": {
      "text/plain": [
       "[2, 3, 4]"
      ]
     },
     "execution_count": 38,
     "metadata": {},
     "output_type": "execute_result"
    }
   ],
   "source": [
    "_ #this is a variable"
   ]
  }
 ],
 "metadata": {
  "kernelspec": {
   "display_name": "Python 3 (ipykernel)",
   "language": "python",
   "name": "python3"
  },
  "language_info": {
   "codemirror_mode": {
    "name": "ipython",
    "version": 3
   },
   "file_extension": ".py",
   "mimetype": "text/x-python",
   "name": "python",
   "nbconvert_exporter": "python",
   "pygments_lexer": "ipython3",
   "version": "3.11.5"
  },
  "toc": {
   "base_numbering": 1,
   "nav_menu": {},
   "number_sections": true,
   "sideBar": true,
   "skip_h1_title": false,
   "title_cell": "Table of Contents",
   "title_sidebar": "Contents",
   "toc_cell": false,
   "toc_position": {},
   "toc_section_display": true,
   "toc_window_display": false
  },
  "vscode": {
   "interpreter": {
    "hash": "31f2aee4e71d21fbe5cf8b01ff0e069b9275f58929596ceb00d14d90e3e16cd6"
   }
  }
 },
 "nbformat": 4,
 "nbformat_minor": 5
}
