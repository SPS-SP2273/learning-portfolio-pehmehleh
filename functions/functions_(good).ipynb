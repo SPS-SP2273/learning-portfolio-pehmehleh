{
 "cells": [
  {
   "attachments": {},
   "cell_type": "markdown",
   "id": "123456",
   "metadata": {},
   "source": [
    "<div style=\"text-align:left;font-size:2em\"><span style=\"font-weight:bolder;font-size:1.25em\">SP2273 | Learning Portfolio</span><br><br><span style=\"font-weight:bold;color:darkred\">Functions (Good)</span></div>"
   ]
  },
  {
   "attachments": {},
   "cell_type": "markdown",
   "id": "6a5066d6",
   "metadata": {},
   "source": [
    "# What to expect in this chapter"
   ]
  },
  {
   "cell_type": "markdown",
   "id": "fa5dcda2-fd10-4460-949f-02584269ee57",
   "metadata": {},
   "source": [
    "- types of **arguments and docstrings**\n",
    "- try except for errors\n",
    "- uds **positional, keyward and default arguments** of functions\n",
    "- write code that *checks and handles potential problems*"
   ]
  },
  {
   "attachments": {},
   "cell_type": "markdown",
   "id": "4a604ad2",
   "metadata": {},
   "source": [
    "# 1 Checks, balances, and contingencies"
   ]
  },
  {
   "cell_type": "markdown",
   "id": "f37b6069-a080-485e-af59-fa746b9f0ba5",
   "metadata": {},
   "source": [
    "- basically a **safety net/error prevention measure** for code that can potentially go wrong bc some things can be overlooked\n",
    "- 2 standard ways to incorporate checks in python: **assert** and **try-except**"
   ]
  },
  {
   "attachments": {},
   "cell_type": "raw",
   "id": "06073253-2987-4131-a95e-aae77c3ed45b",
   "metadata": {},
   "source": [
    "## 1.1 assert: stops flow if condition fails\n",
    "- checks condition and halt execution if necessary\n",
    "- gives option of printing message\n",
    "- basic syntax: **\"assert conditiontocheck, message\"**\n",
    "- just means \"check for this condition. if it is not fulfilled, generate this error msg\""
   ]
  },
  {
   "cell_type": "code",
   "execution_count": 8,
   "id": "35ef6af2-ce17-496d-a09c-79397ce66123",
   "metadata": {},
   "outputs": [],
   "source": [
    "x = 10\n",
    "assert x >= 0, \"x is becoming -ve\" #assert, condition to check, message\n",
    "#runs w no issue"
   ]
  },
  {
   "cell_type": "code",
   "execution_count": 9,
   "id": "f783cc6e-d568-447c-922d-da1c43db2da0",
   "metadata": {},
   "outputs": [
    {
     "ename": "AssertionError",
     "evalue": "x is becoming -ve",
     "output_type": "error",
     "traceback": [
      "\u001b[1;31m---------------------------------------------------------------------------\u001b[0m",
      "\u001b[1;31mAssertionError\u001b[0m                            Traceback (most recent call last)",
      "Cell \u001b[1;32mIn[9], line 2\u001b[0m\n\u001b[0;32m      1\u001b[0m x \u001b[38;5;241m=\u001b[39m \u001b[38;5;241m-\u001b[39m\u001b[38;5;241m1\u001b[39m\n\u001b[1;32m----> 2\u001b[0m \u001b[38;5;28;01massert\u001b[39;00m x \u001b[38;5;241m>\u001b[39m\u001b[38;5;241m=\u001b[39m \u001b[38;5;241m0\u001b[39m, \u001b[38;5;124m\"\u001b[39m\u001b[38;5;124mx is becoming -ve\u001b[39m\u001b[38;5;124m\"\u001b[39m \u001b[38;5;66;03m#assert, condition to check, message\u001b[39;00m\n\u001b[0;32m      3\u001b[0m \u001b[38;5;66;03m#generates error and stops\u001b[39;00m\n",
      "\u001b[1;31mAssertionError\u001b[0m: x is becoming -ve"
     ]
    }
   ],
   "source": [
    "x = -1\n",
    "assert x >= 0, \"x is becoming -ve\" #assert, condition to check, message\n",
    "#generates error and stops"
   ]
  },
  {
   "attachments": {},
   "cell_type": "markdown",
   "id": "e2473566",
   "metadata": {},
   "source": [
    "## 1.2 try-except"
   ]
  },
  {
   "cell_type": "code",
   "execution_count": 17,
   "id": "07328d8c-9805-47bd-9b8c-665063112a7c",
   "metadata": {},
   "outputs": [
    {
     "name": "stdin",
     "output_type": "stream",
     "text": [
      "number pls -44545234\n"
     ]
    },
    {
     "name": "stdout",
     "output_type": "stream",
     "text": [
      "1984277872114756 was ur number, -44545234, but squared yay\n"
     ]
    }
   ],
   "source": [
    "#technical name for things going wrong is exceptions. if exceptions are not dealt with, stop flow of code\n",
    "number = input(\"number pls\")\n",
    "try:\n",
    "    square = int(number)**2\n",
    "    print(f\"{square} was ur number, {number}, but squared yay\")\n",
    "except:\n",
    "    print(f\"{number} is not a number pls try again\")"
   ]
  },
  {
   "attachments": {},
   "cell_type": "markdown",
   "id": "da23fa86",
   "metadata": {},
   "source": [
    "## 1.3 A simple suggestion"
   ]
  },
  {
   "cell_type": "markdown",
   "id": "0a3d10a0-d773-4a31-8d33-810321af2898",
   "metadata": {},
   "source": [
    "just use print() periodically to make sure everyth is working "
   ]
  },
  {
   "attachments": {},
   "cell_type": "markdown",
   "id": "0dd6dc3f",
   "metadata": {},
   "source": [
    "# 2 Some loose ends"
   ]
  },
  {
   "attachments": {},
   "cell_type": "markdown",
   "id": "bd676984",
   "metadata": {},
   "source": [
    "## 2.1 Positional, keyword and default arguments"
   ]
  },
  {
   "cell_type": "markdown",
   "id": "af0a7a09-a4a9-4671-9cfb-71bf3a42f425",
   "metadata": {},
   "source": [
    "- eg. greeting(\"superman\") vs greeting(name = \"superman\")\n",
    "- 3 ways to **pass a value to an argument**: positional, keyword, default arguments"
   ]
  },
  {
   "cell_type": "code",
   "execution_count": 26,
   "id": "7ed3edbc-ef3b-4b11-8a8e-4e9e1d817c1b",
   "metadata": {},
   "outputs": [],
   "source": [
    "#making this function first:\n",
    "def side_by_side(a, b, c=5):\n",
    "    return f'{a: 2d}|{b: 2d}|{c: 2d}'"
   ]
  },
  {
   "cell_type": "code",
   "execution_count": 21,
   "id": "7090ff5d-5069-4872-84af-ab908ab9823a",
   "metadata": {},
   "outputs": [
    {
     "data": {
      "text/plain": [
       "' 1| 2| 3'"
      ]
     },
     "execution_count": 21,
     "metadata": {},
     "output_type": "execute_result"
    }
   ],
   "source": [
    "#positional: assigning values using positional order or arguments\n",
    "side_by_side(1,2,3)"
   ]
  },
  {
   "cell_type": "code",
   "execution_count": 22,
   "id": "e3053d5a-64b1-4a5c-a3c0-2250787f8bae",
   "metadata": {},
   "outputs": [
    {
     "data": {
      "text/plain": [
       "' 2| 3| 1'"
      ]
     },
     "execution_count": 22,
     "metadata": {},
     "output_type": "execute_result"
    }
   ],
   "source": [
    "#keywords: explicitly specify the keyword to assign the value. order does not matter\n",
    "side_by_side(c=1, b=3, a=2)"
   ]
  },
  {
   "cell_type": "code",
   "execution_count": 28,
   "id": "c89987b9-4a88-4426-9166-ba1b78d7b458",
   "metadata": {},
   "outputs": [
    {
     "data": {
      "text/plain": [
       "' 1| 2| 5'"
      ]
     },
     "execution_count": 28,
     "metadata": {},
     "output_type": "execute_result"
    }
   ],
   "source": [
    "#default - c is optional because i have set it as 5 in the definition\n",
    "side_by_side(1, b =2)"
   ]
  },
  {
   "cell_type": "code",
   "execution_count": 30,
   "id": "7355f3b2-ed54-403d-8cc7-9f6ff1ea8880",
   "metadata": {},
   "outputs": [
    {
     "data": {
      "text/plain": [
       "' 3| 23213| 59'"
      ]
     },
     "execution_count": 30,
     "metadata": {},
     "output_type": "execute_result"
    }
   ],
   "source": [
    "#COMBINING STYLES IS POSSIBLE but keyword followed by positional confuses python and wont work\n",
    "side_by_side(3, c=59, b =23213)"
   ]
  },
  {
   "cell_type": "code",
   "execution_count": 33,
   "id": "7a2993a4-fac8-4882-81e3-22cc4edbd65c",
   "metadata": {},
   "outputs": [
    {
     "ename": "SyntaxError",
     "evalue": "positional argument follows keyword argument (3225284205.py, line 1)",
     "output_type": "error",
     "traceback": [
      "\u001b[1;36m  Cell \u001b[1;32mIn[33], line 1\u001b[1;36m\u001b[0m\n\u001b[1;33m    side_by_side(b=0, 234423) #the error is literally positional argument follows keyword argument\u001b[0m\n\u001b[1;37m                            ^\u001b[0m\n\u001b[1;31mSyntaxError\u001b[0m\u001b[1;31m:\u001b[0m positional argument follows keyword argument\n"
     ]
    }
   ],
   "source": [
    "side_by_side(b=0, 234423) #the error is literally positional argument follows keyword argument"
   ]
  },
  {
   "cell_type": "code",
   "execution_count": 35,
   "id": "0599b5b8-ed68-4e46-bbaf-778fe8002fac",
   "metadata": {},
   "outputs": [
    {
     "ename": "SyntaxError",
     "evalue": "positional argument follows keyword argument (1054390440.py, line 1)",
     "output_type": "error",
     "traceback": [
      "\u001b[1;36m  Cell \u001b[1;32mIn[35], line 1\u001b[1;36m\u001b[0m\n\u001b[1;33m    side_by_side(a=2, 1) #also doesnt work even tho a is first\u001b[0m\n\u001b[1;37m                       ^\u001b[0m\n\u001b[1;31mSyntaxError\u001b[0m\u001b[1;31m:\u001b[0m positional argument follows keyword argument\n"
     ]
    }
   ],
   "source": [
    "side_by_side(a=2, 1) #also doesnt work even tho a is first"
   ]
  },
  {
   "attachments": {},
   "cell_type": "markdown",
   "id": "732b64f3",
   "metadata": {},
   "source": [
    "## 2.2 Docstrings"
   ]
  },
  {
   "attachments": {},
   "cell_type": "markdown",
   "id": "8155793f",
   "metadata": {},
   "source": [
    "## 2.3 Function are first-class citizens"
   ]
  },
  {
   "attachments": {},
   "cell_type": "markdown",
   "id": "438f0e6e",
   "metadata": {},
   "source": [
    "## 2.4 More about unpacking"
   ]
  }
 ],
 "metadata": {
  "kernelspec": {
   "display_name": "Python 3 (ipykernel)",
   "language": "python",
   "name": "python3"
  },
  "language_info": {
   "codemirror_mode": {
    "name": "ipython",
    "version": 3
   },
   "file_extension": ".py",
   "mimetype": "text/x-python",
   "name": "python",
   "nbconvert_exporter": "python",
   "pygments_lexer": "ipython3",
   "version": "3.11.5"
  },
  "toc": {
   "base_numbering": 1,
   "nav_menu": {},
   "number_sections": true,
   "sideBar": true,
   "skip_h1_title": false,
   "title_cell": "Table of Contents",
   "title_sidebar": "Contents",
   "toc_cell": false,
   "toc_position": {},
   "toc_section_display": true,
   "toc_window_display": false
  },
  "vscode": {
   "interpreter": {
    "hash": "31f2aee4e71d21fbe5cf8b01ff0e069b9275f58929596ceb00d14d90e3e16cd6"
   }
  }
 },
 "nbformat": 4,
 "nbformat_minor": 5
}
