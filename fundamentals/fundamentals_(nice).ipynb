{
 "cells": [
  {
   "attachments": {},
   "cell_type": "markdown",
   "id": "123456",
   "metadata": {},
   "source": [
    "<div style=\"text-align:left;font-size:2em\"><span style=\"font-weight:bolder;font-size:1.25em\">SP2273 | Learning Portfolio</span><br><br><span style=\"font-weight:bold;color:darkred\">Fundamentals (Nice)</span></div>"
   ]
  },
  {
   "attachments": {},
   "cell_type": "markdown",
   "id": "e68d1094",
   "metadata": {},
   "source": [
    "# 1 If if is not enough"
   ]
  },
  {
   "cell_type": "code",
   "execution_count": 2,
   "id": "101f59fd-53cf-46c5-9317-a3adcbbf9ff0",
   "metadata": {},
   "outputs": [
    {
     "name": "stdin",
     "output_type": "stream",
     "text": [
      "superhero name??? spiderman\n"
     ]
    },
    {
     "name": "stdout",
     "output_type": "stream",
     "text": [
      "hello spiderman!!!\n"
     ]
    }
   ],
   "source": [
    "#for checking multiple conditions, use match-case statement\n",
    "\n",
    "name = input(\"superhero name???\")\n",
    "\n",
    "match name:\n",
    "    case \"batman\":\n",
    "        print(\"hello batman!!!\")\n",
    "    case \"superman\":\n",
    "        print(\"hello superman!!!\")\n",
    "    case \"spiderman\":\n",
    "        print(\"hello spiderman!!!\")\n",
    "    case _: ## this is like ELSE\n",
    "        print(\"hello world\")"
   ]
  },
  {
   "attachments": {},
   "cell_type": "markdown",
   "id": "1c22f9f6",
   "metadata": {},
   "source": [
    "# 2 Ternary operators or Conditional Statements"
   ]
  },
  {
   "cell_type": "code",
   "execution_count": 3,
   "id": "24617063-b96c-4f83-b26a-165d3d762fc3",
   "metadata": {},
   "outputs": [
    {
     "name": "stdin",
     "output_type": "stream",
     "text": [
      "what is ur nationality chinese\n"
     ]
    },
    {
     "name": "stdout",
     "output_type": "stream",
     "text": [
      "nihao\n"
     ]
    }
   ],
   "source": [
    "#to make code more readable. three parts\n",
    "#format: do A if B. otherwise C.\n",
    "\n",
    "nationality = input(\"what is ur nationality\")\n",
    "greeting = \"nihao\" if nationality == \"chinese\" else \"hello\"\n",
    "print(greeting)"
   ]
  },
  {
   "cell_type": "code",
   "execution_count": 6,
   "id": "01a63ffd-8ea0-4fc5-b190-a145a0a7fb42",
   "metadata": {},
   "outputs": [
    {
     "name": "stdin",
     "output_type": "stream",
     "text": [
      "what is ur nationality chinese\n"
     ]
    },
    {
     "data": {
      "text/plain": [
       "'nihao'"
      ]
     },
     "execution_count": 6,
     "metadata": {},
     "output_type": "execute_result"
    }
   ],
   "source": [
    "#another method\n",
    "# (otherwise C, do A)[if B]\n",
    "\n",
    "nationality = input(\"what is ur nationality\")\n",
    "(\"hello\",\"nihao\")[nationality == \"chinese\"]"
   ]
  },
  {
   "attachments": {},
   "cell_type": "markdown",
   "id": "8fc95820",
   "metadata": {},
   "source": [
    "# 3 Swapping values"
   ]
  },
  {
   "cell_type": "code",
   "execution_count": 9,
   "id": "0645c381-4eda-4cca-afe8-f3f474f5cdb2",
   "metadata": {},
   "outputs": [
    {
     "name": "stdout",
     "output_type": "stream",
     "text": [
      "89 45\n",
      "3 1 2\n"
     ]
    }
   ],
   "source": [
    "a, b = 45, 89\n",
    "a, b = b, a\n",
    "print(a, b)\n",
    "\n",
    "c, d, e = 1, 2, 3\n",
    "d, e, c = c, d, e\n",
    "print(c, d, e)"
   ]
  },
  {
   "attachments": {},
   "cell_type": "markdown",
   "id": "f19e818a",
   "metadata": {},
   "source": [
    "# 4 There are more types"
   ]
  },
  {
   "cell_type": "markdown",
   "id": "22b6d2c8-8093-4dcc-867e-47327a510540",
   "metadata": {},
   "source": [
    "for very precise calculations"
   ]
  },
  {
   "attachments": {},
   "cell_type": "markdown",
   "id": "ca02190b",
   "metadata": {},
   "source": [
    "# 5 Operator precedance"
   ]
  },
  {
   "attachments": {},
   "cell_type": "markdown",
   "id": "ca852a48",
   "metadata": {},
   "source": [
    "# 6 Variables in Python are just names"
   ]
  },
  {
   "attachments": {},
   "cell_type": "markdown",
   "id": "912caaee",
   "metadata": {},
   "source": [
    "## 6.1 The Problem"
   ]
  },
  {
   "attachments": {},
   "cell_type": "markdown",
   "id": "4ecaa41d",
   "metadata": {},
   "source": [
    "## 6.2 An explanation"
   ]
  },
  {
   "cell_type": "markdown",
   "id": "0a7704dd-640f-41eb-a6d4-f2f9f23d4df3",
   "metadata": {},
   "source": [
    "immutable objects: objects which value cannot be changed, so binding is changed instead eg. str, float, bool\n",
    "mutable objects: lists and dictionaries"
   ]
  },
  {
   "attachments": {},
   "cell_type": "markdown",
   "id": "997281d9",
   "metadata": {},
   "source": [
    "## 6.3 A solution"
   ]
  },
  {
   "attachments": {},
   "cell_type": "markdown",
   "id": "aa914bcb",
   "metadata": {},
   "source": [
    "# 7 == is not the same as is"
   ]
  },
  {
   "cell_type": "markdown",
   "id": "21765ac2-53a1-4ea9-a790-ee7308a10867",
   "metadata": {},
   "source": [
    "is checks for identity\n",
    "== checks for equality"
   ]
  },
  {
   "attachments": {},
   "cell_type": "markdown",
   "id": "6fa24763",
   "metadata": {},
   "source": [
    "## Footnotes"
   ]
  },
  {
   "cell_type": "code",
   "execution_count": null,
   "id": "f2fa49da-7ab3-4467-9104-586b653453ee",
   "metadata": {},
   "outputs": [],
   "source": [
    "intentionally left some blanks here bc optional, just did some exercises that i think were useful"
   ]
  }
 ],
 "metadata": {
  "kernelspec": {
   "display_name": "Python 3 (ipykernel)",
   "language": "python",
   "name": "python3"
  },
  "language_info": {
   "codemirror_mode": {
    "name": "ipython",
    "version": 3
   },
   "file_extension": ".py",
   "mimetype": "text/x-python",
   "name": "python",
   "nbconvert_exporter": "python",
   "pygments_lexer": "ipython3",
   "version": "3.11.5"
  },
  "toc": {
   "base_numbering": 1,
   "nav_menu": {},
   "number_sections": true,
   "sideBar": true,
   "skip_h1_title": false,
   "title_cell": "Table of Contents",
   "title_sidebar": "Contents",
   "toc_cell": false,
   "toc_position": {},
   "toc_section_display": true,
   "toc_window_display": false
  },
  "vscode": {
   "interpreter": {
    "hash": "31f2aee4e71d21fbe5cf8b01ff0e069b9275f58929596ceb00d14d90e3e16cd6"
   }
  }
 },
 "nbformat": 4,
 "nbformat_minor": 5
}
