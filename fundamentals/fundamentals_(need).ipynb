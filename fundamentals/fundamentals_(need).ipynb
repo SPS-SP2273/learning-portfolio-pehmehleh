{
 "cells": [
  {
   "attachments": {},
   "cell_type": "markdown",
   "id": "123456",
   "metadata": {},
   "source": [
    "<div style=\"text-align:left;font-size:2em\"><span style=\"font-weight:bolder;font-size:1.25em\">SP2273 | Learning Portfolio</span><br><br><span style=\"font-weight:bold;color:darkred\">Fundamentals (Need)</span></div>"
   ]
  },
  {
   "attachments": {},
   "cell_type": "markdown",
   "id": "7955e912",
   "metadata": {},
   "source": [
    "# What to expect in this chapter"
   ]
  },
  {
   "cell_type": "markdown",
   "id": "b44d3f95-18bd-4aed-8f25-7c7de8eb0e5e",
   "metadata": {},
   "source": [
    "Main topics in this chapter:\n",
    "Python syntax - indentations (spaces, tabs, periods)\n",
    "Importing packages"
   ]
  },
  {
   "attachments": {},
   "cell_type": "markdown",
   "id": "086bc47b-515c-4076-8f7d-285f514ca5dc",
   "metadata": {},
   "source": [
    "# Functions"
   ]
  },
  {
   "cell_type": "code",
   "execution_count": 5,
   "id": "35a36299-21d2-41d1-b0b3-ca4f768eeb2d",
   "metadata": {},
   "outputs": [
    {
     "name": "stdout",
     "output_type": "stream",
     "text": [
      "Hello World!\n"
     ]
    }
   ],
   "source": [
    "print(\"Hello World!\")"
   ]
  },
  {
   "attachments": {},
   "cell_type": "markdown",
   "id": "a74b027f",
   "metadata": {},
   "source": [
    "# Remember"
   ]
  },
  {
   "cell_type": "markdown",
   "id": "8e2838d1-e9ef-4c7f-95ed-228a49f4d614",
   "metadata": {},
   "source": [
    "Notes:\n",
    "() are for functions, eg print() and exit()\n",
    "We can define our own functions"
   ]
  },
  {
   "attachments": {},
   "cell_type": "markdown",
   "id": "3f212a22",
   "metadata": {},
   "source": [
    "# Python is interpreted"
   ]
  },
  {
   "cell_type": "code",
   "execution_count": 6,
   "id": "13582346-0ac6-444a-a626-58bdddf442b9",
   "metadata": {},
   "outputs": [
    {
     "name": "stdout",
     "output_type": "stream",
     "text": [
      "hello world\n",
      "hello world again\n"
     ]
    }
   ],
   "source": [
    "print(\"hello world\")\n",
    "print(\"hello world again\")"
   ]
  },
  {
   "attachments": {},
   "cell_type": "markdown",
   "id": "0bc4271c",
   "metadata": {},
   "source": [
    "# Python is CASE-sensitive."
   ]
  },
  {
   "cell_type": "markdown",
   "id": "ac33460d-5d8e-4d25-9288-a4fd629cffb4",
   "metadata": {},
   "source": [
    "Print() will not work"
   ]
  },
  {
   "attachments": {},
   "cell_type": "markdown",
   "id": "14a61586",
   "metadata": {},
   "source": [
    "# Remember"
   ]
  },
  {
   "cell_type": "markdown",
   "id": "adf68219-622b-4d59-974a-43191dc0ed84",
   "metadata": {},
   "source": [
    "python is case-sensitive"
   ]
  },
  {
   "attachments": {},
   "cell_type": "markdown",
   "id": "dd2c18e9",
   "metadata": {},
   "source": [
    "# Comments"
   ]
  },
  {
   "cell_type": "code",
   "execution_count": 8,
   "id": "240775c3-394a-4976-be0e-b47730af75c6",
   "metadata": {},
   "outputs": [
    {
     "name": "stdout",
     "output_type": "stream",
     "text": [
      "63\n"
     ]
    }
   ],
   "source": [
    "# in Code form (not Markdown), # are for comments and Python will ignore them UNTIL the end of the line.\n",
    "a = 7\n",
    "b = 9\n",
    "print(a*b)"
   ]
  },
  {
   "attachments": {},
   "cell_type": "markdown",
   "id": "c6bf52d6",
   "metadata": {},
   "source": [
    "# Remember"
   ]
  },
  {
   "cell_type": "markdown",
   "id": "8ca5f0a2-d752-4ab8-8e61-fb8caba45703",
   "metadata": {},
   "source": [
    "important to use comments to emphasise purpose of code especially for lines of code that are not very straightforward"
   ]
  },
  {
   "attachments": {},
   "cell_type": "markdown",
   "id": "1d02fc85",
   "metadata": {},
   "source": [
    "# = is not the same as =="
   ]
  },
  {
   "cell_type": "markdown",
   "id": "9df4a2e1-a6f4-408f-b8e5-bf1aa0534140",
   "metadata": {},
   "source": [
    "= is to SET something as a value\n",
    "== is to CHECK if something is equal"
   ]
  },
  {
   "cell_type": "code",
   "execution_count": 14,
   "id": "fca89236-e072-4c88-81b9-525825067605",
   "metadata": {},
   "outputs": [
    {
     "data": {
      "text/plain": [
       "True"
      ]
     },
     "execution_count": 14,
     "metadata": {},
     "output_type": "execute_result"
    }
   ],
   "source": [
    "module = \"SP2273\"\n",
    "\"SP2273\" == module"
   ]
  },
  {
   "cell_type": "code",
   "execution_count": 11,
   "id": "19b587ba-0bf0-4128-9656-2cb0641656d5",
   "metadata": {},
   "outputs": [
    {
     "name": "stdout",
     "output_type": "stream",
     "text": [
      "SP2273 is an SPS and CHS mod\n"
     ]
    }
   ],
   "source": [
    "module = \"SP2273\"\n",
    "chs = \"is an SPS and CHS mod\"\n",
    "print(module + \" \" + chs)"
   ]
  },
  {
   "attachments": {},
   "cell_type": "markdown",
   "id": "7e0717c8",
   "metadata": {},
   "source": [
    "# Remember"
   ]
  },
  {
   "cell_type": "markdown",
   "id": "30675985-615f-4794-b0f4-d0dda52ca378",
   "metadata": {},
   "source": [
    "= is not the same as ==, = is to SET and == is to CHECK"
   ]
  },
  {
   "attachments": {},
   "cell_type": "markdown",
   "id": "4259946b",
   "metadata": {},
   "source": [
    "# Use if to make decisions"
   ]
  },
  {
   "cell_type": "code",
   "execution_count": 15,
   "id": "c8fc347d-6816-4a51-92c0-64c7737b7c29",
   "metadata": {},
   "outputs": [
    {
     "name": "stdout",
     "output_type": "stream",
     "text": [
      "x is 3\n"
     ]
    }
   ],
   "source": [
    "x = 3\n",
    "if x == 3:\n",
    "    print(\"x is 3\")\n",
    "else:\n",
    "    print(\"x is not 3\")"
   ]
  },
  {
   "attachments": {},
   "cell_type": "markdown",
   "id": "608c67a4",
   "metadata": {},
   "source": [
    "# Remember"
   ]
  },
  {
   "cell_type": "markdown",
   "id": "526b1afa-939b-4034-8761-f3430724456d",
   "metadata": {},
   "source": [
    "if is to make decisions, : and tabs define what to do if a condition is fulfilled or not"
   ]
  },
  {
   "attachments": {},
   "cell_type": "markdown",
   "id": "c32e1110",
   "metadata": {},
   "source": [
    "# Indentations (spaces) are sooo IMPORTANT!"
   ]
  },
  {
   "cell_type": "code",
   "execution_count": 16,
   "id": "c2be546e-eaf4-4ba6-b86a-dfec4b32ec46",
   "metadata": {},
   "outputs": [
    {
     "name": "stdout",
     "output_type": "stream",
     "text": [
      "100\n"
     ]
    }
   ],
   "source": [
    "x = 100\n",
    "print(x)"
   ]
  },
  {
   "cell_type": "markdown",
   "id": "5505b486-3040-4f39-88b7-39b76da895a3",
   "metadata": {},
   "source": [
    "do not use indentations for the code above, will not work.\n",
    "\n",
    "do not anyhow indent"
   ]
  },
  {
   "attachments": {},
   "cell_type": "markdown",
   "id": "e1553c3e",
   "metadata": {},
   "source": [
    "# Remember"
   ]
  },
  {
   "attachments": {},
   "cell_type": "markdown",
   "id": "561724ca",
   "metadata": {},
   "source": [
    "# ‘age’ is English, age is a variable."
   ]
  },
  {
   "attachments": {},
   "cell_type": "markdown",
   "id": "ecf544c5",
   "metadata": {},
   "source": [
    "# Brackets"
   ]
  },
  {
   "attachments": {},
   "cell_type": "markdown",
   "id": "858fb691",
   "metadata": {},
   "source": [
    "# Giving Python superpowers with Packages"
   ]
  },
  {
   "attachments": {},
   "cell_type": "markdown",
   "id": "a940352e",
   "metadata": {},
   "source": [
    "## Some Context"
   ]
  },
  {
   "attachments": {},
   "cell_type": "markdown",
   "id": "55ae6751",
   "metadata": {},
   "source": [
    "## Importing the math package"
   ]
  },
  {
   "attachments": {},
   "cell_type": "markdown",
   "id": "4a2f50c7",
   "metadata": {},
   "source": [
    "## Importing the numpy package"
   ]
  },
  {
   "attachments": {},
   "cell_type": "markdown",
   "id": "26faa8b3",
   "metadata": {},
   "source": [
    "## Why so many packages?"
   ]
  },
  {
   "attachments": {},
   "cell_type": "markdown",
   "id": "91fd845c",
   "metadata": {},
   "source": [
    "# Remember"
   ]
  },
  {
   "attachments": {},
   "cell_type": "markdown",
   "id": "14d45240",
   "metadata": {},
   "source": [
    "# The dot (.)"
   ]
  },
  {
   "attachments": {},
   "cell_type": "markdown",
   "id": "b2519d22",
   "metadata": {},
   "source": [
    "# Remember"
   ]
  },
  {
   "attachments": {},
   "cell_type": "markdown",
   "id": "4081ae18",
   "metadata": {},
   "source": [
    "## Footnotes"
   ]
  }
 ],
 "metadata": {
  "kernelspec": {
   "display_name": "Python 3 (ipykernel)",
   "language": "python",
   "name": "python3"
  },
  "language_info": {
   "codemirror_mode": {
    "name": "ipython",
    "version": 3
   },
   "file_extension": ".py",
   "mimetype": "text/x-python",
   "name": "python",
   "nbconvert_exporter": "python",
   "pygments_lexer": "ipython3",
   "version": "3.11.5"
  },
  "toc": {
   "base_numbering": 1,
   "nav_menu": {},
   "number_sections": true,
   "sideBar": true,
   "skip_h1_title": false,
   "title_cell": "Table of Contents",
   "title_sidebar": "Contents",
   "toc_cell": false,
   "toc_position": {},
   "toc_section_display": true,
   "toc_window_display": false
  },
  "vscode": {
   "interpreter": {
    "hash": "31f2aee4e71d21fbe5cf8b01ff0e069b9275f58929596ceb00d14d90e3e16cd6"
   }
  }
 },
 "nbformat": 4,
 "nbformat_minor": 5
}
