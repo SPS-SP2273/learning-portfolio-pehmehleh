{
 "cells": [
  {
   "attachments": {},
   "cell_type": "markdown",
   "id": "123456",
   "metadata": {},
   "source": [
    "<div style=\"text-align:left;font-size:2em\"><span style=\"font-weight:bolder;font-size:1.25em\">SP2273 | Learning Portfolio</span><br><br><span style=\"font-weight:bold;color:darkred\">Fundamentals (Need)</span></div>"
   ]
  },
  {
   "attachments": {},
   "cell_type": "markdown",
   "id": "7955e912",
   "metadata": {},
   "source": [
    "# What to expect in this chapter"
   ]
  },
  {
   "cell_type": "markdown",
   "id": "b44d3f95-18bd-4aed-8f25-7c7de8eb0e5e",
   "metadata": {},
   "source": [
    "Main topics in this chapter:\n",
    "Python syntax - indentations (spaces, tabs, periods)\n",
    "Importing packages\n",
    "Lists [ ] and dictionaries { } and dictionaries assign a VALUE to a KEY\n",
    "Splitting strings\n",
    ". indicates ownership"
   ]
  },
  {
   "attachments": {},
   "cell_type": "markdown",
   "id": "086bc47b-515c-4076-8f7d-285f514ca5dc",
   "metadata": {},
   "source": [
    "# Functions"
   ]
  },
  {
   "cell_type": "code",
   "execution_count": 5,
   "id": "35a36299-21d2-41d1-b0b3-ca4f768eeb2d",
   "metadata": {},
   "outputs": [
    {
     "name": "stdout",
     "output_type": "stream",
     "text": [
      "Hello World!\n"
     ]
    }
   ],
   "source": [
    "print(\"Hello World!\")"
   ]
  },
  {
   "attachments": {},
   "cell_type": "markdown",
   "id": "a74b027f",
   "metadata": {},
   "source": [
    "# Remember"
   ]
  },
  {
   "cell_type": "markdown",
   "id": "8e2838d1-e9ef-4c7f-95ed-228a49f4d614",
   "metadata": {},
   "source": [
    "Notes:\n",
    "() are for functions, eg print() and exit()\n",
    "We can define our own functions"
   ]
  },
  {
   "attachments": {},
   "cell_type": "markdown",
   "id": "3f212a22",
   "metadata": {},
   "source": [
    "# Python is interpreted"
   ]
  },
  {
   "cell_type": "code",
   "execution_count": 6,
   "id": "13582346-0ac6-444a-a626-58bdddf442b9",
   "metadata": {},
   "outputs": [
    {
     "name": "stdout",
     "output_type": "stream",
     "text": [
      "hello world\n",
      "hello world again\n"
     ]
    }
   ],
   "source": [
    "print(\"hello world\")\n",
    "print(\"hello world again\")"
   ]
  },
  {
   "attachments": {},
   "cell_type": "markdown",
   "id": "0bc4271c",
   "metadata": {},
   "source": [
    "# Python is CASE-sensitive."
   ]
  },
  {
   "cell_type": "markdown",
   "id": "ac33460d-5d8e-4d25-9288-a4fd629cffb4",
   "metadata": {},
   "source": [
    "Print() will not work"
   ]
  },
  {
   "attachments": {},
   "cell_type": "markdown",
   "id": "14a61586",
   "metadata": {},
   "source": [
    "# Remember"
   ]
  },
  {
   "cell_type": "markdown",
   "id": "adf68219-622b-4d59-974a-43191dc0ed84",
   "metadata": {},
   "source": [
    "python is case-sensitive"
   ]
  },
  {
   "attachments": {},
   "cell_type": "markdown",
   "id": "dd2c18e9",
   "metadata": {},
   "source": [
    "# Comments"
   ]
  },
  {
   "cell_type": "code",
   "execution_count": 8,
   "id": "240775c3-394a-4976-be0e-b47730af75c6",
   "metadata": {},
   "outputs": [
    {
     "name": "stdout",
     "output_type": "stream",
     "text": [
      "63\n"
     ]
    }
   ],
   "source": [
    "# in Code form (not Markdown), # are for comments and Python will ignore them UNTIL the end of the line.\n",
    "a = 7\n",
    "b = 9\n",
    "print(a*b)"
   ]
  },
  {
   "attachments": {},
   "cell_type": "markdown",
   "id": "c6bf52d6",
   "metadata": {},
   "source": [
    "# Remember"
   ]
  },
  {
   "cell_type": "markdown",
   "id": "8ca5f0a2-d752-4ab8-8e61-fb8caba45703",
   "metadata": {},
   "source": [
    "important to use comments to emphasise purpose of code especially for lines of code that are not very straightforward"
   ]
  },
  {
   "attachments": {},
   "cell_type": "markdown",
   "id": "1d02fc85",
   "metadata": {},
   "source": [
    "# = is not the same as =="
   ]
  },
  {
   "cell_type": "markdown",
   "id": "9df4a2e1-a6f4-408f-b8e5-bf1aa0534140",
   "metadata": {},
   "source": [
    "= is to SET something as a value\n",
    "== is to CHECK if something is equal"
   ]
  },
  {
   "cell_type": "code",
   "execution_count": 14,
   "id": "fca89236-e072-4c88-81b9-525825067605",
   "metadata": {},
   "outputs": [
    {
     "data": {
      "text/plain": [
       "True"
      ]
     },
     "execution_count": 14,
     "metadata": {},
     "output_type": "execute_result"
    }
   ],
   "source": [
    "module = \"SP2273\"\n",
    "\"SP2273\" == module"
   ]
  },
  {
   "cell_type": "code",
   "execution_count": 11,
   "id": "19b587ba-0bf0-4128-9656-2cb0641656d5",
   "metadata": {},
   "outputs": [
    {
     "name": "stdout",
     "output_type": "stream",
     "text": [
      "SP2273 is an SPS and CHS mod\n"
     ]
    }
   ],
   "source": [
    "module = \"SP2273\"\n",
    "chs = \"is an SPS and CHS mod\"\n",
    "print(module + \" \" + chs)"
   ]
  },
  {
   "attachments": {},
   "cell_type": "markdown",
   "id": "7e0717c8",
   "metadata": {},
   "source": [
    "# Remember"
   ]
  },
  {
   "cell_type": "markdown",
   "id": "30675985-615f-4794-b0f4-d0dda52ca378",
   "metadata": {},
   "source": [
    "= is not the same as ==, = is to SET and == is to CHECK"
   ]
  },
  {
   "attachments": {},
   "cell_type": "markdown",
   "id": "4259946b",
   "metadata": {},
   "source": [
    "# Use if to make decisions"
   ]
  },
  {
   "cell_type": "code",
   "execution_count": 15,
   "id": "c8fc347d-6816-4a51-92c0-64c7737b7c29",
   "metadata": {},
   "outputs": [
    {
     "name": "stdout",
     "output_type": "stream",
     "text": [
      "x is 3\n"
     ]
    }
   ],
   "source": [
    "x = 3\n",
    "if x == 3:\n",
    "    print(\"x is 3\")\n",
    "else:\n",
    "    print(\"x is not 3\")"
   ]
  },
  {
   "attachments": {},
   "cell_type": "markdown",
   "id": "608c67a4",
   "metadata": {},
   "source": [
    "# Remember"
   ]
  },
  {
   "cell_type": "markdown",
   "id": "526b1afa-939b-4034-8761-f3430724456d",
   "metadata": {},
   "source": [
    "if is to make decisions, : and tabs define what to do if a condition is fulfilled or not"
   ]
  },
  {
   "attachments": {},
   "cell_type": "markdown",
   "id": "c32e1110",
   "metadata": {},
   "source": [
    "# Indentations (spaces) are sooo IMPORTANT!"
   ]
  },
  {
   "cell_type": "code",
   "execution_count": 16,
   "id": "c2be546e-eaf4-4ba6-b86a-dfec4b32ec46",
   "metadata": {},
   "outputs": [
    {
     "name": "stdout",
     "output_type": "stream",
     "text": [
      "100\n"
     ]
    }
   ],
   "source": [
    "x = 100\n",
    "print(x)"
   ]
  },
  {
   "attachments": {},
   "cell_type": "markdown",
   "id": "e1553c3e",
   "metadata": {},
   "source": [
    "# Remember"
   ]
  },
  {
   "cell_type": "markdown",
   "id": "0669ab29-a420-4b67-944c-b5e710f01b26",
   "metadata": {},
   "source": [
    "do not use indentations for the code above, will not work.\n",
    "\n",
    "do not anyhow indent - use it for conditions like if, else, when etc.\n",
    "\n",
    "colons : are used to designate a block of code"
   ]
  },
  {
   "attachments": {},
   "cell_type": "markdown",
   "id": "561724ca",
   "metadata": {},
   "source": [
    "# ‘age’ is English, age is a variable."
   ]
  },
  {
   "cell_type": "code",
   "execution_count": 1,
   "id": "c2e5a802-8e36-435f-bcee-d779b5e9c1ee",
   "metadata": {},
   "outputs": [
    {
     "name": "stdout",
     "output_type": "stream",
     "text": [
      "age\n",
      "24\n"
     ]
    }
   ],
   "source": [
    "age = 24\n",
    "print(\"age\")\n",
    "print(age)"
   ]
  },
  {
   "attachments": {},
   "cell_type": "markdown",
   "id": "ecf544c5",
   "metadata": {},
   "source": [
    "# Brackets"
   ]
  },
  {
   "cell_type": "markdown",
   "id": "8c9c368a-4ca5-4a93-b202-c84418dea4c3",
   "metadata": {},
   "source": [
    "Types of brackets:\n",
    "( ) are for functions\n",
    "( ) are also for math\n",
    "[ ] are for lists    ]\n",
    "\n",
    "{ } are for dictionaries"
   ]
  },
  {
   "cell_type": "code",
   "execution_count": 14,
   "id": "78caa30a-b1b9-4683-9874-a460a3ac5a30",
   "metadata": {},
   "outputs": [
    {
     "name": "stdout",
     "output_type": "stream",
     "text": [
      "[1, 2, 3, 4, 5]\n",
      "[[1, 'A'], [2, 'B'], [3, 'C'], [4, 'D'], [5, 'E']]\n",
      "{'KEY': 'VALUE', 'Module code': 'SP2273', 'Module type': 'Digital Literacy', 'Semester taken': 'Y3S2'}\n",
      "Digital Literacy\n",
      "VALUE\n"
     ]
    }
   ],
   "source": [
    "#examples of lists using []\n",
    "\n",
    "p_list = [1, 2, 3, 4, 5] #this is a 1D list\n",
    "p_list_2 = [               #this is a 2D list\n",
    "                [1, \"A\"],      \n",
    "                [2, \"B\"],\n",
    "                [3, \"C\"],\n",
    "                [4, \"D\"],\n",
    "                [5, \"E\"]\n",
    "]\n",
    "\n",
    "print(p_list)\n",
    "print(p_list_2)\n",
    "\n",
    "#example of a dictionary using {} - uses a KEY to identify a VALUE\n",
    "\n",
    "personal_info = {\n",
    "    \"KEY\": \"VALUE\",\n",
    "    \"Module code\": \"SP2273\",\n",
    "    \"Module type\": \"Digital Literacy\",\n",
    "    \"Semester taken\": \"Y3S2\"\n",
    "}\n",
    "\n",
    "print(personal_info)\n",
    "\n",
    "#note: for each line in the dictionary or 2D list that is not the final list, a comma needs to be placed at the end\n",
    "\n",
    "print(personal_info[\"Module type\"])\n",
    "print(personal_info[\"KEY\"])"
   ]
  },
  {
   "attachments": {},
   "cell_type": "markdown",
   "id": "858fb691",
   "metadata": {},
   "source": [
    "# Giving Python superpowers with Packages"
   ]
  },
  {
   "attachments": {},
   "cell_type": "markdown",
   "id": "a940352e",
   "metadata": {},
   "source": [
    "## Some Context"
   ]
  },
  {
   "cell_type": "code",
   "execution_count": 16,
   "id": "8f86afde-f8ff-4a9d-a2d2-67f7dead1be7",
   "metadata": {},
   "outputs": [
    {
     "data": {
      "text/plain": [
       "40.5"
      ]
     },
     "execution_count": 16,
     "metadata": {},
     "output_type": "execute_result"
    }
   ],
   "source": [
    "(1 * ((2-3) + 4) ** 5) / 6 #power to is **, not ^"
   ]
  },
  {
   "cell_type": "markdown",
   "id": "9b3133d4-dc03-4d32-b7f8-00cc93dfe84e",
   "metadata": {},
   "source": [
    "Importance:\n",
    "other math fxns like square rooting"
   ]
  },
  {
   "attachments": {},
   "cell_type": "markdown",
   "id": "55ae6751",
   "metadata": {},
   "source": [
    "## Importing the math package"
   ]
  },
  {
   "cell_type": "code",
   "execution_count": 19,
   "id": "31c17d45-dcb8-4d55-88c1-48d69f830baa",
   "metadata": {},
   "outputs": [],
   "source": [
    "import math"
   ]
  },
  {
   "cell_type": "code",
   "execution_count": 20,
   "id": "adf3af96-38e1-4f78-b294-391bf4ea6597",
   "metadata": {},
   "outputs": [
    {
     "data": {
      "text/plain": [
       "4.0"
      ]
     },
     "execution_count": 20,
     "metadata": {},
     "output_type": "execute_result"
    }
   ],
   "source": [
    "math.sqrt(16) #must be math.sqrt not just sqrt()"
   ]
  },
  {
   "attachments": {},
   "cell_type": "markdown",
   "id": "4a2f50c7",
   "metadata": {},
   "source": [
    "## Importing the numpy package"
   ]
  },
  {
   "cell_type": "code",
   "execution_count": 29,
   "id": "a9a8f077-ab78-47f3-8405-b2db8eb839f5",
   "metadata": {},
   "outputs": [
    {
     "ename": "ModuleNotFoundError",
     "evalue": "No module named 'numpy'",
     "output_type": "error",
     "traceback": [
      "\u001b[1;31m---------------------------------------------------------------------------\u001b[0m",
      "\u001b[1;31mModuleNotFoundError\u001b[0m                       Traceback (most recent call last)",
      "Cell \u001b[1;32mIn[29], line 3\u001b[0m\n\u001b[0;32m      1\u001b[0m \u001b[38;5;66;03m##another type of package that has the sqrt fxn. #import numpy as np means giving alias \"np\" to numpy so no need to keep typing numpy\u001b[39;00m\n\u001b[1;32m----> 3\u001b[0m \u001b[38;5;28;01mimport\u001b[39;00m \u001b[38;5;21;01mnumpy\u001b[39;00m\n",
      "\u001b[1;31mModuleNotFoundError\u001b[0m: No module named 'numpy'"
     ]
    }
   ],
   "source": [
    "##another type of package that has the sqrt fxn. #import numpy as np means giving alias \"np\" to numpy so no need to keep typing numpy\n",
    "\n",
    "import numpy"
   ]
  },
  {
   "attachments": {},
   "cell_type": "markdown",
   "id": "26faa8b3",
   "metadata": {},
   "source": [
    "## Why so many packages?"
   ]
  },
  {
   "cell_type": "code",
   "execution_count": 31,
   "id": "dff38c20-2223-4522-818c-3a1d61355771",
   "metadata": {},
   "outputs": [
    {
     "data": {
      "text/plain": [
       "1.4142135623730951"
      ]
     },
     "execution_count": 31,
     "metadata": {},
     "output_type": "execute_result"
    }
   ],
   "source": [
    "math.sqrt(2)"
   ]
  },
  {
   "attachments": {},
   "cell_type": "markdown",
   "id": "91fd845c",
   "metadata": {},
   "source": [
    "# Remember"
   ]
  },
  {
   "cell_type": "markdown",
   "id": "121a65e0-276d-4fd8-96ab-bf687c1ccf4b",
   "metadata": {},
   "source": [
    "packages allow Python to have more functions\n",
    "must import package only once\n",
    "diff ways to import packages, w/ or w/o alias"
   ]
  },
  {
   "attachments": {},
   "cell_type": "markdown",
   "id": "14d45240",
   "metadata": {},
   "source": [
    "# The dot (.)"
   ]
  },
  {
   "cell_type": "markdown",
   "id": "98361046-af7c-470f-88b9-2356d2107af0",
   "metadata": {},
   "source": [
    ". is to indicate ownership. eg math.sqrt()"
   ]
  },
  {
   "cell_type": "code",
   "execution_count": 32,
   "id": "848845f9-3066-489c-8fad-52f2ce59e19b",
   "metadata": {},
   "outputs": [
    {
     "data": {
      "text/plain": [
       "9.433981132056603"
      ]
     },
     "execution_count": 32,
     "metadata": {},
     "output_type": "execute_result"
    }
   ],
   "source": [
    "math.sqrt(89)"
   ]
  },
  {
   "cell_type": "markdown",
   "id": "f202c5c1-359c-4965-81fb-1add96ee905f",
   "metadata": {},
   "source": [
    "# Splitting strings of text"
   ]
  },
  {
   "cell_type": "code",
   "execution_count": 45,
   "id": "8cd4fdcc-d6a6-4a05-be73-0ab23321d7af",
   "metadata": {},
   "outputs": [
    {
     "name": "stdout",
     "output_type": "stream",
     "text": [
      "['i', 'am', 'batman']\n",
      "am\n",
      "['1', '2', '3', '4']\n",
      "4\n"
     ]
    }
   ],
   "source": [
    "batman = \"i am batman\".split() #MUST have the () at the end!!!\n",
    "print(batman)\n",
    "print(batman[1])\n",
    "\n",
    "no = \"1 2 3 4\".split()\n",
    "print(no)\n",
    "print(no[3])"
   ]
  },
  {
   "attachments": {},
   "cell_type": "markdown",
   "id": "b2519d22",
   "metadata": {},
   "source": [
    "# Remember"
   ]
  },
  {
   "cell_type": "markdown",
   "id": "a4731475-7fa1-47af-a6a6-255d7ef08f7a",
   "metadata": {},
   "source": [
    ". indicates belonging to\n",
    "functions like split must have the () at the end"
   ]
  },
  {
   "attachments": {},
   "cell_type": "markdown",
   "id": "4081ae18",
   "metadata": {},
   "source": [
    "## Footnotes"
   ]
  },
  {
   "cell_type": "markdown",
   "id": "ae850055-def6-4f2c-8739-613124c77dca",
   "metadata": {},
   "source": [
    "protected words that cannot be used to name a variable: if, for, while, is"
   ]
  }
 ],
 "metadata": {
  "kernelspec": {
   "display_name": "Python 3 (ipykernel)",
   "language": "python",
   "name": "python3"
  },
  "language_info": {
   "codemirror_mode": {
    "name": "ipython",
    "version": 3
   },
   "file_extension": ".py",
   "mimetype": "text/x-python",
   "name": "python",
   "nbconvert_exporter": "python",
   "pygments_lexer": "ipython3",
   "version": "3.11.5"
  },
  "toc": {
   "base_numbering": 1,
   "nav_menu": {},
   "number_sections": true,
   "sideBar": true,
   "skip_h1_title": false,
   "title_cell": "Table of Contents",
   "title_sidebar": "Contents",
   "toc_cell": false,
   "toc_position": {},
   "toc_section_display": true,
   "toc_window_display": false
  },
  "vscode": {
   "interpreter": {
    "hash": "31f2aee4e71d21fbe5cf8b01ff0e069b9275f58929596ceb00d14d90e3e16cd6"
   }
  }
 },
 "nbformat": 4,
 "nbformat_minor": 5
}
