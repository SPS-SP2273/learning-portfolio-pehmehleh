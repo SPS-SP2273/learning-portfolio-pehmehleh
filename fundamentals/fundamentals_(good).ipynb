{
 "cells": [
  {
   "attachments": {},
   "cell_type": "markdown",
   "id": "123456",
   "metadata": {},
   "source": [
    "<div style=\"text-align:left;font-size:2em\"><span style=\"font-weight:bolder;font-size:1.25em\">SP2273 | Learning Portfolio</span><br><br><span style=\"font-weight:bold;color:darkred\">Fundamentals (Good)</span></div>"
   ]
  },
  {
   "attachments": {},
   "cell_type": "markdown",
   "id": "3da9d683",
   "metadata": {},
   "source": [
    "# What to expect in this chapter"
   ]
  },
  {
   "cell_type": "markdown",
   "id": "02d27ce1-c0ef-4477-a64c-4a1dcd3bdf21",
   "metadata": {},
   "source": [
    "- more if functions\n",
    "- in and not in also can return T/F\n",
    "- asking questions (T/F)\n",
    "- upper() makes it all uppercase, vice versa for lower()"
   ]
  },
  {
   "attachments": {},
   "cell_type": "markdown",
   "id": "818db6c3",
   "metadata": {},
   "source": [
    "# 1 There is more to if"
   ]
  },
  {
   "cell_type": "code",
   "execution_count": 2,
   "id": "b6fdfd60-f53d-4f1a-8d8b-1174c86403bb",
   "metadata": {},
   "outputs": [
    {
     "name": "stdout",
     "output_type": "stream",
     "text": [
      "fyp\n"
     ]
    }
   ],
   "source": [
    "#else if is elif\n",
    "module = \"LSM4288\"\n",
    "\n",
    "if module == \"SP2273\":\n",
    "    print(\"digital literacy\")\n",
    "elif module == \"HS2905\":\n",
    "    print(\"interdisciplinary mod\")\n",
    "elif module == \"LSM4288\":\n",
    "    print(\"fyp\")\n",
    "else:\n",
    "    print(\"not here\")"
   ]
  },
  {
   "attachments": {},
   "cell_type": "markdown",
   "id": "cdeb40ed",
   "metadata": {},
   "source": [
    "# 2 Asking questions"
   ]
  },
  {
   "cell_type": "code",
   "execution_count": 15,
   "id": "e05f6ead-c3b6-4cbf-9eaf-fb51a46e1e7b",
   "metadata": {},
   "outputs": [
    {
     "data": {
      "text/plain": [
       "True"
      ]
     },
     "execution_count": 15,
     "metadata": {},
     "output_type": "execute_result"
    }
   ],
   "source": [
    "# make list first using [ ], then ask if \" \" is in [ ]\n",
    "\n",
    "modules = [\"hs2905\", \"sp2273\", \"hs2911\", \"lsm4252\", \"lsm4288\"]\n",
    "\"pl2132\" in modules or \"hs2911\" in modules\n",
    "\n",
    "#can use AND or OR to see whether smth is in the list"
   ]
  },
  {
   "cell_type": "code",
   "execution_count": 11,
   "id": "f4f5c0fb-acc0-4bdc-b2f1-0db2d7847bbb",
   "metadata": {},
   "outputs": [
    {
     "data": {
      "text/plain": [
       "True"
      ]
     },
     "execution_count": 11,
     "metadata": {},
     "output_type": "execute_result"
    }
   ],
   "source": [
    "#finding whether a string of text is found in another string\n",
    "\n",
    "\"pam\" in \"pamela\""
   ]
  },
  {
   "cell_type": "code",
   "execution_count": 14,
   "id": "b161e3b8-712e-41de-bd54-57ee863108b1",
   "metadata": {},
   "outputs": [
    {
     "data": {
      "text/plain": [
       "True"
      ]
     },
     "execution_count": 14,
     "metadata": {},
     "output_type": "execute_result"
    }
   ],
   "source": [
    "#not is the OPPOSITE\n",
    "\n",
    "\"i am\" not in \"sp2273\""
   ]
  },
  {
   "attachments": {},
   "cell_type": "markdown",
   "id": "5067775b",
   "metadata": {},
   "source": [
    "# 3 Remember"
   ]
  },
  {
   "cell_type": "markdown",
   "id": "baa4b1e5-97da-4556-8e5d-0c035265a5f1",
   "metadata": {},
   "source": [
    "3 > 10.5 will also give T/F responses. 3 > \"apple\" will not because COMPARING NUMBERS AND STRINGS\n",
    "however, strings like \"apples\" and \"oranges\" can be compared bc letters are internally represented as numbers"
   ]
  },
  {
   "cell_type": "code",
   "execution_count": 16,
   "id": "8e1fb47e-b589-4a66-862a-f7aea7b9f486",
   "metadata": {},
   "outputs": [
    {
     "data": {
      "text/plain": [
       "False"
      ]
     },
     "execution_count": 16,
     "metadata": {},
     "output_type": "execute_result"
    }
   ],
   "source": [
    "3 > 10"
   ]
  },
  {
   "cell_type": "code",
   "execution_count": 19,
   "id": "798758b8-85c5-4060-839a-32227d16f0b1",
   "metadata": {},
   "outputs": [
    {
     "data": {
      "text/plain": [
       "True"
      ]
     },
     "execution_count": 19,
     "metadata": {},
     "output_type": "execute_result"
    }
   ],
   "source": [
    "\"sp2273\" > \"hs2911\""
   ]
  },
  {
   "attachments": {},
   "cell_type": "markdown",
   "id": "f940c0f0",
   "metadata": {},
   "source": [
    "## 3.1 Asking Math questions"
   ]
  },
  {
   "cell_type": "markdown",
   "id": "de250688-400e-47d4-a873-d29113f6af1d",
   "metadata": {},
   "source": [
    "equals? ==\n",
    "not equal?\n",
    "less than or equal to/greater than or equal to? <= or >="
   ]
  },
  {
   "cell_type": "code",
   "execution_count": 21,
   "id": "57c1949e-1144-4a3d-a561-0e475f0452dc",
   "metadata": {},
   "outputs": [
    {
     "data": {
      "text/plain": [
       "True"
      ]
     },
     "execution_count": 21,
     "metadata": {},
     "output_type": "execute_result"
    }
   ],
   "source": [
    "9 >= 9"
   ]
  },
  {
   "cell_type": "code",
   "execution_count": 22,
   "id": "d51a207b-389c-4c90-8762-d2102a28a8ef",
   "metadata": {},
   "outputs": [
    {
     "data": {
      "text/plain": [
       "True"
      ]
     },
     "execution_count": 22,
     "metadata": {},
     "output_type": "execute_result"
    }
   ],
   "source": [
    "\"module\" != \"MODULE\""
   ]
  },
  {
   "cell_type": "code",
   "execution_count": 23,
   "id": "b1ed7b8c-f54b-4ce6-b726-41e895c39fd9",
   "metadata": {},
   "outputs": [
    {
     "data": {
      "text/plain": [
       "False"
      ]
     },
     "execution_count": 23,
     "metadata": {},
     "output_type": "execute_result"
    }
   ],
   "source": [
    "\"module\" == \"MODULE\""
   ]
  },
  {
   "cell_type": "code",
   "execution_count": 27,
   "id": "84a43b2d-c458-42ba-aab6-936994494f07",
   "metadata": {},
   "outputs": [
    {
     "data": {
      "text/plain": [
       "False"
      ]
     },
     "execution_count": 27,
     "metadata": {},
     "output_type": "execute_result"
    }
   ],
   "source": [
    "x = 6\n",
    "5 > x"
   ]
  },
  {
   "cell_type": "code",
   "execution_count": 28,
   "id": "2b91ea55-8a9a-48b7-aeda-d2e4a70e8ed5",
   "metadata": {},
   "outputs": [
    {
     "data": {
      "text/plain": [
       "True"
      ]
     },
     "execution_count": 28,
     "metadata": {},
     "output_type": "execute_result"
    }
   ],
   "source": [
    "5 < x < 15"
   ]
  },
  {
   "cell_type": "code",
   "execution_count": 30,
   "id": "3e6d98db-f82c-4ab5-ab30-a12904f24ba0",
   "metadata": {},
   "outputs": [
    {
     "data": {
      "text/plain": [
       "True"
      ]
     },
     "execution_count": 30,
     "metadata": {},
     "output_type": "execute_result"
    }
   ],
   "source": [
    "x < 5 or x > 5"
   ]
  },
  {
   "attachments": {},
   "cell_type": "markdown",
   "id": "af5f8e90",
   "metadata": {},
   "source": [
    "# 4 Python stores information in different formats or types"
   ]
  },
  {
   "cell_type": "markdown",
   "id": "34f7daa0-c3e6-4473-bb57-778a2dd480ed",
   "metadata": {},
   "source": [
    "- int will make it an integer by dropping the decimal part, no rounding up\n",
    "- float is number w decimals.\n",
    "- complex will include imaginary part of the number: number + 0j\n",
    "- str is string\n",
    "- CAN CONVERT STR TO FLOAT OR VICE VERSA\n",
    "- can check the type of information storage by typing type(\"__\") or print(type(\"__\")"
   ]
  },
  {
   "cell_type": "code",
   "execution_count": 36,
   "id": "fc120e09-97e7-4dfc-a22b-4150074c28fd",
   "metadata": {},
   "outputs": [
    {
     "name": "stdout",
     "output_type": "stream",
     "text": [
      "1\n",
      "<class 'float'>\n"
     ]
    }
   ],
   "source": [
    "x = 1.234\n",
    "x_int = int(x)\n",
    "print(x_int)\n",
    "y = 1.99\n",
    "print(type(y))"
   ]
  },
  {
   "cell_type": "code",
   "execution_count": 46,
   "id": "59a0a8ce-8c42-4fa4-935a-6d5de5147060",
   "metadata": {},
   "outputs": [
    {
     "name": "stdout",
     "output_type": "stream",
     "text": [
      "9.4224\n"
     ]
    },
    {
     "data": {
      "text/plain": [
       "str"
      ]
     },
     "execution_count": 46,
     "metadata": {},
     "output_type": "execute_result"
    }
   ],
   "source": [
    "x = 9.4224\n",
    "x_str = str(x)\n",
    "print(x_str)\n",
    "type(x_str)"
   ]
  },
  {
   "cell_type": "code",
   "execution_count": 47,
   "id": "b1a79868-6411-47db-9fec-fc749140394f",
   "metadata": {},
   "outputs": [
    {
     "data": {
      "text/plain": [
       "True"
      ]
     },
     "execution_count": 47,
     "metadata": {},
     "output_type": "execute_result"
    }
   ],
   "source": [
    "x = 9.4224\n",
    "x_str = str(x)\n",
    "x_str < \"A\""
   ]
  },
  {
   "cell_type": "code",
   "execution_count": 45,
   "id": "1e2155c9-7388-4afb-b9c3-278c95523315",
   "metadata": {},
   "outputs": [
    {
     "name": "stdout",
     "output_type": "stream",
     "text": [
      "(89+0j) <class 'float'>\n"
     ]
    }
   ],
   "source": [
    "z = complex(89)\n",
    "print(z, type(x))"
   ]
  },
  {
   "attachments": {},
   "cell_type": "markdown",
   "id": "339a0b62",
   "metadata": {},
   "source": [
    "# 5 Never compare floats directly"
   ]
  },
  {
   "cell_type": "markdown",
   "id": "2e25fc8f-0892-4991-9bea-d72fef6c316e",
   "metadata": {},
   "source": [
    "computers have finite hardware resources so floating point numbers cannot be exactly stored in a computer. leads to **roundoff errors**"
   ]
  },
  {
   "attachments": {},
   "cell_type": "markdown",
   "id": "f401ad04",
   "metadata": {},
   "source": [
    "## 5.1 The Problem"
   ]
  },
  {
   "cell_type": "code",
   "execution_count": 49,
   "id": "d7ebefca-5267-40dc-b5fa-2946dcee20f9",
   "metadata": {},
   "outputs": [
    {
     "data": {
      "text/plain": [
       "False"
      ]
     },
     "execution_count": 49,
     "metadata": {},
     "output_type": "execute_result"
    }
   ],
   "source": [
    "# 0.3 is NOT 0.3???\n",
    "a1 = .1\n",
    "a3 = .3\n",
    "a1 * 3 == a3"
   ]
  },
  {
   "cell_type": "code",
   "execution_count": 71,
   "id": "f2c0137d-940f-492b-9622-29e6e014dc91",
   "metadata": {},
   "outputs": [
    {
     "data": {
      "text/plain": [
       "'0.29999999999999999'"
      ]
     },
     "execution_count": 71,
     "metadata": {},
     "output_type": "execute_result"
    }
   ],
   "source": [
    "#PRINTING NUMBERS TO DECIMAL PLACES. if it is 17e then will be in scientific notation. f is decimal notation\n",
    "f'{0.3:.17f}'"
   ]
  },
  {
   "cell_type": "code",
   "execution_count": 114,
   "id": "7febcdbb-1856-4561-af01-cd030dcd5e4c",
   "metadata": {},
   "outputs": [
    {
     "data": {
      "text/plain": [
       "'2.99999999999999989e-01'"
      ]
     },
     "execution_count": 114,
     "metadata": {},
     "output_type": "execute_result"
    }
   ],
   "source": [
    "f'{0.3:.17e}'"
   ]
  },
  {
   "cell_type": "code",
   "execution_count": 62,
   "id": "817a3d00-c0cd-449d-99f3-91a61bde156c",
   "metadata": {},
   "outputs": [
    {
     "data": {
      "text/plain": [
       "'0.300'"
      ]
     },
     "execution_count": 62,
     "metadata": {},
     "output_type": "execute_result"
    }
   ],
   "source": [
    "f'{0.3:.3f}'"
   ]
  },
  {
   "cell_type": "code",
   "execution_count": 63,
   "id": "21ca038a-2f9c-47cb-aa19-c9e03f9e4288",
   "metadata": {},
   "outputs": [
    {
     "data": {
      "text/plain": [
       "'0.3'"
      ]
     },
     "execution_count": 63,
     "metadata": {},
     "output_type": "execute_result"
    }
   ],
   "source": [
    "f'{0.3:.1f}'"
   ]
  },
  {
   "attachments": {},
   "cell_type": "markdown",
   "id": "53720720",
   "metadata": {},
   "source": [
    "## 5.2 A solution"
   ]
  },
  {
   "cell_type": "markdown",
   "id": "0f271c30-09d1-4723-884f-fd4edc48d42d",
   "metadata": {},
   "source": [
    "asking if the variable is CLOSE to the expected value instead of checking for equality"
   ]
  },
  {
   "cell_type": "code",
   "execution_count": 70,
   "id": "1625acd5-4bcc-4f44-861f-aa7107d67cf5",
   "metadata": {},
   "outputs": [
    {
     "name": "stdout",
     "output_type": "stream",
     "text": [
      "1e-10\n"
     ]
    }
   ],
   "source": [
    "smol = 1E-10 #this is a very small number, 0.00000000001\n",
    "abs(a1 * 3 - a3) < smol # asking if the diff btw a1*3 and a3 is less than that value\n",
    "print(smol)"
   ]
  },
  {
   "attachments": {},
   "cell_type": "markdown",
   "id": "ecf4c0ba",
   "metadata": {},
   "source": [
    "# 6 Combining English and variables using {}, can use math directly inside but must put f first"
   ]
  },
  {
   "cell_type": "code",
   "execution_count": 77,
   "id": "ae924fd2-c997-4f88-9b4b-75d8acb51ecc",
   "metadata": {},
   "outputs": [
    {
     "name": "stdout",
     "output_type": "stream",
     "text": [
      "hello nus!\n",
      "NUS\n"
     ]
    }
   ],
   "source": [
    "name = \"nus\" \n",
    "print(f\"hello {name}!\") #use {} to denote name, put f first\n",
    "print(name.upper()) #UPPERCASE"
   ]
  },
  {
   "cell_type": "code",
   "execution_count": 83,
   "id": "acc31899-be34-446f-bd27-4e253d9bbb4d",
   "metadata": {},
   "outputs": [],
   "source": [
    "import math"
   ]
  },
  {
   "cell_type": "code",
   "execution_count": 90,
   "id": "40f58f90-14cb-472e-bd9c-f44ceff40683",
   "metadata": {},
   "outputs": [
    {
     "name": "stdout",
     "output_type": "stream",
     "text": [
      "the square of 4 is 16!\n",
      "the sqrt of 25 is 5!!!\n"
     ]
    }
   ],
   "source": [
    "x = 4\n",
    "print(f\"the square of {x} is {x**2}!\")\n",
    "\n",
    "print(f\"the sqrt of {25} is {int(math.sqrt(25))}!!!\")\n",
    "\n",
    "##can use both int and math fxns in f strings, but make sure to import math first. if never int(), will show 5.0 as a float number"
   ]
  },
  {
   "cell_type": "code",
   "execution_count": 110,
   "id": "62bb5159-0ccc-4cbf-b91a-96a45b12fa79",
   "metadata": {},
   "outputs": [
    {
     "name": "stdout",
     "output_type": "stream",
     "text": [
      "                                                                                   egg mayo sandwich\n",
      "                                         egg mayo sandwich                                          \n",
      "egg mayo sandwich                                                                                   \n"
     ]
    }
   ],
   "source": [
    "#f strings can be used for alignment\n",
    "\n",
    "text = \"egg mayo sandwich\"\n",
    "print(f'{text:>100}') # a block of 50 characters, aligned right\n",
    "print(f'{text:^100}') #aligned centre\n",
    "print(f'{text:<100}') #aligned left"
   ]
  },
  {
   "cell_type": "code",
   "execution_count": 115,
   "id": "afd43736-ecff-435d-ad56-ef4668dd95ec",
   "metadata": {},
   "outputs": [
    {
     "name": "stdout",
     "output_type": "stream",
     "text": [
      "3.141592653589793\n",
      "the cube of pi to 7 dp is 31.0062767\n",
      "the cube of pi to 7 dp is 3.1006277e+01\n"
     ]
    }
   ],
   "source": [
    "#using f string to format numbers\n",
    "\n",
    "print(math.pi)\n",
    "print(f\"the cube of pi to 7 dp is {math.pi **3:.7f}\")\n",
    "print(f\"the cube of pi to 7 dp is {math.pi **3:.7e}\")\n",
    "\n",
    "#f in 7f is for decimal notation, 7e would be for scientific notation"
   ]
  },
  {
   "attachments": {},
   "cell_type": "markdown",
   "id": "5f3a7ce8",
   "metadata": {},
   "source": [
    "## 6.1 Structure of f-strings"
   ]
  },
  {
   "cell_type": "markdown",
   "id": "33079498-a0f6-41f6-8232-06f92d584c50",
   "metadata": {},
   "source": [
    "f-string formatting has the structure {X:>0Y.ZW}.\n",
    "X: variable to format (can be number or string)\n",
    "< > ^: alignment\n",
    "Y total no. of chars\n",
    "Z total no. of dp\n",
    "W specify type of var (f for float, d for int, s for str, g is python to figure out)"
   ]
  },
  {
   "attachments": {},
   "cell_type": "markdown",
   "id": "c2bf3ff9",
   "metadata": {},
   "source": [
    "# 7 Escape sequences - for line breaks or adding tabs"
   ]
  },
  {
   "cell_type": "markdown",
   "id": "ee4d4fe9-8aec-4989-88d0-fcac29d26bb4",
   "metadata": {},
   "source": [
    "\\n is for line break\n",
    "\\t is for addng tab\n",
    "\\; single quote\n",
    "\\\\ backslash"
   ]
  },
  {
   "cell_type": "code",
   "execution_count": 123,
   "id": "7a32b49d-b3b5-49d0-bc53-35cfc07e336f",
   "metadata": {},
   "outputs": [
    {
     "name": "stdout",
     "output_type": "stream",
     "text": [
      "You're twenty years old.\n",
      "You're twenty years old.\n",
      "A\\B\\C\n",
      "A\\B\\C\n",
      "A\n",
      "B\n",
      "C\n",
      "A\tB\tC\n"
     ]
    }
   ],
   "source": [
    "print(\"You're twenty years old.\") #just use these...\n",
    "print('You\\'re twenty years old.')\n",
    "print('A\\B\\C') #backslash seems to be printing fine contrary to the SP2273 notes?\n",
    "print('A\\\\B\\\\C')\n",
    "print('A\\nB\\nC') # \\n for line break\n",
    "print('A\\tB\\tC') # \\t for tab break"
   ]
  },
  {
   "attachments": {},
   "cell_type": "markdown",
   "id": "441a4c6f",
   "metadata": {},
   "source": [
    "# 8 Computers read = from Right to Left!"
   ]
  },
  {
   "cell_type": "code",
   "execution_count": 126,
   "id": "ed6d9518-f251-42ae-8ade-02f067608e0a",
   "metadata": {},
   "outputs": [
    {
     "name": "stdout",
     "output_type": "stream",
     "text": [
      "42\n"
     ]
    }
   ],
   "source": [
    "# x = 40 means 40 is assigned to x\n",
    "x = 40\n",
    "x = x + 2\n",
    "print(x)"
   ]
  },
  {
   "attachments": {},
   "cell_type": "markdown",
   "id": "26b3ffb5",
   "metadata": {},
   "source": [
    "# 9 Shorter and Cleaner Code"
   ]
  },
  {
   "cell_type": "code",
   "execution_count": 127,
   "id": "9d4e6d38-fb15-4cf9-a608-4147ec1a341f",
   "metadata": {},
   "outputs": [
    {
     "data": {
      "text/plain": [
       "91"
      ]
     },
     "execution_count": 127,
     "metadata": {},
     "output_type": "execute_result"
    }
   ],
   "source": [
    "# an equivalent of x = x + 2 or similar is x +=2\n",
    "\n",
    "g = 89\n",
    "g += 2\n",
    "g"
   ]
  },
  {
   "attachments": {},
   "cell_type": "markdown",
   "id": "dfd47e0f",
   "metadata": {},
   "source": [
    "# 10 Python can be a prima-donna."
   ]
  },
  {
   "cell_type": "markdown",
   "id": "4fd7d98a-89a5-4d80-952d-dbeac520c97e",
   "metadata": {},
   "source": [
    "fixing coding errors is called debugging"
   ]
  },
  {
   "attachments": {},
   "cell_type": "markdown",
   "id": "5ce8725d",
   "metadata": {},
   "source": [
    "# 11 Best Practices for Scientific Computing"
   ]
  },
  {
   "cell_type": "markdown",
   "id": "244a3b06-328c-410a-9e63-5d4a501eb89c",
   "metadata": {},
   "source": [
    "1. write progs for ppl not computers\n",
    "2. optimise software only after works correctly\n",
    "3. document design and purpose not mechanics\n",
    "4. collabs\n",
    "\n",
    "all these are impt for others (and future self) to uds ur code \n",
    "\n",
    "start simple and get smth to work first before perfecting it"
   ]
  },
  {
   "attachments": {},
   "cell_type": "markdown",
   "id": "b2e0a610",
   "metadata": {},
   "source": [
    "# 12 Looking for help"
   ]
  },
  {
   "cell_type": "markdown",
   "id": "83750f30-86ad-4d0d-bf59-0e61d727f94c",
   "metadata": {},
   "source": [
    "google or chatgpt best"
   ]
  },
  {
   "attachments": {},
   "cell_type": "markdown",
   "id": "61823fdd",
   "metadata": {},
   "source": [
    "## References"
   ]
  },
  {
   "attachments": {},
   "cell_type": "markdown",
   "id": "7bc2906e",
   "metadata": {},
   "source": [
    "## Footnotes"
   ]
  }
 ],
 "metadata": {
  "kernelspec": {
   "display_name": "Python 3 (ipykernel)",
   "language": "python",
   "name": "python3"
  },
  "language_info": {
   "codemirror_mode": {
    "name": "ipython",
    "version": 3
   },
   "file_extension": ".py",
   "mimetype": "text/x-python",
   "name": "python",
   "nbconvert_exporter": "python",
   "pygments_lexer": "ipython3",
   "version": "3.11.5"
  },
  "toc": {
   "base_numbering": 1,
   "nav_menu": {},
   "number_sections": true,
   "sideBar": true,
   "skip_h1_title": false,
   "title_cell": "Table of Contents",
   "title_sidebar": "Contents",
   "toc_cell": false,
   "toc_position": {},
   "toc_section_display": true,
   "toc_window_display": false
  },
  "vscode": {
   "interpreter": {
    "hash": "31f2aee4e71d21fbe5cf8b01ff0e069b9275f58929596ceb00d14d90e3e16cd6"
   }
  }
 },
 "nbformat": 4,
 "nbformat_minor": 5
}
